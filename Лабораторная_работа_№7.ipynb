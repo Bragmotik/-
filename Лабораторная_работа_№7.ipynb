{
  "nbformat": 4,
  "nbformat_minor": 0,
  "metadata": {
    "colab": {
      "name": "Лабораторная работа №7",
      "provenance": [],
      "collapsed_sections": [],
      "authorship_tag": "ABX9TyPfoU/khcrMmNKOA73lCmKT",
      "include_colab_link": true
    },
    "kernelspec": {
      "name": "python3",
      "display_name": "Python 3"
    },
    "language_info": {
      "name": "python"
    }
  },
  "cells": [
    {
      "cell_type": "markdown",
      "metadata": {
        "id": "view-in-github",
        "colab_type": "text"
      },
      "source": [
        "<a href=\"https://colab.research.google.com/github/Bragmotik/laboratory/blob/main/%D0%9B%D0%B0%D0%B1%D0%BE%D1%80%D0%B0%D1%82%D0%BE%D1%80%D0%BD%D0%B0%D1%8F_%D1%80%D0%B0%D0%B1%D0%BE%D1%82%D0%B0_%E2%84%967.ipynb\" target=\"_parent\"><img src=\"https://colab.research.google.com/assets/colab-badge.svg\" alt=\"Open In Colab\"/></a>"
      ]
    },
    {
      "cell_type": "markdown",
      "metadata": {
        "id": "3DuBLRIGfuh4"
      },
      "source": [
        "# Яковлева Ольга\n",
        "# АДЭУ-201"
      ]
    },
    {
      "cell_type": "code",
      "metadata": {
        "id": "Ps3K6xmCJU_w",
        "colab": {
          "base_uri": "https://localhost:8080/",
          "height": 419
        },
        "outputId": "6ee93d47-5f0e-486a-c1e7-fddfe4339859"
      },
      "source": [
        "import requests\n",
        "import pandas as pd\n",
        "import seaborn as sns\n",
        "import matplotlib.pyplot as plt\n",
        "from sklearn.preprocessing import StandardScaler\n",
        "from sklearn.preprocessing import MinMaxScaler\n",
        "from math import sqrt\n",
        "#Importing the data from the webpage into a DataFrame\n",
        "url='http://pogoda-service.ru/archive_gsod_res.php?country=AL&station=136220&datepicker_beg=01.12.2010&datepicker_end=01.12.2020&bsubmit=%D0%9F%D0%BE%D1%81%D0%BC%D0%BE%D1%82%D1%80%D0%B5%D1%82%D1%8C'\n",
        "req=requests.get(url)\n",
        "data=pd.read_html(req.text)\n",
        "df=data[0]\n",
        "df.drop(df.columns[[1,2,4,7,6,5]], axis=1, inplace=True)\n",
        "df.columns=['Date','Temp']\n",
        "df"
      ],
      "execution_count": null,
      "outputs": [
        {
          "output_type": "execute_result",
          "data": {
            "text/html": [
              "<div>\n",
              "<style scoped>\n",
              "    .dataframe tbody tr th:only-of-type {\n",
              "        vertical-align: middle;\n",
              "    }\n",
              "\n",
              "    .dataframe tbody tr th {\n",
              "        vertical-align: top;\n",
              "    }\n",
              "\n",
              "    .dataframe thead th {\n",
              "        text-align: right;\n",
              "    }\n",
              "</style>\n",
              "<table border=\"1\" class=\"dataframe\">\n",
              "  <thead>\n",
              "    <tr style=\"text-align: right;\">\n",
              "      <th></th>\n",
              "      <th>Date</th>\n",
              "      <th>Temp</th>\n",
              "    </tr>\n",
              "  </thead>\n",
              "  <tbody>\n",
              "    <tr>\n",
              "      <th>0</th>\n",
              "      <td>29.05.2011</td>\n",
              "      <td>22.8</td>\n",
              "    </tr>\n",
              "    <tr>\n",
              "      <th>1</th>\n",
              "      <td>01.06.2011</td>\n",
              "      <td>22.9</td>\n",
              "    </tr>\n",
              "    <tr>\n",
              "      <th>2</th>\n",
              "      <td>03.06.2011</td>\n",
              "      <td>22.3</td>\n",
              "    </tr>\n",
              "    <tr>\n",
              "      <th>3</th>\n",
              "      <td>05.06.2011</td>\n",
              "      <td>22.8</td>\n",
              "    </tr>\n",
              "    <tr>\n",
              "      <th>4</th>\n",
              "      <td>09.06.2011</td>\n",
              "      <td>24.8</td>\n",
              "    </tr>\n",
              "    <tr>\n",
              "      <th>...</th>\n",
              "      <td>...</td>\n",
              "      <td>...</td>\n",
              "    </tr>\n",
              "    <tr>\n",
              "      <th>995</th>\n",
              "      <td>05.05.2014</td>\n",
              "      <td>16.7</td>\n",
              "    </tr>\n",
              "    <tr>\n",
              "      <th>996</th>\n",
              "      <td>06.05.2014</td>\n",
              "      <td>17.8</td>\n",
              "    </tr>\n",
              "    <tr>\n",
              "      <th>997</th>\n",
              "      <td>07.05.2014</td>\n",
              "      <td>18.3</td>\n",
              "    </tr>\n",
              "    <tr>\n",
              "      <th>998</th>\n",
              "      <td>08.05.2014</td>\n",
              "      <td>18.6</td>\n",
              "    </tr>\n",
              "    <tr>\n",
              "      <th>999</th>\n",
              "      <td>09.05.2014</td>\n",
              "      <td>19.6</td>\n",
              "    </tr>\n",
              "  </tbody>\n",
              "</table>\n",
              "<p>1000 rows × 2 columns</p>\n",
              "</div>"
            ],
            "text/plain": [
              "           Date  Temp\n",
              "0    29.05.2011  22.8\n",
              "1    01.06.2011  22.9\n",
              "2    03.06.2011  22.3\n",
              "3    05.06.2011  22.8\n",
              "4    09.06.2011  24.8\n",
              "..          ...   ...\n",
              "995  05.05.2014  16.7\n",
              "996  06.05.2014  17.8\n",
              "997  07.05.2014  18.3\n",
              "998  08.05.2014  18.6\n",
              "999  09.05.2014  19.6\n",
              "\n",
              "[1000 rows x 2 columns]"
            ]
          },
          "metadata": {
            "tags": []
          },
          "execution_count": 1
        }
      ]
    },
    {
      "cell_type": "markdown",
      "metadata": {
        "id": "13QDLXNM6qnT"
      },
      "source": [
        "# Нормализация"
      ]
    },
    {
      "cell_type": "code",
      "metadata": {
        "id": "kOhsR_UbZXaa"
      },
      "source": [
        "temp=df['Temp'].values\n",
        "temp=temp.reshape((len(temp),1))"
      ],
      "execution_count": null,
      "outputs": []
    },
    {
      "cell_type": "code",
      "metadata": {
        "id": "2ADPXQVibJ95"
      },
      "source": [
        "scaler=MinMaxScaler(feature_range=(0,1))\n",
        "scaler=scaler.fit(temp)"
      ],
      "execution_count": null,
      "outputs": []
    },
    {
      "cell_type": "code",
      "metadata": {
        "colab": {
          "base_uri": "https://localhost:8080/"
        },
        "id": "Fhxrx-PmdgUC",
        "outputId": "03ea30e2-2804-41c7-a786-8ee82fa17b35"
      },
      "source": [
        "print('Min: %f, Max:%f' % (scaler.data_min_, scaler.data_max_))"
      ],
      "execution_count": null,
      "outputs": [
        {
          "output_type": "stream",
          "text": [
            "Min: 3.100000, Max:32.500000\n"
          ],
          "name": "stdout"
        }
      ]
    },
    {
      "cell_type": "code",
      "metadata": {
        "colab": {
          "base_uri": "https://localhost:8080/"
        },
        "id": "UbdDSqeze1dx",
        "outputId": "1fe10d23-c4b2-453b-e469-985f4dd821c5"
      },
      "source": [
        "normalized=scaler.transform(temp)\n",
        "for i in range(5):\n",
        "  print(normalized[i])"
      ],
      "execution_count": null,
      "outputs": [
        {
          "output_type": "stream",
          "text": [
            "[0.67006803]\n",
            "[0.67346939]\n",
            "[0.65306122]\n",
            "[0.67006803]\n",
            "[0.73809524]\n"
          ],
          "name": "stdout"
        }
      ]
    },
    {
      "cell_type": "code",
      "metadata": {
        "colab": {
          "base_uri": "https://localhost:8080/"
        },
        "id": "M5C3yyTZ8BVN",
        "outputId": "1b3911b0-ee46-4b2f-c736-840e30b02cea"
      },
      "source": [
        "inversed=scaler.inverse_transform(normalized)\n",
        "for i in range(5):\n",
        "  print(inversed[i])"
      ],
      "execution_count": null,
      "outputs": [
        {
          "output_type": "stream",
          "text": [
            "[22.8]\n",
            "[22.9]\n",
            "[22.3]\n",
            "[22.8]\n",
            "[24.8]\n"
          ],
          "name": "stdout"
        }
      ]
    },
    {
      "cell_type": "markdown",
      "metadata": {
        "id": "IYM9r3RM8X-u"
      },
      "source": [
        "# Стандартизация"
      ]
    },
    {
      "cell_type": "code",
      "metadata": {
        "id": "XsLmDcEN8Wt7"
      },
      "source": [
        "scaler1=StandardScaler()\n",
        "scaler1=scaler1.fit(temp)"
      ],
      "execution_count": null,
      "outputs": []
    },
    {
      "cell_type": "code",
      "metadata": {
        "colab": {
          "base_uri": "https://localhost:8080/"
        },
        "id": "gWATw0wL9dHj",
        "outputId": "27da45d8-f310-4f47-8172-60d8c386dd4d"
      },
      "source": [
        "print('Mean: %f, StandartDevitation: %f' % (scaler1.mean_, sqrt(scaler1.var_)))"
      ],
      "execution_count": null,
      "outputs": [
        {
          "output_type": "stream",
          "text": [
            "Mean: 18.653000, StandartDevitation: 7.101388\n"
          ],
          "name": "stdout"
        }
      ]
    },
    {
      "cell_type": "code",
      "metadata": {
        "colab": {
          "base_uri": "https://localhost:8080/"
        },
        "id": "urhLhF7C9cyL",
        "outputId": "67aa56b7-f0ee-478e-8715-1d101ccffaa3"
      },
      "source": [
        "standartisation=scaler1.transform(temp)\n",
        "for i in range(5):\n",
        "  print(standartisation[i])"
      ],
      "execution_count": null,
      "outputs": [
        {
          "output_type": "stream",
          "text": [
            "[0.58397035]\n",
            "[0.5980521]\n",
            "[0.51356158]\n",
            "[0.58397035]\n",
            "[0.86560543]\n"
          ],
          "name": "stdout"
        }
      ]
    },
    {
      "cell_type": "code",
      "metadata": {
        "colab": {
          "base_uri": "https://localhost:8080/"
        },
        "id": "DvO0MMbA9ccE",
        "outputId": "11b3be78-81e6-47bc-dd23-0873bf609dde"
      },
      "source": [
        "inversed1=scaler1.inverse_transform(standartisation)\n",
        "for i in range(5):\n",
        "  print(inversed1[i])"
      ],
      "execution_count": null,
      "outputs": [
        {
          "output_type": "stream",
          "text": [
            "[22.8]\n",
            "[22.9]\n",
            "[22.3]\n",
            "[22.8]\n",
            "[24.8]\n"
          ],
          "name": "stdout"
        }
      ]
    },
    {
      "cell_type": "markdown",
      "metadata": {
        "id": "fvBrJRf4Wi4o"
      },
      "source": [
        "# Таблица итогов"
      ]
    },
    {
      "cell_type": "code",
      "metadata": {
        "id": "6-LO2lbtWXiZ"
      },
      "source": [
        "df=pd.DataFrame({'Min':scaler.data_min_, 'Max': scaler.data_max_, 'Среднее': scaler1.mean_, \"Стандартное отклонение\": sqrt(scaler1.var_)})"
      ],
      "execution_count": null,
      "outputs": []
    },
    {
      "cell_type": "code",
      "metadata": {
        "colab": {
          "base_uri": "https://localhost:8080/",
          "height": 111
        },
        "id": "g8CHwKrwbi5B",
        "outputId": "927aeb4d-4317-4020-cee6-82a5a8b8c947"
      },
      "source": [
        "arrays = [['Нормализация', 'Нормализация', 'Стандартизация', 'Стандартизация'], df.columns]\n",
        "df.columns = pd.MultiIndex.from_arrays(arrays)\n",
        "df"
      ],
      "execution_count": null,
      "outputs": [
        {
          "output_type": "execute_result",
          "data": {
            "text/html": [
              "<div>\n",
              "<style scoped>\n",
              "    .dataframe tbody tr th:only-of-type {\n",
              "        vertical-align: middle;\n",
              "    }\n",
              "\n",
              "    .dataframe tbody tr th {\n",
              "        vertical-align: top;\n",
              "    }\n",
              "\n",
              "    .dataframe thead tr th {\n",
              "        text-align: left;\n",
              "    }\n",
              "</style>\n",
              "<table border=\"1\" class=\"dataframe\">\n",
              "  <thead>\n",
              "    <tr>\n",
              "      <th></th>\n",
              "      <th colspan=\"2\" halign=\"left\">Нормализация</th>\n",
              "      <th colspan=\"2\" halign=\"left\">Стандартизация</th>\n",
              "    </tr>\n",
              "    <tr>\n",
              "      <th></th>\n",
              "      <th>Min</th>\n",
              "      <th>Max</th>\n",
              "      <th>Среднее</th>\n",
              "      <th>Стандартное отклонение</th>\n",
              "    </tr>\n",
              "  </thead>\n",
              "  <tbody>\n",
              "    <tr>\n",
              "      <th>0</th>\n",
              "      <td>3.1</td>\n",
              "      <td>32.5</td>\n",
              "      <td>18.653</td>\n",
              "      <td>7.101388</td>\n",
              "    </tr>\n",
              "  </tbody>\n",
              "</table>\n",
              "</div>"
            ],
            "text/plain": [
              "  Нормализация       Стандартизация                       \n",
              "           Min   Max        Среднее Стандартное отклонение\n",
              "0          3.1  32.5         18.653               7.101388"
            ]
          },
          "metadata": {
            "tags": []
          },
          "execution_count": 70
        }
      ]
    }
  ]
}