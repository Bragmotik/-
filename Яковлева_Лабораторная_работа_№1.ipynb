{
  "nbformat": 4,
  "nbformat_minor": 0,
  "metadata": {
    "colab": {
      "name": "Яковлева. Лабораторная работа №1",
      "provenance": [],
      "collapsed_sections": [],
      "authorship_tag": "ABX9TyN7S+9Vc9V9bLf0reJK0W/R",
      "include_colab_link": true
    },
    "kernelspec": {
      "display_name": "Python 3",
      "name": "python3"
    }
  },
  "cells": [
    {
      "cell_type": "markdown",
      "metadata": {
        "id": "view-in-github",
        "colab_type": "text"
      },
      "source": [
        "<a href=\"https://colab.research.google.com/github/Bragmotik/laboratory/blob/main/%D0%AF%D0%BA%D0%BE%D0%B2%D0%BB%D0%B5%D0%B2%D0%B0_%D0%9B%D0%B0%D0%B1%D0%BE%D1%80%D0%B0%D1%82%D0%BE%D1%80%D0%BD%D0%B0%D1%8F_%D1%80%D0%B0%D0%B1%D0%BE%D1%82%D0%B0_%E2%84%961.ipynb\" target=\"_parent\"><img src=\"https://colab.research.google.com/assets/colab-badge.svg\" alt=\"Open In Colab\"/></a>"
      ]
    },
    {
      "cell_type": "markdown",
      "metadata": {
        "id": "QXIszfUJIPN2"
      },
      "source": [
        "1.2. Посчитайте размер матрицы Z в байтах и выведите его на печать. Чтобы узнать\r\n",
        "размер (в байтах) 1 элемента матрицы используйте\r\n",
        "атрибут https://docs.scipy.org/doc/numpy1.15.1/reference/generated/numpy.ndarray.itemsize.html\r\n",
        "Примечание. В этой задаче не нужно ничего считывать - матрица Z уже заполнена.\r\n",
        "Sample Input 1:\r\n",
        "np.zeros((10,10))\r\n",
        "Sample Output 1:\r\n",
        "800\r\n",
        "Sample Input 2:\r\n",
        "np.array([1,2,3], dtype=np.float64)\r\n",
        "Sample Output 2:\r\n",
        "24"
      ]
    },
    {
      "cell_type": "code",
      "metadata": {
        "id": "j_zhUC2pH2O3"
      },
      "source": [
        "import timeit\n",
        "import numpy as np\n",
        " \n",
        "def python(byte):\n",
        "    Z = byte\n",
        "    len(Z)*8\n",
        " \n",
        "def mat(byte):\n",
        "    Z = np.array(byte)\n",
        "    Z.itemsize*Z.size\n",
        " \n",
        "if __name__ == '__main__':\n",
        "    start_time = timeit.default_timer();\n",
        "    python([1, 3, 6, 7, 8])\n",
        "    range_time_1 = timeit.default_timer()- start_time\n",
        "  \n",
        "    start_time = timeit.default_timer();\n",
        "    mat([1, 3, 6, 7, 8])\n",
        "    arange_time_1 = timeit.default_timer()- start_time\n",
        " \n",
        "    start_time = timeit.default_timer();\n",
        "    python(np.zeros((10,10)))\n",
        "    range_time_2 = timeit.default_timer()- start_time\n",
        "  \n",
        "    start_time = timeit.default_timer();\n",
        "    mat(np.zeros((10, 10)))\n",
        "    arange_time_2 = timeit.default_timer()- start_time"
      ],
      "execution_count": 1,
      "outputs": []
    },
    {
      "cell_type": "code",
      "metadata": {
        "id": "2S2VVmFlfSIO",
        "colab": {
          "base_uri": "https://localhost:8080/"
        },
        "outputId": "7184d507-b290-4c0a-bc47-ddae9d6b5133"
      },
      "source": [
        "print('Array [1, 3, 6, 7, 8]')\n",
        "print(f'size of array [1, 3, 6, 7, 8]: range() время {range_time_1}')\n",
        "print(f'size of array [1, 3, 6, 7, 8] arange() время {arange_time_1}')\n",
        " \n",
        "print('Array 10×10')\n",
        "print(f'size of array 10×10: range() время {range_time_2}')\n",
        "print(f'size of array 10×10: arange() время {arange_time_2}')\n"
      ],
      "execution_count": 3,
      "outputs": [
        {
          "output_type": "stream",
          "text": [
            "Array [1, 3, 6, 7, 8]\n",
            "size of array [1, 3, 6, 7, 8]: range() время 1.484999756939942e-06\n",
            "size of array [1, 3, 6, 7, 8] arange() время 0.0001226960002895794\n",
            "Array 10×10\n",
            "size of array 10×10: range() время 4.2950000079144957e-05\n",
            "size of array 10×10: arange() время 4.405800018503214e-05\n"
          ],
          "name": "stdout"
        }
      ]
    },
    {
      "cell_type": "code",
      "metadata": {
        "id": "ONqA900kRUBD",
        "colab": {
          "base_uri": "https://localhost:8080/"
        },
        "outputId": "fa9f7f59-4924-486a-d7fd-25a48175be02"
      },
      "source": [
        "Z=np.zeros((10,10))\n",
        "Z.itemsize*Z.size"
      ],
      "execution_count": 5,
      "outputs": [
        {
          "output_type": "execute_result",
          "data": {
            "text/plain": [
              "800"
            ]
          },
          "metadata": {
            "tags": []
          },
          "execution_count": 5
        }
      ]
    },
    {
      "cell_type": "code",
      "metadata": {
        "colab": {
          "base_uri": "https://localhost:8080/"
        },
        "id": "XM8UrnpGlMHm",
        "outputId": "18f2ecc0-7c9f-48fd-abb5-db59363678b5"
      },
      "source": [
        "print(Z)"
      ],
      "execution_count": 7,
      "outputs": [
        {
          "output_type": "stream",
          "text": [
            "[[0. 0. 0. 0. 0. 0. 0. 0. 0. 0.]\n",
            " [0. 0. 0. 0. 0. 0. 0. 0. 0. 0.]\n",
            " [0. 0. 0. 0. 0. 0. 0. 0. 0. 0.]\n",
            " [0. 0. 0. 0. 0. 0. 0. 0. 0. 0.]\n",
            " [0. 0. 0. 0. 0. 0. 0. 0. 0. 0.]\n",
            " [0. 0. 0. 0. 0. 0. 0. 0. 0. 0.]\n",
            " [0. 0. 0. 0. 0. 0. 0. 0. 0. 0.]\n",
            " [0. 0. 0. 0. 0. 0. 0. 0. 0. 0.]\n",
            " [0. 0. 0. 0. 0. 0. 0. 0. 0. 0.]\n",
            " [0. 0. 0. 0. 0. 0. 0. 0. 0. 0.]]\n"
          ],
          "name": "stdout"
        }
      ]
    },
    {
      "cell_type": "code",
      "metadata": {
        "id": "SkuupTQzAv3A",
        "colab": {
          "base_uri": "https://localhost:8080/"
        },
        "outputId": "17c0d689-00f5-40cc-ac93-aa80560134a9"
      },
      "source": [
        "Z=np.array([1,2,3], dtype=np.float64)\n",
        "Z.itemsize*Z.size"
      ],
      "execution_count": 8,
      "outputs": [
        {
          "output_type": "execute_result",
          "data": {
            "text/plain": [
              "24"
            ]
          },
          "metadata": {
            "tags": []
          },
          "execution_count": 8
        }
      ]
    },
    {
      "cell_type": "code",
      "metadata": {
        "colab": {
          "base_uri": "https://localhost:8080/"
        },
        "id": "pM12RRXLlUaX",
        "outputId": "7aa17462-77a1-4afe-daf1-615e4074b345"
      },
      "source": [
        "print(Z)\r\n"
      ],
      "execution_count": 9,
      "outputs": [
        {
          "output_type": "stream",
          "text": [
            "[1. 2. 3.]\n"
          ],
          "name": "stdout"
        }
      ]
    },
    {
      "cell_type": "code",
      "metadata": {
        "colab": {
          "base_uri": "https://localhost:8080/"
        },
        "id": "X6oMy6WWmygn",
        "outputId": "21947247-82ea-4f05-94b9-7e6d37758b4d"
      },
      "source": [
        "type(Z)\r\n",
        "Z=str(np.array(Z))\r\n",
        "type(Z)\r\n"
      ],
      "execution_count": 15,
      "outputs": [
        {
          "output_type": "execute_result",
          "data": {
            "text/plain": [
              "str"
            ]
          },
          "metadata": {
            "tags": []
          },
          "execution_count": 15
        }
      ]
    }
  ]
}