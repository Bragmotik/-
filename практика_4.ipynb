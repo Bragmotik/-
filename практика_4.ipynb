{
  "nbformat": 4,
  "nbformat_minor": 0,
  "metadata": {
    "colab": {
      "name": "практика 4",
      "provenance": [],
      "collapsed_sections": [],
      "authorship_tag": "ABX9TyNiISnlQckl7KdCicNCG8UC",
      "include_colab_link": true
    },
    "kernelspec": {
      "name": "python3",
      "display_name": "Python 3"
    }
  },
  "cells": [
    {
      "cell_type": "markdown",
      "metadata": {
        "id": "view-in-github",
        "colab_type": "text"
      },
      "source": [
        "<a href=\"https://colab.research.google.com/github/Bragmotik/laboratory/blob/main/%D0%BF%D1%80%D0%B0%D0%BA%D1%82%D0%B8%D0%BA%D0%B0_4.ipynb\" target=\"_parent\"><img src=\"https://colab.research.google.com/assets/colab-badge.svg\" alt=\"Open In Colab\"/></a>"
      ]
    },
    {
      "cell_type": "markdown",
      "metadata": {
        "id": "iK4lz-Tb8HMi"
      },
      "source": [
        "# Задание 1"
      ]
    },
    {
      "cell_type": "code",
      "metadata": {
        "id": "M7BX8o4dvQSs"
      },
      "source": [
        "class One:\n",
        "  def __init__(self, a):\n",
        "    self.a=a**2\n",
        "class Nwo:\n",
        "  def __init__(self, a):\n",
        "    self,a=self.a*2\n",
        "a=int(input())\n",
        "if -100<a<100:\n",
        "  obj=One(a)\n",
        "else:\n",
        "  obj=Two(a)\n",
        "print(obj.a)"
      ],
      "execution_count": null,
      "outputs": []
    },
    {
      "cell_type": "markdown",
      "metadata": {
        "id": "VzvWpBNK8V7n"
      },
      "source": [
        "# Задание 2"
      ]
    },
    {
      "cell_type": "code",
      "metadata": {
        "id": "ikeO_FvAk7XV"
      },
      "source": [
        "class Base:\n",
        "  def __init__(self,n):\n",
        "    self.numb= n\n",
        "  def out(self):\n",
        "    print(self.numb)\n",
        "class One(Base):\n",
        "  def multi(self,m):\n",
        "    self.numb *= m\n",
        "class Two(Base):\n",
        "  def inlist(self):\n",
        "    self.inlist= list(str(self.numb))\n",
        "  def out(self):\n",
        "    i=0\n",
        "    while i <len(self.inlist):\n",
        "      print(self.inlist[i])\n",
        "      i+=1\n",
        "obj1=One(45)\n",
        "obj2=Two('abc')\n",
        "\n",
        "obj1.multi(2)\n",
        "obj1.out()\n",
        "\n",
        "obj2.inlist()\n",
        "obj2.out()"
      ],
      "execution_count": null,
      "outputs": []
    },
    {
      "cell_type": "markdown",
      "metadata": {
        "id": "TBYXFPmU8ZOx"
      },
      "source": [
        "# Задание 3"
      ]
    },
    {
      "cell_type": "code",
      "metadata": {
        "id": "YW2Hg6CM1e5K"
      },
      "source": [
        "class Based:\n",
        "  def __init__(self, N):\n",
        "    self.numb=N\n",
        "  def out(self):\n",
        "    self.numb/=2\n",
        "    print(self.numb)\n",
        "\n",
        "class Subclass(Base):\n",
        "  def out(self):\n",
        "    print(\"\\n----\")\n",
        "    Base.out(self)\n",
        "    print(\"----\\n\")\n",
        "i=0\n",
        "while i<10:\n",
        "  if 4<i<7:\n",
        "    obj=Subclass(i)\n",
        "  else:\n",
        "    obj=Base(i)\n",
        "  i+=1\n",
        "  obj.out()\n"
      ],
      "execution_count": null,
      "outputs": []
    }
  ]
}