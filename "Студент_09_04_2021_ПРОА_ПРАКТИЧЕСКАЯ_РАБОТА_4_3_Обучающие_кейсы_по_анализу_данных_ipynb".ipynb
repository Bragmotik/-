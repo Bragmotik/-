{
  "nbformat": 4,
  "nbformat_minor": 0,
  "metadata": {
    "colab": {
      "name": "\"Студент 09-04-2021 ПРОА ПРАКТИЧЕСКАЯ РАБОТА 4-3 Обучающие кейсы по анализу данных.ipynb\"",
      "provenance": [],
      "collapsed_sections": [
        "w-W57tINVC2z",
        "EWA-jjbPWqSP"
      ],
      "include_colab_link": true
    },
    "kernelspec": {
      "name": "python3",
      "display_name": "Python 3"
    },
    "language_info": {
      "name": "python"
    }
  },
  "cells": [
    {
      "cell_type": "markdown",
      "metadata": {
        "id": "view-in-github",
        "colab_type": "text"
      },
      "source": [
        "<a href=\"https://colab.research.google.com/github/Bragmotik/laboratory/blob/main/%22%D0%A1%D1%82%D1%83%D0%B4%D0%B5%D0%BD%D1%82_09_04_2021_%D0%9F%D0%A0%D0%9E%D0%90_%D0%9F%D0%A0%D0%90%D0%9A%D0%A2%D0%98%D0%A7%D0%95%D0%A1%D0%9A%D0%90%D0%AF_%D0%A0%D0%90%D0%91%D0%9E%D0%A2%D0%90_4_3_%D0%9E%D0%B1%D1%83%D1%87%D0%B0%D1%8E%D1%89%D0%B8%D0%B5_%D0%BA%D0%B5%D0%B9%D1%81%D1%8B_%D0%BF%D0%BE_%D0%B0%D0%BD%D0%B0%D0%BB%D0%B8%D0%B7%D1%83_%D0%B4%D0%B0%D0%BD%D0%BD%D1%8B%D1%85_ipynb%22.ipynb\" target=\"_parent\"><img src=\"https://colab.research.google.com/assets/colab-badge.svg\" alt=\"Open In Colab\"/></a>"
      ]
    },
    {
      "cell_type": "markdown",
      "metadata": {
        "id": "tjjkXUiPUzd7"
      },
      "source": [
        "**Case study 1**: Highest grossing movies in France – analyzing unstructured data"
      ]
    },
    {
      "cell_type": "markdown",
      "metadata": {
        "id": "y35IK1tKOHFo"
      },
      "source": [
        "# **Шаг 1. Импорт данных и изучение характеристик наборов данных.**"
      ]
    },
    {
      "cell_type": "markdown",
      "metadata": {
        "id": "PEGx4ggZPCwS"
      },
      "source": [
        "Мы импортируем все библиотеки и сохраняем URL в переменной. Затем мы делаем HTTP запросить этот URL-адрес с помощью метода get для получения информации с этой веб-страницы.\n",
        "Текстовый атрибут объекта запросов содержит данные HTML, которые передаются в функция pd.read_html. Эта функция возвращает список объектов DataFrame, содержащих различные таблицы на веб-странице. Поскольку на веб-странице есть только одна таблица, DataFrame (df) содержит только одну таблицу."
      ]
    },
    {
      "cell_type": "code",
      "metadata": {
        "id": "HUyaKVClN7jD"
      },
      "source": [
        "#importing the libraries\n",
        "import requests\n",
        "import pandas as pd\n",
        "import seaborn as sns\n",
        "import matplotlib.pyplot as plt\n",
        "#Importing the data from the webpage into a DataFrame\n",
        "url='https://en.wikipedia.org/wiki/List_of_2018_box_office_number-one_films_in_France'\n",
        "req=requests.get(url)\n",
        "data=pd.read_html(req.text)\n",
        "df=data[0]"
      ],
      "execution_count": 123,
      "outputs": []
    },
    {
      "cell_type": "markdown",
      "metadata": {
        "id": "EY3gw9kpPTb3"
      },
      "source": [
        "\n",
        "Изучаем  первые 5 записей: "
      ]
    },
    {
      "cell_type": "code",
      "metadata": {
        "id": "A336U7_sOZ_D",
        "colab": {
          "base_uri": "https://localhost:8080/",
          "height": 204
        },
        "outputId": "19bf2ed9-3d67-4c38-a2f1-0ad88ed47fdf"
      },
      "source": [
        "df.head()"
      ],
      "execution_count": 117,
      "outputs": [
        {
          "output_type": "execute_result",
          "data": {
            "text/html": [
              "<div>\n",
              "<style scoped>\n",
              "    .dataframe tbody tr th:only-of-type {\n",
              "        vertical-align: middle;\n",
              "    }\n",
              "\n",
              "    .dataframe tbody tr th {\n",
              "        vertical-align: top;\n",
              "    }\n",
              "\n",
              "    .dataframe thead th {\n",
              "        text-align: right;\n",
              "    }\n",
              "</style>\n",
              "<table border=\"1\" class=\"dataframe\">\n",
              "  <thead>\n",
              "    <tr style=\"text-align: right;\">\n",
              "      <th></th>\n",
              "      <th>#</th>\n",
              "      <th>Date</th>\n",
              "      <th>Film</th>\n",
              "      <th>Gross</th>\n",
              "      <th>Notes</th>\n",
              "    </tr>\n",
              "  </thead>\n",
              "  <tbody>\n",
              "    <tr>\n",
              "      <th>0</th>\n",
              "      <td>1</td>\n",
              "      <td>January 7, 2018</td>\n",
              "      <td>Star Wars: The Last Jedi</td>\n",
              "      <td>US$6,557,062</td>\n",
              "      <td>[1]</td>\n",
              "    </tr>\n",
              "    <tr>\n",
              "      <th>1</th>\n",
              "      <td>2</td>\n",
              "      <td>January 14, 2018</td>\n",
              "      <td>Jumanji: Welcome to the Jungle</td>\n",
              "      <td>US$2,127,871</td>\n",
              "      <td>[2]</td>\n",
              "    </tr>\n",
              "    <tr>\n",
              "      <th>2</th>\n",
              "      <td>3</td>\n",
              "      <td>January 21, 2018</td>\n",
              "      <td>Brillantissime</td>\n",
              "      <td>US$2,006,033</td>\n",
              "      <td>[3]</td>\n",
              "    </tr>\n",
              "    <tr>\n",
              "      <th>3</th>\n",
              "      <td>4</td>\n",
              "      <td>January 28, 2018</td>\n",
              "      <td>The Post</td>\n",
              "      <td>US$2,771,269</td>\n",
              "      <td>[4]</td>\n",
              "    </tr>\n",
              "    <tr>\n",
              "      <th>4</th>\n",
              "      <td>5</td>\n",
              "      <td>February 4, 2018</td>\n",
              "      <td>Les Tuche 3</td>\n",
              "      <td>US$16,604,101</td>\n",
              "      <td>[5]</td>\n",
              "    </tr>\n",
              "  </tbody>\n",
              "</table>\n",
              "</div>"
            ],
            "text/plain": [
              "   #              Date                            Film          Gross Notes\n",
              "0  1   January 7, 2018        Star Wars: The Last Jedi   US$6,557,062   [1]\n",
              "1  2  January 14, 2018  Jumanji: Welcome to the Jungle   US$2,127,871   [2]\n",
              "2  3  January 21, 2018                  Brillantissime   US$2,006,033   [3]\n",
              "3  4  January 28, 2018                        The Post   US$2,771,269   [4]\n",
              "4  5  February 4, 2018                     Les Tuche 3  US$16,604,101   [5]"
            ]
          },
          "metadata": {
            "tags": []
          },
          "execution_count": 117
        }
      ]
    },
    {
      "cell_type": "markdown",
      "metadata": {
        "id": "TcQWoBGJPcsX"
      },
      "source": [
        "Получение типов данных и пропущенных значений:"
      ]
    },
    {
      "cell_type": "code",
      "metadata": {
        "id": "ml-T0-w4PjST",
        "colab": {
          "base_uri": "https://localhost:8080/"
        },
        "outputId": "db3eebac-4ce7-4f15-ff3a-66019c006960"
      },
      "source": [
        "df.info()"
      ],
      "execution_count": 118,
      "outputs": [
        {
          "output_type": "stream",
          "text": [
            "<class 'pandas.core.frame.DataFrame'>\n",
            "RangeIndex: 50 entries, 0 to 49\n",
            "Data columns (total 5 columns):\n",
            " #   Column  Non-Null Count  Dtype \n",
            "---  ------  --------------  ----- \n",
            " 0   #       50 non-null     int64 \n",
            " 1   Date    50 non-null     object\n",
            " 2   Film    50 non-null     object\n",
            " 3   Gross   50 non-null     object\n",
            " 4   Notes   50 non-null     object\n",
            "dtypes: int64(1), object(4)\n",
            "memory usage: 2.1+ KB\n"
          ],
          "name": "stdout"
        }
      ]
    },
    {
      "cell_type": "markdown",
      "metadata": {
        "id": "1ebLxDUDPt5x"
      },
      "source": [
        "Как мы видим, типы данных столбцов не в нужном нам формате. Gross столбец представляет собой числовой столбец. Однако этому столбцу был назначен тип данных объекта, поскольку он содержит как числовые, так и нечисловые\n",
        "данные (символы типа “,”, “$”  и буквы типа «U» и «S»). Преобразуем данные:"
      ]
    },
    {
      "cell_type": "markdown",
      "metadata": {
        "id": "G2djkfEJQPn5"
      },
      "source": [
        "# **Шаг 2. Обработка данных** "
      ]
    },
    {
      "cell_type": "markdown",
      "metadata": {
        "id": "BKn1Ks5aQWjG"
      },
      "source": [
        "На этом этапе мы:\n",
        "  1. Удалим ненужные символы.\n",
        "  2. Изменим типы данных.\n",
        "  3. Удалим ненужные столбцы.\n",
        "  4. Создадим новый столбец из существующего столбца."
      ]
    },
    {
      "cell_type": "markdown",
      "metadata": {
        "id": "zRPAhP-yQxYR"
      },
      "source": [
        "Удалим ненужные строки из столбца **Gross**, оставив только\n",
        "числовые значения:"
      ]
    },
    {
      "cell_type": "code",
      "metadata": {
        "id": "smvlut1cQyb9",
        "colab": {
          "base_uri": "https://localhost:8080/",
          "height": 1000
        },
        "outputId": "23a1ca77-474c-48b6-eb4a-f25dc6dee15d"
      },
      "source": [
        "df['Gross']=df['Gross'].str.replace(r\"US\\$\", \"\").str.replace(\",\",\"\").replace(\" \", \"\")\n",
        "df"
      ],
      "execution_count": 125,
      "outputs": [
        {
          "output_type": "execute_result",
          "data": {
            "text/html": [
              "<div>\n",
              "<style scoped>\n",
              "    .dataframe tbody tr th:only-of-type {\n",
              "        vertical-align: middle;\n",
              "    }\n",
              "\n",
              "    .dataframe tbody tr th {\n",
              "        vertical-align: top;\n",
              "    }\n",
              "\n",
              "    .dataframe thead th {\n",
              "        text-align: right;\n",
              "    }\n",
              "</style>\n",
              "<table border=\"1\" class=\"dataframe\">\n",
              "  <thead>\n",
              "    <tr style=\"text-align: right;\">\n",
              "      <th></th>\n",
              "      <th>#</th>\n",
              "      <th>Date</th>\n",
              "      <th>Film</th>\n",
              "      <th>Gross</th>\n",
              "      <th>Notes</th>\n",
              "    </tr>\n",
              "  </thead>\n",
              "  <tbody>\n",
              "    <tr>\n",
              "      <th>0</th>\n",
              "      <td>1</td>\n",
              "      <td>January 7, 2018</td>\n",
              "      <td>Star Wars: The Last Jedi</td>\n",
              "      <td>6557062</td>\n",
              "      <td>[1]</td>\n",
              "    </tr>\n",
              "    <tr>\n",
              "      <th>1</th>\n",
              "      <td>2</td>\n",
              "      <td>January 14, 2018</td>\n",
              "      <td>Jumanji: Welcome to the Jungle</td>\n",
              "      <td>2127871</td>\n",
              "      <td>[2]</td>\n",
              "    </tr>\n",
              "    <tr>\n",
              "      <th>2</th>\n",
              "      <td>3</td>\n",
              "      <td>January 21, 2018</td>\n",
              "      <td>Brillantissime</td>\n",
              "      <td>2006033</td>\n",
              "      <td>[3]</td>\n",
              "    </tr>\n",
              "    <tr>\n",
              "      <th>3</th>\n",
              "      <td>4</td>\n",
              "      <td>January 28, 2018</td>\n",
              "      <td>The Post</td>\n",
              "      <td>2771269</td>\n",
              "      <td>[4]</td>\n",
              "    </tr>\n",
              "    <tr>\n",
              "      <th>4</th>\n",
              "      <td>5</td>\n",
              "      <td>February 4, 2018</td>\n",
              "      <td>Les Tuche 3</td>\n",
              "      <td>16604101</td>\n",
              "      <td>[5]</td>\n",
              "    </tr>\n",
              "    <tr>\n",
              "      <th>5</th>\n",
              "      <td>6</td>\n",
              "      <td>February 11, 2018</td>\n",
              "      <td>Les Tuche 3</td>\n",
              "      <td>8753427</td>\n",
              "      <td>[6]</td>\n",
              "    </tr>\n",
              "    <tr>\n",
              "      <th>6</th>\n",
              "      <td>7</td>\n",
              "      <td>February 18, 2018</td>\n",
              "      <td>Black Panther</td>\n",
              "      <td>7627163</td>\n",
              "      <td>[7]</td>\n",
              "    </tr>\n",
              "    <tr>\n",
              "      <th>7</th>\n",
              "      <td>8</td>\n",
              "      <td>February 25, 2018</td>\n",
              "      <td>Black Panther</td>\n",
              "      <td>5637555</td>\n",
              "      <td>[8]</td>\n",
              "    </tr>\n",
              "    <tr>\n",
              "      <th>8</th>\n",
              "      <td>9</td>\n",
              "      <td>March 4, 2018</td>\n",
              "      <td>La ch'tite famille</td>\n",
              "      <td>16739183</td>\n",
              "      <td>[9]</td>\n",
              "    </tr>\n",
              "    <tr>\n",
              "      <th>9</th>\n",
              "      <td>10</td>\n",
              "      <td>March 11, 2018</td>\n",
              "      <td>La ch'tite famille</td>\n",
              "      <td>9546133</td>\n",
              "      <td>[10]</td>\n",
              "    </tr>\n",
              "    <tr>\n",
              "      <th>10</th>\n",
              "      <td>11</td>\n",
              "      <td>March 18, 2018</td>\n",
              "      <td>La ch'tite famille</td>\n",
              "      <td>5278842</td>\n",
              "      <td>[11]</td>\n",
              "    </tr>\n",
              "    <tr>\n",
              "      <th>11</th>\n",
              "      <td>12</td>\n",
              "      <td>March 25, 2018</td>\n",
              "      <td>Rolling to You</td>\n",
              "      <td>3073866</td>\n",
              "      <td>[12]</td>\n",
              "    </tr>\n",
              "    <tr>\n",
              "      <th>12</th>\n",
              "      <td>13</td>\n",
              "      <td>April 1, 2018</td>\n",
              "      <td>Ready Player One</td>\n",
              "      <td>5484062</td>\n",
              "      <td>[13]</td>\n",
              "    </tr>\n",
              "    <tr>\n",
              "      <th>13</th>\n",
              "      <td>14</td>\n",
              "      <td>April 8, 2018</td>\n",
              "      <td>Ready Player One</td>\n",
              "      <td>3140585</td>\n",
              "      <td>[14]</td>\n",
              "    </tr>\n",
              "    <tr>\n",
              "      <th>14</th>\n",
              "      <td>15</td>\n",
              "      <td>April 15, 2018</td>\n",
              "      <td>Taxi 5</td>\n",
              "      <td>10568544</td>\n",
              "      <td>[15]</td>\n",
              "    </tr>\n",
              "    <tr>\n",
              "      <th>15</th>\n",
              "      <td>16</td>\n",
              "      <td>April 22, 2018</td>\n",
              "      <td>Taxi 5</td>\n",
              "      <td>4109407</td>\n",
              "      <td>[16]</td>\n",
              "    </tr>\n",
              "    <tr>\n",
              "      <th>16</th>\n",
              "      <td>17</td>\n",
              "      <td>April 29, 2018</td>\n",
              "      <td>Avengers: Infinity War</td>\n",
              "      <td>17645304</td>\n",
              "      <td>[17]</td>\n",
              "    </tr>\n",
              "    <tr>\n",
              "      <th>17</th>\n",
              "      <td>18</td>\n",
              "      <td>May 6, 2018</td>\n",
              "      <td>Avengers: Infinity War</td>\n",
              "      <td>6891789</td>\n",
              "      <td>[18]</td>\n",
              "    </tr>\n",
              "    <tr>\n",
              "      <th>18</th>\n",
              "      <td>19</td>\n",
              "      <td>May 13, 2018</td>\n",
              "      <td>Avengers: Infinity War</td>\n",
              "      <td>6273652</td>\n",
              "      <td>[19]</td>\n",
              "    </tr>\n",
              "    <tr>\n",
              "      <th>19</th>\n",
              "      <td>20</td>\n",
              "      <td>May 20, 2018</td>\n",
              "      <td>Deadpool 2</td>\n",
              "      <td>8836807</td>\n",
              "      <td>[20]</td>\n",
              "    </tr>\n",
              "    <tr>\n",
              "      <th>20</th>\n",
              "      <td>21</td>\n",
              "      <td>May 27, 2018</td>\n",
              "      <td>Solo: A Star Wars Story</td>\n",
              "      <td>4015319</td>\n",
              "      <td>[21]</td>\n",
              "    </tr>\n",
              "    <tr>\n",
              "      <th>21</th>\n",
              "      <td>22</td>\n",
              "      <td>June 3, 2018</td>\n",
              "      <td>Solo: A Star Wars Story</td>\n",
              "      <td>2770078</td>\n",
              "      <td>[22]</td>\n",
              "    </tr>\n",
              "    <tr>\n",
              "      <th>22</th>\n",
              "      <td>23</td>\n",
              "      <td>June 10, 2018</td>\n",
              "      <td>Jurassic World: Fallen Kingdom</td>\n",
              "      <td>9579503</td>\n",
              "      <td>[23]</td>\n",
              "    </tr>\n",
              "    <tr>\n",
              "      <th>23</th>\n",
              "      <td>24</td>\n",
              "      <td>June 17, 2018</td>\n",
              "      <td>Jurassic World: Fallen Kingdom</td>\n",
              "      <td>4791805</td>\n",
              "      <td>[24]</td>\n",
              "    </tr>\n",
              "    <tr>\n",
              "      <th>24</th>\n",
              "      <td>25</td>\n",
              "      <td>June 24, 2018</td>\n",
              "      <td>Jurassic World: Fallen Kingdom</td>\n",
              "      <td>2520159</td>\n",
              "      <td>[25]</td>\n",
              "    </tr>\n",
              "    <tr>\n",
              "      <th>25</th>\n",
              "      <td>26</td>\n",
              "      <td>July 1, 2018</td>\n",
              "      <td>Jurassic World: Fallen Kingdom</td>\n",
              "      <td>1740016</td>\n",
              "      <td>[26]</td>\n",
              "    </tr>\n",
              "    <tr>\n",
              "      <th>26</th>\n",
              "      <td>27</td>\n",
              "      <td>July 8, 2018</td>\n",
              "      <td>Incredibles 2</td>\n",
              "      <td>9454086</td>\n",
              "      <td>[27]</td>\n",
              "    </tr>\n",
              "    <tr>\n",
              "      <th>27</th>\n",
              "      <td>28</td>\n",
              "      <td>July 15, 2018</td>\n",
              "      <td>Incredibles 2</td>\n",
              "      <td>5152960</td>\n",
              "      <td>[28]</td>\n",
              "    </tr>\n",
              "    <tr>\n",
              "      <th>28</th>\n",
              "      <td>29</td>\n",
              "      <td>July 22, 2018</td>\n",
              "      <td>Incredibles 2</td>\n",
              "      <td>4859634</td>\n",
              "      <td>[29]</td>\n",
              "    </tr>\n",
              "    <tr>\n",
              "      <th>29</th>\n",
              "      <td>30</td>\n",
              "      <td>July 29, 2018</td>\n",
              "      <td>Hotel Transylvania 3: Summer Vacation</td>\n",
              "      <td>3929857</td>\n",
              "      <td>[30]</td>\n",
              "    </tr>\n",
              "    <tr>\n",
              "      <th>30</th>\n",
              "      <td>31</td>\n",
              "      <td>August 5, 2018</td>\n",
              "      <td>Mission: Impossible – Fallout</td>\n",
              "      <td>8193447</td>\n",
              "      <td>[31]</td>\n",
              "    </tr>\n",
              "    <tr>\n",
              "      <th>31</th>\n",
              "      <td>32</td>\n",
              "      <td>August 12, 2018</td>\n",
              "      <td>Mission: Impossible – Fallout</td>\n",
              "      <td>4350586</td>\n",
              "      <td>[32]</td>\n",
              "    </tr>\n",
              "    <tr>\n",
              "      <th>32</th>\n",
              "      <td>33</td>\n",
              "      <td>August 19, 2018</td>\n",
              "      <td>Mission: Impossible – Fallout</td>\n",
              "      <td>2873390</td>\n",
              "      <td>[33]</td>\n",
              "    </tr>\n",
              "    <tr>\n",
              "      <th>33</th>\n",
              "      <td>34</td>\n",
              "      <td>August 26, 2018</td>\n",
              "      <td>The Meg</td>\n",
              "      <td>4513632</td>\n",
              "      <td>[34]</td>\n",
              "    </tr>\n",
              "    <tr>\n",
              "      <th>34</th>\n",
              "      <td>35</td>\n",
              "      <td>September 2, 2018</td>\n",
              "      <td>The Meg</td>\n",
              "      <td>2513203</td>\n",
              "      <td>[35]</td>\n",
              "    </tr>\n",
              "    <tr>\n",
              "      <th>35</th>\n",
              "      <td>36</td>\n",
              "      <td>September 9, 2018</td>\n",
              "      <td>Photo de Famille</td>\n",
              "      <td>1414632</td>\n",
              "      <td>[36]</td>\n",
              "    </tr>\n",
              "    <tr>\n",
              "      <th>36</th>\n",
              "      <td>37</td>\n",
              "      <td>September 16, 2018</td>\n",
              "      <td>Première année</td>\n",
              "      <td>2222791</td>\n",
              "      <td>[37]</td>\n",
              "    </tr>\n",
              "    <tr>\n",
              "      <th>37</th>\n",
              "      <td>38</td>\n",
              "      <td>September 23, 2018</td>\n",
              "      <td>The Nun</td>\n",
              "      <td>4425722</td>\n",
              "      <td>[38]</td>\n",
              "    </tr>\n",
              "    <tr>\n",
              "      <th>38</th>\n",
              "      <td>39</td>\n",
              "      <td>September 30, 2018</td>\n",
              "      <td>The Nun</td>\n",
              "      <td>2254244</td>\n",
              "      <td>[39]</td>\n",
              "    </tr>\n",
              "    <tr>\n",
              "      <th>39</th>\n",
              "      <td>40</td>\n",
              "      <td>October 7, 2018</td>\n",
              "      <td>Alad'2</td>\n",
              "      <td>6228621</td>\n",
              "      <td>[40]</td>\n",
              "    </tr>\n",
              "    <tr>\n",
              "      <th>40</th>\n",
              "      <td>41</td>\n",
              "      <td>October 14, 2018</td>\n",
              "      <td>Venom</td>\n",
              "      <td>6646527</td>\n",
              "      <td>[41]</td>\n",
              "    </tr>\n",
              "    <tr>\n",
              "      <th>41</th>\n",
              "      <td>42</td>\n",
              "      <td>October 21, 2018</td>\n",
              "      <td>Venom</td>\n",
              "      <td>3019547</td>\n",
              "      <td>[42]</td>\n",
              "    </tr>\n",
              "    <tr>\n",
              "      <th>42</th>\n",
              "      <td>43</td>\n",
              "      <td>October 28, 2018</td>\n",
              "      <td>Sink or Swim</td>\n",
              "      <td>9051705</td>\n",
              "      <td>[43]</td>\n",
              "    </tr>\n",
              "    <tr>\n",
              "      <th>43</th>\n",
              "      <td>44</td>\n",
              "      <td>November 4, 2018</td>\n",
              "      <td>Sink or Swim</td>\n",
              "      <td>9676385</td>\n",
              "      <td>[44]</td>\n",
              "    </tr>\n",
              "    <tr>\n",
              "      <th>44</th>\n",
              "      <td>45</td>\n",
              "      <td>November 11, 2018</td>\n",
              "      <td>Bohemian Rhapsody</td>\n",
              "      <td>5154997</td>\n",
              "      <td>[45]</td>\n",
              "    </tr>\n",
              "    <tr>\n",
              "      <th>45</th>\n",
              "      <td>46</td>\n",
              "      <td>November 18, 2018</td>\n",
              "      <td>Fantastic Beasts: The Crimes of Grindelwald</td>\n",
              "      <td>11438486</td>\n",
              "      <td>[46]</td>\n",
              "    </tr>\n",
              "    <tr>\n",
              "      <th>46</th>\n",
              "      <td>47</td>\n",
              "      <td>November 25, 2018</td>\n",
              "      <td>Fantastic Beasts: The Crimes of Grindelwald</td>\n",
              "      <td>6378619</td>\n",
              "      <td>[47]</td>\n",
              "    </tr>\n",
              "    <tr>\n",
              "      <th>47</th>\n",
              "      <td>48</td>\n",
              "      <td>December 2, 2018</td>\n",
              "      <td>Fantastic Beasts: The Crimes of Grindelwald</td>\n",
              "      <td>3656409</td>\n",
              "      <td>[48]</td>\n",
              "    </tr>\n",
              "    <tr>\n",
              "      <th>48</th>\n",
              "      <td>49</td>\n",
              "      <td>December 9, 2018</td>\n",
              "      <td>Asterix: The Secret of the Magic Potion</td>\n",
              "      <td>6863693</td>\n",
              "      <td>[49]</td>\n",
              "    </tr>\n",
              "    <tr>\n",
              "      <th>49</th>\n",
              "      <td>50</td>\n",
              "      <td>December 16, 2018</td>\n",
              "      <td>Asterix: The Secret of the Magic Potion</td>\n",
              "      <td>4187527</td>\n",
              "      <td>[50]</td>\n",
              "    </tr>\n",
              "  </tbody>\n",
              "</table>\n",
              "</div>"
            ],
            "text/plain": [
              "     #                Date  ...     Gross Notes\n",
              "0    1     January 7, 2018  ...   6557062   [1]\n",
              "1    2    January 14, 2018  ...   2127871   [2]\n",
              "2    3    January 21, 2018  ...   2006033   [3]\n",
              "3    4    January 28, 2018  ...   2771269   [4]\n",
              "4    5    February 4, 2018  ...  16604101   [5]\n",
              "5    6   February 11, 2018  ...   8753427   [6]\n",
              "6    7   February 18, 2018  ...   7627163   [7]\n",
              "7    8   February 25, 2018  ...   5637555   [8]\n",
              "8    9       March 4, 2018  ...  16739183   [9]\n",
              "9   10      March 11, 2018  ...   9546133  [10]\n",
              "10  11      March 18, 2018  ...   5278842  [11]\n",
              "11  12      March 25, 2018  ...   3073866  [12]\n",
              "12  13       April 1, 2018  ...   5484062  [13]\n",
              "13  14       April 8, 2018  ...   3140585  [14]\n",
              "14  15      April 15, 2018  ...  10568544  [15]\n",
              "15  16      April 22, 2018  ...   4109407  [16]\n",
              "16  17      April 29, 2018  ...  17645304  [17]\n",
              "17  18         May 6, 2018  ...   6891789  [18]\n",
              "18  19        May 13, 2018  ...   6273652  [19]\n",
              "19  20        May 20, 2018  ...   8836807  [20]\n",
              "20  21        May 27, 2018  ...   4015319  [21]\n",
              "21  22        June 3, 2018  ...   2770078  [22]\n",
              "22  23       June 10, 2018  ...   9579503  [23]\n",
              "23  24       June 17, 2018  ...   4791805  [24]\n",
              "24  25       June 24, 2018  ...   2520159  [25]\n",
              "25  26        July 1, 2018  ...   1740016  [26]\n",
              "26  27        July 8, 2018  ...   9454086  [27]\n",
              "27  28       July 15, 2018  ...   5152960  [28]\n",
              "28  29       July 22, 2018  ...   4859634  [29]\n",
              "29  30       July 29, 2018  ...   3929857  [30]\n",
              "30  31      August 5, 2018  ...   8193447  [31]\n",
              "31  32     August 12, 2018  ...   4350586  [32]\n",
              "32  33     August 19, 2018  ...   2873390  [33]\n",
              "33  34     August 26, 2018  ...   4513632  [34]\n",
              "34  35   September 2, 2018  ...   2513203  [35]\n",
              "35  36   September 9, 2018  ...   1414632  [36]\n",
              "36  37  September 16, 2018  ...   2222791  [37]\n",
              "37  38  September 23, 2018  ...   4425722  [38]\n",
              "38  39  September 30, 2018  ...   2254244  [39]\n",
              "39  40     October 7, 2018  ...   6228621  [40]\n",
              "40  41    October 14, 2018  ...   6646527  [41]\n",
              "41  42    October 21, 2018  ...   3019547  [42]\n",
              "42  43    October 28, 2018  ...   9051705  [43]\n",
              "43  44    November 4, 2018  ...   9676385  [44]\n",
              "44  45   November 11, 2018  ...   5154997  [45]\n",
              "45  46   November 18, 2018  ...  11438486  [46]\n",
              "46  47   November 25, 2018  ...   6378619  [47]\n",
              "47  48    December 2, 2018  ...   3656409  [48]\n",
              "48  49    December 9, 2018  ...   6863693  [49]\n",
              "49  50   December 16, 2018  ...   4187527  [50]\n",
              "\n",
              "[50 rows x 5 columns]"
            ]
          },
          "metadata": {
            "tags": []
          },
          "execution_count": 125
        }
      ]
    },
    {
      "cell_type": "markdown",
      "metadata": {
        "id": "qj63VFn9RBGI"
      },
      "source": [
        " Первая замена\n",
        "метод удаляет «US$», а второй метод замены удаляет запятые. Замена\n",
        "символ с пустой строкой (\"\") эквивалентен удалению символа. Теперь давайте используем метод **astype** для приведения типа или изменения типа данных этого столбца на **int64**, чтобы этот столбец можно было использовать для вычислений и визуализаций:"
      ]
    },
    {
      "cell_type": "code",
      "metadata": {
        "id": "Y0GR4N_QRYlY"
      },
      "source": [
        "df['Gross']=df['Gross'].astype('int64')"
      ],
      "execution_count": 126,
      "outputs": []
    },
    {
      "cell_type": "markdown",
      "metadata": {
        "id": "2cyNPLLcRcah"
      },
      "source": [
        "check:"
      ]
    },
    {
      "cell_type": "code",
      "metadata": {
        "id": "6QowMMUPRdhg",
        "colab": {
          "base_uri": "https://localhost:8080/"
        },
        "outputId": "6657fbbb-ca02-487a-cfb2-63f340610277"
      },
      "source": [
        "df['Gross'].head(5)"
      ],
      "execution_count": 127,
      "outputs": [
        {
          "output_type": "execute_result",
          "data": {
            "text/plain": [
              "0     6557062\n",
              "1     2127871\n",
              "2     2006033\n",
              "3     2771269\n",
              "4    16604101\n",
              "Name: Gross, dtype: int64"
            ]
          },
          "metadata": {
            "tags": []
          },
          "execution_count": 127
        }
      ]
    },
    {
      "cell_type": "markdown",
      "metadata": {
        "id": "wRo4759zRmbk"
      },
      "source": [
        "Нам также нужно извлечь месяц из даты, сначала изменив тип данных столбца «Дата» и затем применив к нему метод **DatetimeIndex**, как показано ниже:"
      ]
    },
    {
      "cell_type": "code",
      "metadata": {
        "id": "i7MCd0NZR35E"
      },
      "source": [
        "df['Date']=df['Date'].astype('datetime64')"
      ],
      "execution_count": 128,
      "outputs": []
    },
    {
      "cell_type": "code",
      "metadata": {
        "id": "HhOGWYERR98k"
      },
      "source": [
        "df['Month']=pd.DatetimeIndex(df['Date']).month"
      ],
      "execution_count": 129,
      "outputs": []
    },
    {
      "cell_type": "markdown",
      "metadata": {
        "id": "qGS5TsTeSFQX"
      },
      "source": [
        "Наконец, мы удаляем два ненужных столбца из DataFrame, используя следующие\n",
        "утверждение."
      ]
    },
    {
      "cell_type": "code",
      "metadata": {
        "id": "X-gP7tlVSGfy"
      },
      "source": [
        "df.drop(['#', 'Notes'], axis=1, inplace=True)"
      ],
      "execution_count": 130,
      "outputs": []
    },
    {
      "cell_type": "markdown",
      "metadata": {
        "id": "NiUEGB2gSM6M"
      },
      "source": [
        "# **Шаг 3: Визуализация**"
      ]
    },
    {
      "cell_type": "markdown",
      "metadata": {
        "id": "q_2vjlbpSRLP"
      },
      "source": [
        " сначала мы создаем еще один DataFrame (df1), который содержит подмножество\n",
        "столбцов, которые содержат исходный DataFrame (df). Этот DataFrame, df1, содержит всего два столбцы - «Фильм» (название фильма) и «Gross» (Выручка). Затем мы сортируем значения выручки в порядке убывания. "
      ]
    },
    {
      "cell_type": "code",
      "metadata": {
        "id": "pEA66lJ6Srxa"
      },
      "source": [
        "df1=df[['Film', 'Gross']].sort_values(ascending=False, by='Gross')"
      ],
      "execution_count": 131,
      "outputs": []
    },
    {
      "cell_type": "markdown",
      "metadata": {
        "id": "jZ3hTCrHS4P3"
      },
      "source": [
        "В этот DataFrame добавляется нежелательный столбец («index»)"
      ]
    },
    {
      "cell_type": "code",
      "metadata": {
        "id": "2Z68RG5oS8kE"
      },
      "source": [
        "#df1.drop(['index'],axis=1,inplace=True)"
      ],
      "execution_count": null,
      "outputs": []
    },
    {
      "cell_type": "code",
      "metadata": {
        "id": "u3qCrwtuTLU6",
        "colab": {
          "base_uri": "https://localhost:8080/",
          "height": 555
        },
        "outputId": "5b507bf7-6efb-46b5-b48a-86560433c4dd"
      },
      "source": [
        "#Plotting the top 5 films by revenue\n",
        "#setting the figure size\n",
        "plt.figure(figsize=(10,5))\n",
        "#creating a bar plot\n",
        "ax=sns.barplot(x='Film',y='Gross',data=df1.head(5))\n",
        "#rotating the x axis labels\n",
        "ax.set_xticklabels(labels=df1.head()['Film'],rotation=75)\n",
        "#setting the title\n",
        "ax.set_title(\"Top 5 Films per revenue\")\n",
        "#setting the Y-axis labels\n",
        "ax.set_ylabel(\"Gross revenue\")\n",
        "#Labelling the bars in the bar graph\n",
        "for p in ax.patches:\n",
        "  ax.annotate(p.get_height(),(p.get_x()+p.get_width()/2,p.get_height()),ha='center',va='bottom')"
      ],
      "execution_count": 132,
      "outputs": [
        {
          "output_type": "display_data",
          "data": {
            "image/png": "[encoded data removed]",
            "text/plain": [
              "<Figure size 720x360 with 1 Axes>"
            ]
          },
          "metadata": {
            "tags": [],
            "needs_background": "light"
          }
        }
      ]
    },
    {
      "cell_type": "markdown",
      "metadata": {
        "id": "UdYoKFT-T_OX"
      },
      "source": [
        "Чтобы отобразить долю десяти лучших фильмов (по выручке), мы создаем круговую диаграмму."
      ]
    },
    {
      "cell_type": "code",
      "metadata": {
        "id": "K9YQypn8T2PJ",
        "colab": {
          "base_uri": "https://localhost:8080/",
          "height": 320
        },
        "outputId": "a3a2e4b9-24fb-48bb-b4d5-266bf3a9b53b"
      },
      "source": [
        "df1['Gross'].head(10).plot(kind='pie', autopct='%.2f%%', labels=df1['Film'], figsize=(10,5))"
      ],
      "execution_count": 133,
      "outputs": [
        {
          "output_type": "execute_result",
          "data": {
            "text/plain": [
              "<matplotlib.axes._subplots.AxesSubplot at 0x7f87a8690ed0>"
            ]
          },
          "metadata": {
            "tags": []
          },
          "execution_count": 133
        },
        {
          "output_type": "display_data",
          "data": {
            "image/png": "[encoded data removed]",
            "text/plain": [
              "<Figure size 720x360 with 1 Axes>"
            ]
          },
          "metadata": {
            "tags": []
          }
        }
      ]
    },
    {
      "cell_type": "markdown",
      "metadata": {
        "id": "2l-4y9JCUJ3A"
      },
      "source": [
        "Сначала мы создаем еще один DataFrame, который собирает данные за месяц, вычисляя в среднем за каждый месяц"
      ]
    },
    {
      "cell_type": "code",
      "metadata": {
        "id": "0CaQqkDMUM-l",
        "colab": {
          "base_uri": "https://localhost:8080/",
          "height": 362
        },
        "outputId": "5f60a20b-7754-472c-dc0d-d605a9bfd5da"
      },
      "source": [
        "#Aggregating the revenues by month\n",
        "df2=df.groupby('Month')['Gross'].mean()\n",
        "#creating a line plot\n",
        "df2.plot(kind='line',figsize=(10,5))"
      ],
      "execution_count": 134,
      "outputs": [
        {
          "output_type": "execute_result",
          "data": {
            "text/plain": [
              "<matplotlib.axes._subplots.AxesSubplot at 0x7f87a902b410>"
            ]
          },
          "metadata": {
            "tags": []
          },
          "execution_count": 134
        },
        {
          "output_type": "display_data",
          "data": {
            "image/png": "[encoded data removed]",
            "text/plain": [
              "<Figure size 720x360 with 1 Axes>"
            ]
          },
          "metadata": {
            "tags": [],
            "needs_background": "light"
          }
        }
      ]
    },
    {
      "cell_type": "markdown",
      "metadata": {
        "id": "VzHUvA32Uaxm"
      },
      "source": [
        "# **Шаг 4: построение выводов на основе анализа и визуализаций**"
      ]
    },
    {
      "cell_type": "markdown",
      "metadata": {
        "id": "UWJqsop6UcsA"
      },
      "source": [
        "1. Средний ежемесячный доход сильно колеблется, возможно\n",
        "зависит от месяца выпуска фильмов, который может требуют дальнейшего анализа на протяжении многих лет.\n",
        "  2. Три самых прибыльных фильма во Франции в 2018 году вышли Avengers, La Ch’tite Famille и Les Tuche 3."
      ]
    },
    {
      "cell_type": "markdown",
      "metadata": {
        "id": "yxPez-tK-Uf2"
      },
      "source": [
        "# Самостоятельное задание \n",
        "## Вариант 2\n",
        "Вариант 2.неструктурированных данных: использование данных с веб-страницы, обеспечивающей информацией о самых кассовых фильмах Австралии.\n",
        "https://en.wikipedia.org/wiki/List_of_highest-grossing_films_in_Australia "
      ]
    },
    {
      "cell_type": "code",
      "metadata": {
        "id": "DQ8HXJ5k-iJF",
        "colab": {
          "base_uri": "https://localhost:8080/",
          "height": 297
        },
        "outputId": "34fc348a-dcb7-4b4d-d04f-f5db770eab1f"
      },
      "source": [
        "url='https://en.wikipedia.org/wiki/List_of_highest-grossing_films_in_Australia '\n",
        "req=requests.get(url)\n",
        "data3=pd.read_html(req.text)\n",
        "dp=data3[1]\n",
        "dp"
      ],
      "execution_count": 194,
      "outputs": [
        {
          "output_type": "execute_result",
          "data": {
            "text/html": [
              "<div>\n",
              "<style scoped>\n",
              "    .dataframe tbody tr th:only-of-type {\n",
              "        vertical-align: middle;\n",
              "    }\n",
              "\n",
              "    .dataframe tbody tr th {\n",
              "        vertical-align: top;\n",
              "    }\n",
              "\n",
              "    .dataframe thead th {\n",
              "        text-align: right;\n",
              "    }\n",
              "</style>\n",
              "<table border=\"1\" class=\"dataframe\">\n",
              "  <thead>\n",
              "    <tr style=\"text-align: right;\">\n",
              "      <th></th>\n",
              "      <th>Year</th>\n",
              "      <th>Title</th>\n",
              "      <th>Record setting gross(A$)</th>\n",
              "    </tr>\n",
              "  </thead>\n",
              "  <tbody>\n",
              "    <tr>\n",
              "      <th>0</th>\n",
              "      <td>1940</td>\n",
              "      <td>Gone With the Wind</td>\n",
              "      <td>3,426,000R[2]</td>\n",
              "    </tr>\n",
              "    <tr>\n",
              "      <th>1</th>\n",
              "      <td>1965</td>\n",
              "      <td>The Sound of Music</td>\n",
              "      <td>4,437,000R[2]</td>\n",
              "    </tr>\n",
              "    <tr>\n",
              "      <th>2</th>\n",
              "      <td>1975</td>\n",
              "      <td>Jaws</td>\n",
              "      <td>4,620,000R[2]</td>\n",
              "    </tr>\n",
              "    <tr>\n",
              "      <th>3</th>\n",
              "      <td>1977</td>\n",
              "      <td>Star Wars</td>\n",
              "      <td>6,200,000R[2]</td>\n",
              "    </tr>\n",
              "    <tr>\n",
              "      <th>4</th>\n",
              "      <td>1982</td>\n",
              "      <td>E.T. the Extra-Terrestrial</td>\n",
              "      <td>11,424,768R[3]</td>\n",
              "    </tr>\n",
              "    <tr>\n",
              "      <th>5</th>\n",
              "      <td>1986</td>\n",
              "      <td>Crocodile Dundee</td>\n",
              "      <td>47,707,045[4](19,772,232R)[3]</td>\n",
              "    </tr>\n",
              "    <tr>\n",
              "      <th>6</th>\n",
              "      <td>1998</td>\n",
              "      <td>Titanic</td>\n",
              "      <td>57,663,305[1]</td>\n",
              "    </tr>\n",
              "    <tr>\n",
              "      <th>7</th>\n",
              "      <td>2009</td>\n",
              "      <td>Avatar</td>\n",
              "      <td>115,767,244[1]</td>\n",
              "    </tr>\n",
              "  </tbody>\n",
              "</table>\n",
              "</div>"
            ],
            "text/plain": [
              "   Year                       Title       Record setting gross(A$)\n",
              "0  1940          Gone With the Wind                  3,426,000R[2]\n",
              "1  1965          The Sound of Music                  4,437,000R[2]\n",
              "2  1975                        Jaws                  4,620,000R[2]\n",
              "3  1977                   Star Wars                  6,200,000R[2]\n",
              "4  1982  E.T. the Extra-Terrestrial                 11,424,768R[3]\n",
              "5  1986            Crocodile Dundee  47,707,045[4](19,772,232R)[3]\n",
              "6  1998                     Titanic                  57,663,305[1]\n",
              "7  2009                      Avatar                 115,767,244[1]"
            ]
          },
          "metadata": {
            "tags": []
          },
          "execution_count": 194
        }
      ]
    },
    {
      "cell_type": "code",
      "metadata": {
        "colab": {
          "base_uri": "https://localhost:8080/",
          "height": 297
        },
        "id": "IekuXwjQl3Rr",
        "outputId": "f57a2e6f-a47f-418a-a21d-b57dd3a98c22"
      },
      "source": [
        "dp['Record setting gross(A$)']=dp['Record setting gross(A$)'].str.replace('R', \"\").str.replace(r\",\",\"\").str.replace(']','').str.replace('[','')\n",
        "dp['Record setting gross(A$)']=dp['Record setting gross(A$)'].drop(5)\n",
        "dp.iloc[:8,2]=[3426000,4437000,4620000,6200000,11424768,47707045,57663305,115767244]\n",
        "dp"
      ],
      "execution_count": 195,
      "outputs": [
        {
          "output_type": "execute_result",
          "data": {
            "text/html": [
              "<div>\n",
              "<style scoped>\n",
              "    .dataframe tbody tr th:only-of-type {\n",
              "        vertical-align: middle;\n",
              "    }\n",
              "\n",
              "    .dataframe tbody tr th {\n",
              "        vertical-align: top;\n",
              "    }\n",
              "\n",
              "    .dataframe thead th {\n",
              "        text-align: right;\n",
              "    }\n",
              "</style>\n",
              "<table border=\"1\" class=\"dataframe\">\n",
              "  <thead>\n",
              "    <tr style=\"text-align: right;\">\n",
              "      <th></th>\n",
              "      <th>Year</th>\n",
              "      <th>Title</th>\n",
              "      <th>Record setting gross(A$)</th>\n",
              "    </tr>\n",
              "  </thead>\n",
              "  <tbody>\n",
              "    <tr>\n",
              "      <th>0</th>\n",
              "      <td>1940</td>\n",
              "      <td>Gone With the Wind</td>\n",
              "      <td>3426000</td>\n",
              "    </tr>\n",
              "    <tr>\n",
              "      <th>1</th>\n",
              "      <td>1965</td>\n",
              "      <td>The Sound of Music</td>\n",
              "      <td>4437000</td>\n",
              "    </tr>\n",
              "    <tr>\n",
              "      <th>2</th>\n",
              "      <td>1975</td>\n",
              "      <td>Jaws</td>\n",
              "      <td>4620000</td>\n",
              "    </tr>\n",
              "    <tr>\n",
              "      <th>3</th>\n",
              "      <td>1977</td>\n",
              "      <td>Star Wars</td>\n",
              "      <td>6200000</td>\n",
              "    </tr>\n",
              "    <tr>\n",
              "      <th>4</th>\n",
              "      <td>1982</td>\n",
              "      <td>E.T. the Extra-Terrestrial</td>\n",
              "      <td>11424768</td>\n",
              "    </tr>\n",
              "    <tr>\n",
              "      <th>5</th>\n",
              "      <td>1986</td>\n",
              "      <td>Crocodile Dundee</td>\n",
              "      <td>47707045</td>\n",
              "    </tr>\n",
              "    <tr>\n",
              "      <th>6</th>\n",
              "      <td>1998</td>\n",
              "      <td>Titanic</td>\n",
              "      <td>57663305</td>\n",
              "    </tr>\n",
              "    <tr>\n",
              "      <th>7</th>\n",
              "      <td>2009</td>\n",
              "      <td>Avatar</td>\n",
              "      <td>115767244</td>\n",
              "    </tr>\n",
              "  </tbody>\n",
              "</table>\n",
              "</div>"
            ],
            "text/plain": [
              "   Year                       Title  Record setting gross(A$)\n",
              "0  1940          Gone With the Wind                   3426000\n",
              "1  1965          The Sound of Music                   4437000\n",
              "2  1975                        Jaws                   4620000\n",
              "3  1977                   Star Wars                   6200000\n",
              "4  1982  E.T. the Extra-Terrestrial                  11424768\n",
              "5  1986            Crocodile Dundee                  47707045\n",
              "6  1998                     Titanic                  57663305\n",
              "7  2009                      Avatar                 115767244"
            ]
          },
          "metadata": {
            "tags": []
          },
          "execution_count": 195
        }
      ]
    },
    {
      "cell_type": "code",
      "metadata": {
        "colab": {
          "base_uri": "https://localhost:8080/",
          "height": 297
        },
        "id": "7ot6hizIyzfW",
        "outputId": "c7d90ff4-cf9d-403c-898b-5e1c17bcbfb9"
      },
      "source": [
        "dp.isnull()"
      ],
      "execution_count": 201,
      "outputs": [
        {
          "output_type": "execute_result",
          "data": {
            "text/html": [
              "<div>\n",
              "<style scoped>\n",
              "    .dataframe tbody tr th:only-of-type {\n",
              "        vertical-align: middle;\n",
              "    }\n",
              "\n",
              "    .dataframe tbody tr th {\n",
              "        vertical-align: top;\n",
              "    }\n",
              "\n",
              "    .dataframe thead th {\n",
              "        text-align: right;\n",
              "    }\n",
              "</style>\n",
              "<table border=\"1\" class=\"dataframe\">\n",
              "  <thead>\n",
              "    <tr style=\"text-align: right;\">\n",
              "      <th></th>\n",
              "      <th>Year</th>\n",
              "      <th>Title</th>\n",
              "      <th>Record setting gross(A$)</th>\n",
              "    </tr>\n",
              "  </thead>\n",
              "  <tbody>\n",
              "    <tr>\n",
              "      <th>0</th>\n",
              "      <td>False</td>\n",
              "      <td>False</td>\n",
              "      <td>False</td>\n",
              "    </tr>\n",
              "    <tr>\n",
              "      <th>1</th>\n",
              "      <td>False</td>\n",
              "      <td>False</td>\n",
              "      <td>False</td>\n",
              "    </tr>\n",
              "    <tr>\n",
              "      <th>2</th>\n",
              "      <td>False</td>\n",
              "      <td>False</td>\n",
              "      <td>False</td>\n",
              "    </tr>\n",
              "    <tr>\n",
              "      <th>3</th>\n",
              "      <td>False</td>\n",
              "      <td>False</td>\n",
              "      <td>False</td>\n",
              "    </tr>\n",
              "    <tr>\n",
              "      <th>4</th>\n",
              "      <td>False</td>\n",
              "      <td>False</td>\n",
              "      <td>False</td>\n",
              "    </tr>\n",
              "    <tr>\n",
              "      <th>5</th>\n",
              "      <td>False</td>\n",
              "      <td>False</td>\n",
              "      <td>False</td>\n",
              "    </tr>\n",
              "    <tr>\n",
              "      <th>6</th>\n",
              "      <td>False</td>\n",
              "      <td>False</td>\n",
              "      <td>False</td>\n",
              "    </tr>\n",
              "    <tr>\n",
              "      <th>7</th>\n",
              "      <td>False</td>\n",
              "      <td>False</td>\n",
              "      <td>False</td>\n",
              "    </tr>\n",
              "  </tbody>\n",
              "</table>\n",
              "</div>"
            ],
            "text/plain": [
              "    Year  Title  Record setting gross(A$)\n",
              "0  False  False                     False\n",
              "1  False  False                     False\n",
              "2  False  False                     False\n",
              "3  False  False                     False\n",
              "4  False  False                     False\n",
              "5  False  False                     False\n",
              "6  False  False                     False\n",
              "7  False  False                     False"
            ]
          },
          "metadata": {
            "tags": []
          },
          "execution_count": 201
        }
      ]
    },
    {
      "cell_type": "code",
      "metadata": {
        "colab": {
          "base_uri": "https://localhost:8080/"
        },
        "id": "MU9f16S_ysJ9",
        "outputId": "5d769281-abab-4b60-f03f-e14852311d4b"
      },
      "source": [
        "dp.info()"
      ],
      "execution_count": 200,
      "outputs": [
        {
          "output_type": "stream",
          "text": [
            "<class 'pandas.core.frame.DataFrame'>\n",
            "RangeIndex: 8 entries, 0 to 7\n",
            "Data columns (total 3 columns):\n",
            " #   Column                    Non-Null Count  Dtype \n",
            "---  ------                    --------------  ----- \n",
            " 0   Year                      8 non-null      int64 \n",
            " 1   Title                     8 non-null      object\n",
            " 2   Record setting gross(A$)  8 non-null      int64 \n",
            "dtypes: int64(2), object(1)\n",
            "memory usage: 320.0+ bytes\n"
          ],
          "name": "stdout"
        }
      ]
    },
    {
      "cell_type": "code",
      "metadata": {
        "colab": {
          "base_uri": "https://localhost:8080/",
          "height": 399
        },
        "id": "nfg6tAkfxIhq",
        "outputId": "ce523b5f-f3c9-4faf-9119-4abdf152bea8"
      },
      "source": [
        "dp.plot(kind='bar', x='Title', y='Record setting gross(A$)', color='red')\n",
        "plt.ylabel('Record setting gross(A$)')\n",
        "plt.show()"
      ],
      "execution_count": 205,
      "outputs": [
        {
          "output_type": "display_data",
          "data": {
            "image/png": "[encoded data removed]",
            "text/plain": [
              "<Figure size 432x288 with 1 Axes>"
            ]
          },
          "metadata": {
            "tags": [],
            "needs_background": "light"
          }
        }
      ]
    },
    {
      "cell_type": "code",
      "metadata": {
        "colab": {
          "base_uri": "https://localhost:8080/",
          "height": 320
        },
        "id": "R1L9q7h90gTZ",
        "outputId": "f3cebfec-42a8-4780-9185-7a79abb564ee"
      },
      "source": [
        "#доля выручки каждого фильма\n",
        "dp['Record setting gross(A$)'].plot(kind='pie', autopct='%.2f%%', labels=dp['Title'], figsize=(10,5))"
      ],
      "execution_count": 207,
      "outputs": [
        {
          "output_type": "execute_result",
          "data": {
            "text/plain": [
              "<matplotlib.axes._subplots.AxesSubplot at 0x7f87a80c5c50>"
            ]
          },
          "metadata": {
            "tags": []
          },
          "execution_count": 207
        },
        {
          "output_type": "display_data",
          "data": {
            "image/png": "[encoded data removed]",
            "text/plain": [
              "<Figure size 720x360 with 1 Axes>"
            ]
          },
          "metadata": {
            "tags": []
          }
        }
      ]
    },
    {
      "cell_type": "code",
      "metadata": {
        "colab": {
          "base_uri": "https://localhost:8080/",
          "height": 457
        },
        "id": "7YkEoJn41e20",
        "outputId": "06c3cf03-3a45-43ce-848c-32a7f4786a04"
      },
      "source": [
        "plt.figure(figsize=(10,5))\n",
        "#creating a bar plot\n",
        "ax=sns.barplot(x='Title',y='Record setting gross(A$)',data=dp)\n",
        "#rotating the x axis labels\n",
        "ax.set_xticklabels(labels=dp['Title'],rotation=75)\n",
        "#setting the title\n",
        "ax.set_title(\"List of highest-grossing films in Australia\")\n",
        "#setting the Y-axis labels\n",
        "ax.set_ylabel(\"Gross revenue\")\n",
        "#Labelling the bars in the bar graph\n",
        "for p in ax.patches:\n",
        "  ax.annotate(p.get_height(),(p.get_x()+p.get_width()/2,p.get_height()),ha='center',va='bottom')"
      ],
      "execution_count": 210,
      "outputs": [
        {
          "output_type": "display_data",
          "data": {
            "image/png": "[encoded data removed]",
            "text/plain": [
              "<Figure size 720x360 with 1 Axes>"
            ]
          },
          "metadata": {
            "tags": [],
            "needs_background": "light"
          }
        }
      ]
    },
    {
      "cell_type": "markdown",
      "metadata": {
        "id": "ksZc7-qi2QZt"
      },
      "source": [
        "## Заключение\n",
        "Самая большая выручка (в австралийских долларах) у фильма \"Аватар\". \n",
        "Самая маленькая выручка у \"Унесенные ветром\"."
      ]
    },
    {
      "cell_type": "markdown",
      "metadata": {
        "id": "w-W57tINVC2z"
      },
      "source": [
        "# **Case study 2: Use of data analysis for air quality management**"
      ]
    },
    {
      "cell_type": "markdown",
      "metadata": {
        "id": "jZMWTcwLVqPV"
      },
      "source": [
        "Для мониторинга состояния качества атмосферного воздуха Центральный совет по контролю за загрязнением (ЦCКЗ) Индии управляет обширной сетью станций мониторинга, разбросанных по всей стране. Регулярно контролируемые параметры включают диоксид серы (SO2), оксиды азота в виде диоксида азота (NO2), озон и мелкие твердые частицы (PM2,5). Основываясь на тенденциях на протяжении многих лет, качество воздуха в столице страны Дели стало предметом озабоченности общественности.\n",
        "Далее следует пошаговый анализ ежедневных данных о качестве воздуха, чтобы продемонстрировать, как анализ данных может помочь в планировании мероприятий в рамках управления качеством воздуха.\n",
        "**Примечание.** Набор данных, использованный для этого тематического исследования, называется **«NSIT Dwarka.csv»**. Пожалуйста, обратитесь к разделу технического описания для получения подробной информации о том, как импортировать этот набор данных."
      ]
    },
    {
      "cell_type": "markdown",
      "metadata": {
        "id": "NalhUbxlWAz-"
      },
      "source": [
        "Вопросы, на которые мы хотим ответить с помощью нашего анализа:\n",
        " 1. Среднегодовые значения: из четырех загрязнителей - SO2, NO2, озона и PM2,5 - среднегодовые уровни которых регулярно превышают установленные годовые нормы?\n",
        " 2. Суточные нормы. В отношении загрязнителей, какое количество дней в году дневные нормы превышаются?\n",
        " 3. Временные колебания. В какие месяцы уровни загрязнения превышают критические уровни в большинстве дней?"
      ]
    },
    {
      "cell_type": "markdown",
      "metadata": {
        "id": "EWA-jjbPWqSP"
      },
      "source": [
        "# **Шаг 1. Импорт данных и изучение характеристик наборов данных.**"
      ]
    },
    {
      "cell_type": "code",
      "metadata": {
        "id": "XQUZCPArWWd0",
        "colab": {
          "resources": {
            "http://localhost:8080/nbextensions/google.colab/files.js": {
              "data": "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",
              "ok": true,
              "headers": [
                [
                  "content-type",
                  "application/javascript"
                ]
              ],
              "status": 200,
              "status_text": ""
            }
          },
          "base_uri": "https://localhost:8080/",
          "height": 72
        },
        "outputId": "42fc0311-4177-4a5a-f4cb-037f0e344553"
      },
      "source": [
        "from google.colab import files\n",
        "uploaded = files.upload()"
      ],
      "execution_count": null,
      "outputs": [
        {
          "output_type": "display_data",
          "data": {
            "text/html": [
              "\n",
              "     <input type=\"file\" id=\"files-96549af1-fe73-4fef-a9c0-22cba3b42524\" name=\"files[]\" multiple disabled\n",
              "        style=\"border:none\" />\n",
              "     <output id=\"result-96549af1-fe73-4fef-a9c0-22cba3b42524\">\n",
              "      Upload widget is only available when the cell has been executed in the\n",
              "      current browser session. Please rerun this cell to enable.\n",
              "      </output>\n",
              "      <script src=\"/nbextensions/google.colab/files.js\"></script> "
            ],
            "text/plain": [
              "<IPython.core.display.HTML object>"
            ]
          },
          "metadata": {
            "tags": []
          }
        },
        {
          "output_type": "stream",
          "text": [
            "Saving NSIT Dwarka.csv to NSIT Dwarka.csv\n"
          ],
          "name": "stdout"
        }
      ]
    },
    {
      "cell_type": "code",
      "metadata": {
        "id": "2kaPjgYnWUcl"
      },
      "source": [
        "import pandas as pd\n",
        "import numpy as np\n",
        "import seaborn as sns\n",
        "import matplotlib.pyplot as plt\n",
        "#aqdata is the name of the DataFrame, short for Air Quality Data.\n",
        "aqdata=pd.read_csv('NSIT Dwarka.csv')\n",
        "aqdata.head()"
      ],
      "execution_count": null,
      "outputs": []
    },
    {
      "cell_type": "markdown",
      "metadata": {
        "id": "VsVqw4McWxkS"
      },
      "source": [
        "Проверка типов данных столбцов:"
      ]
    },
    {
      "cell_type": "code",
      "metadata": {
        "id": "I7Y9XJ19Wy09",
        "colab": {
          "base_uri": "https://localhost:8080/"
        },
        "outputId": "4e19eaa6-61b1-424a-d156-84b9949422ce"
      },
      "source": [
        "aqdata.info()"
      ],
      "execution_count": null,
      "outputs": [
        {
          "output_type": "stream",
          "text": [
            "<class 'pandas.core.frame.DataFrame'>\n",
            "RangeIndex: 2192 entries, 0 to 2191\n",
            "Data columns (total 6 columns):\n",
            " #   Column     Non-Null Count  Dtype \n",
            "---  ------     --------------  ----- \n",
            " 0   From Date  2191 non-null   object\n",
            " 1   To Date    2191 non-null   object\n",
            " 2   PM2.5      2191 non-null   object\n",
            " 3   SO2        2187 non-null   object\n",
            " 4   Ozone      2187 non-null   object\n",
            " 5   NO2        2190 non-null   object\n",
            "dtypes: object(6)\n",
            "memory usage: 102.9+ KB\n"
          ],
          "name": "stdout"
        }
      ]
    },
    {
      "cell_type": "markdown",
      "metadata": {
        "id": "QWw6uXu-W90m"
      },
      "source": [
        "Наблюдение: хотя значения SO2, NO2, озона и PM2,5 являются числовыми, Pandasсчитывает тип данных этих столбцов как «объект». Для работы с этими столбцами (т. Е. Построить график графики, наблюдать за тенденциями, рассчитывать агрегированные значения), нам нужно изменить типы данных\n",
        "эти столбцы. Кроме того, похоже, есть некоторые недостающие записи."
      ]
    },
    {
      "cell_type": "markdown",
      "metadata": {
        "id": "et3y9bLWXDrs"
      },
      "source": [
        "# **Шаг 2. Обработка данных**"
      ]
    },
    {
      "cell_type": "markdown",
      "metadata": {
        "id": "NXW65ABuXNfM"
      },
      "source": [
        "Основываясь на наблюдениях на предыдущем шаге, на этом шаге мы будем\n",
        "  1. Работать с пропущенными значениями. У нас есть возможность отказаться от нулевые значения или замена нулевых значений.\n",
        "  2. Изменение типа данных для столбцов.\n",
        "\n",
        "Проверим наличие отсутствующих значений в наборе данных:"
      ]
    },
    {
      "cell_type": "code",
      "metadata": {
        "id": "bk8v7E8oXa0B",
        "colab": {
          "base_uri": "https://localhost:8080/"
        },
        "outputId": "5736b279-5006-4487-d63c-bd916d92198f"
      },
      "source": [
        "aqdata.isna().sum()"
      ],
      "execution_count": null,
      "outputs": [
        {
          "output_type": "execute_result",
          "data": {
            "text/plain": [
              "From Date    1\n",
              "To Date      1\n",
              "PM2.5        1\n",
              "SO2          5\n",
              "Ozone        5\n",
              "NO2          2\n",
              "dtype: int64"
            ]
          },
          "metadata": {
            "tags": []
          },
          "execution_count": 37
        }
      ]
    },
    {
      "cell_type": "markdown",
      "metadata": {
        "id": "u3F4-JZYXmht"
      },
      "source": [
        "Кажется, что пропущенных значений не так много, но в этом и заключается загвоздка. Когда мы проверив первые несколько строк с помощью оператора head, мы увидели, что некоторые пропущенные значения представлены как **None **в исходном наборе данных. Однако они не признаются как нулевые значения от Pandas. Заменим значение **None** значением **np.nan**, чтобы **Pandas** признает эти значения как нулевые значения:"
      ]
    },
    {
      "cell_type": "code",
      "metadata": {
        "id": "T9wl_fLeXt4K"
      },
      "source": [
        "aqdata=aqdata.replace({'None':np.nan})"
      ],
      "execution_count": null,
      "outputs": []
    },
    {
      "cell_type": "code",
      "metadata": {
        "id": "28y1N5ZjXyP0",
        "colab": {
          "base_uri": "https://localhost:8080/"
        },
        "outputId": "d01c05e1-2f81-4bba-8f8b-bd077997a16d"
      },
      "source": [
        "aqdata.isna().sum()"
      ],
      "execution_count": null,
      "outputs": [
        {
          "output_type": "execute_result",
          "data": {
            "text/plain": [
              "From Date      1\n",
              "To Date        1\n",
              "PM2.5        562\n",
              "SO2           84\n",
              "Ozone        106\n",
              "NO2          105\n",
              "dtype: int64"
            ]
          },
          "metadata": {
            "tags": []
          },
          "execution_count": 39
        }
      ]
    },
    {
      "cell_type": "code",
      "metadata": {
        "id": "tAsHnBHEX6ZU",
        "colab": {
          "base_uri": "https://localhost:8080/"
        },
        "outputId": "9481ccd8-1561-47c1-eb73-502bda50aee7"
      },
      "source": [
        "aqdata.info()"
      ],
      "execution_count": null,
      "outputs": [
        {
          "output_type": "stream",
          "text": [
            "<class 'pandas.core.frame.DataFrame'>\n",
            "RangeIndex: 2192 entries, 0 to 2191\n",
            "Data columns (total 6 columns):\n",
            " #   Column     Non-Null Count  Dtype \n",
            "---  ------     --------------  ----- \n",
            " 0   From Date  2191 non-null   object\n",
            " 1   To Date    2191 non-null   object\n",
            " 2   PM2.5      1630 non-null   object\n",
            " 3   SO2        2108 non-null   object\n",
            " 4   Ozone      2086 non-null   object\n",
            " 5   NO2        2087 non-null   object\n",
            "dtypes: object(6)\n",
            "memory usage: 102.9+ KB\n"
          ],
          "name": "stdout"
        }
      ]
    },
    {
      "cell_type": "markdown",
      "metadata": {
        "id": "irDUSsmdYE2S"
      },
      "source": [
        "Мы видим, что столбцы, содержащие числовые значения, не распознаются как числовые столбцы, а столбцы, содержащие даты, также не распознаются правильно. Имея столбцы с неправильными типами данных становятся препятствием для следующего шага, на котором мы анализировать тенденции и строить графики; этот шаг требует, чтобы типы данных столбцов были в\n",
        "формате, подходящем для чтения. В следующих строках кода мы используем метод ***pd.to_datetime*** для преобразования типа данных.\n",
        "столбцов «From Date» и «To Date» к типу datetime, что упрощает\n",
        "анализируйте отдельные компоненты даты, такие как месяцы и годы."
      ]
    },
    {
      "cell_type": "code",
      "metadata": {
        "id": "4oISNXEKYTOq"
      },
      "source": [
        "aqdata['From Date']=pd.to_datetime(aqdata['From Date'], format='%d-%m-%Y %H:%M')\n",
        "aqdata['To Date']=pd.to_datetime(aqdata['To Date'], format='%d-%m-%Y %H:%M')\n",
        "aqdata['SO2']=pd.to_numeric(aqdata['SO2'], errors='coerce')\n",
        "aqdata['NO2']=pd.to_numeric(aqdata['NO2'], errors='coerce')\n",
        "aqdata['Ozone']=pd.to_numeric(aqdata['Ozone'], errors='coerce')\n",
        "aqdata['PM2.5']=pd.to_numeric(aqdata['PM2.5'], errors='coerce')"
      ],
      "execution_count": null,
      "outputs": []
    },
    {
      "cell_type": "code",
      "metadata": {
        "id": "LZc9ZmtVYcP_",
        "colab": {
          "base_uri": "https://localhost:8080/"
        },
        "outputId": "4d5b6fe4-1f05-4590-a1cc-565a1ae26644"
      },
      "source": [
        "aqdata.info()"
      ],
      "execution_count": null,
      "outputs": [
        {
          "output_type": "stream",
          "text": [
            "<class 'pandas.core.frame.DataFrame'>\n",
            "RangeIndex: 2192 entries, 0 to 2191\n",
            "Data columns (total 6 columns):\n",
            " #   Column     Non-Null Count  Dtype         \n",
            "---  ------     --------------  -----         \n",
            " 0   From Date  2191 non-null   datetime64[ns]\n",
            " 1   To Date    2191 non-null   datetime64[ns]\n",
            " 2   PM2.5      1630 non-null   float64       \n",
            " 3   SO2        2108 non-null   float64       \n",
            " 4   Ozone      2086 non-null   float64       \n",
            " 5   NO2        2087 non-null   float64       \n",
            "dtypes: datetime64[ns](2), float64(4)\n",
            "memory usage: 102.9 KB\n"
          ],
          "name": "stdout"
        }
      ]
    },
    {
      "cell_type": "markdown",
      "metadata": {
        "id": "-OtbklLlYt4W"
      },
      "source": [
        "Поскольку большая часть нашего анализа рассматривает годовые данные, мы создаем новый столбец для извлечения\n",
        "года, используя функцию **pd.DatetimeIndex**."
      ]
    },
    {
      "cell_type": "code",
      "metadata": {
        "id": "733C6_uwYpf5"
      },
      "source": [
        "aqdata['Year']=pd.DatetimeIndex(aqdata['From Date']).year"
      ],
      "execution_count": null,
      "outputs": []
    },
    {
      "cell_type": "code",
      "metadata": {
        "id": "oVywGDj4Y08w"
      },
      "source": [
        "aq2014=aqdata[aqdata['Year']==2014]\n",
        "aq2015=aqdata[aqdata['Year']==2015]\n",
        "aq2016=aqdata[aqdata['Year']==2016]\n",
        "aq2017=aqdata[aqdata['Year']==2017]\n",
        "aq2018=aqdata[aqdata['Year']==2018]\n",
        "aq2019=aqdata[aqdata['Year']==2019]"
      ],
      "execution_count": null,
      "outputs": []
    },
    {
      "cell_type": "markdown",
      "metadata": {
        "id": "JtAX3GTXY7L9"
      },
      "source": [
        "Теперь давайте посмотрим на количество нулевых значений в данных за каждый год:"
      ]
    },
    {
      "cell_type": "code",
      "metadata": {
        "id": "YFGVyLgMY8hY",
        "colab": {
          "base_uri": "https://localhost:8080/"
        },
        "outputId": "81e5210d-389c-49f6-f450-1434510f1958"
      },
      "source": [
        "aq2014.isna().sum()"
      ],
      "execution_count": null,
      "outputs": [
        {
          "output_type": "execute_result",
          "data": {
            "text/plain": [
              "From Date      0\n",
              "To Date        0\n",
              "PM2.5        365\n",
              "SO2            8\n",
              "Ozone          8\n",
              "NO2            8\n",
              "Year           0\n",
              "dtype: int64"
            ]
          },
          "metadata": {
            "tags": []
          },
          "execution_count": 45
        }
      ]
    },
    {
      "cell_type": "code",
      "metadata": {
        "id": "kD3CMkm5ZBwY",
        "colab": {
          "base_uri": "https://localhost:8080/"
        },
        "outputId": "458b6c62-ad15-4d21-99b8-67e06ca2d97d"
      },
      "source": [
        "aq2015.isna().sum()"
      ],
      "execution_count": null,
      "outputs": [
        {
          "output_type": "execute_result",
          "data": {
            "text/plain": [
              "From Date      0\n",
              "To Date        0\n",
              "PM2.5        117\n",
              "SO2           12\n",
              "Ozone         29\n",
              "NO2           37\n",
              "Year           0\n",
              "dtype: int64"
            ]
          },
          "metadata": {
            "tags": []
          },
          "execution_count": 53
        }
      ]
    },
    {
      "cell_type": "code",
      "metadata": {
        "id": "5pvo7f7YZElS",
        "colab": {
          "base_uri": "https://localhost:8080/"
        },
        "outputId": "05b03648-c48d-4058-8956-162917658281"
      },
      "source": [
        "aq2016.isna().sum()"
      ],
      "execution_count": null,
      "outputs": [
        {
          "output_type": "execute_result",
          "data": {
            "text/plain": [
              "From Date     0\n",
              "To Date       0\n",
              "PM2.5        43\n",
              "SO2          43\n",
              "Ozone        47\n",
              "NO2          42\n",
              "Year          0\n",
              "dtype: int64"
            ]
          },
          "metadata": {
            "tags": []
          },
          "execution_count": 52
        }
      ]
    },
    {
      "cell_type": "code",
      "metadata": {
        "id": "i7fSV5wTZHNf",
        "colab": {
          "base_uri": "https://localhost:8080/"
        },
        "outputId": "b521b2c2-b018-40cb-8bc2-eef3e2ff13f2"
      },
      "source": [
        "aq2017.isna().sum()"
      ],
      "execution_count": null,
      "outputs": [
        {
          "output_type": "execute_result",
          "data": {
            "text/plain": [
              "From Date     0\n",
              "To Date       0\n",
              "PM2.5        34\n",
              "SO2          17\n",
              "Ozone        17\n",
              "NO2          12\n",
              "Year          0\n",
              "dtype: int64"
            ]
          },
          "metadata": {
            "tags": []
          },
          "execution_count": 50
        }
      ]
    },
    {
      "cell_type": "code",
      "metadata": {
        "id": "zoMZJBBKZIfE",
        "colab": {
          "base_uri": "https://localhost:8080/"
        },
        "outputId": "1d007599-ea34-495a-dbcd-99d776de982e"
      },
      "source": [
        "aq2018.isna().sum()"
      ],
      "execution_count": null,
      "outputs": [
        {
          "output_type": "execute_result",
          "data": {
            "text/plain": [
              "From Date    0\n",
              "To Date      0\n",
              "PM2.5        2\n",
              "SO2          2\n",
              "Ozone        2\n",
              "NO2          2\n",
              "Year         0\n",
              "dtype: int64"
            ]
          },
          "metadata": {
            "tags": []
          },
          "execution_count": 48
        }
      ]
    },
    {
      "cell_type": "code",
      "metadata": {
        "id": "wrMimqA2ZLS4",
        "colab": {
          "base_uri": "https://localhost:8080/"
        },
        "outputId": "dc1f8868-08a6-4713-b087-b28f319d7c60"
      },
      "source": [
        "aq2019.isna().sum()"
      ],
      "execution_count": null,
      "outputs": [
        {
          "output_type": "execute_result",
          "data": {
            "text/plain": [
              "From Date    0\n",
              "To Date      0\n",
              "PM2.5        0\n",
              "SO2          1\n",
              "Ozone        2\n",
              "NO2          3\n",
              "Year         0\n",
              "dtype: int64"
            ]
          },
          "metadata": {
            "tags": []
          },
          "execution_count": 47
        }
      ]
    },
    {
      "cell_type": "markdown",
      "metadata": {
        "id": "50CsUht7ZXTO"
      },
      "source": [
        "Из анализа нулевых значений для каждого года мы видим, что данные за 2014 и\n",
        "2015 имеют большинство недостающих значений. Следовательно, мы предпочитаем игнорировать данные из\n",
        "2014 и 2015 годы, и проанализировать данные за 4 года с 2016 по 2019 год. В соответствии с нормами установлено Центральным советом по контролю за загрязнением, Индия, нам необходимо ежедневно контролировать не менее 104\n",
        "значения для получения среднегодовых значений.\n",
        "2016, 2017, 2018 и 2019 - это четыре года, за которые будут собираться данные о качестве воздуха. Прежде чем перейти к следующему шагу, мы отбрасываем недостающие значения для каждого года. с 2016 по 2019 год вместо их замены, поскольку у нас достаточно данных (более104 показаний) для каждого из этих четырех лет, чтобы рассчитать среднегодовые значения, как показано ниже."
      ]
    },
    {
      "cell_type": "code",
      "metadata": {
        "id": "GGmftsu4ZN9H",
        "colab": {
          "base_uri": "https://localhost:8080/"
        },
        "outputId": "c8289e77-5987-4cf0-c710-3113e04c993c"
      },
      "source": [
        "aq2016.dropna(inplace=True)\n",
        "aq2017.dropna(inplace=True)\n",
        "aq2018.dropna(inplace=True)\n",
        "aq2019.dropna(inplace=True)"
      ],
      "execution_count": null,
      "outputs": [
        {
          "output_type": "stream",
          "text": [
            "/usr/local/lib/python3.7/dist-packages/ipykernel_launcher.py:1: SettingWithCopyWarning: \n",
            "A value is trying to be set on a copy of a slice from a DataFrame\n",
            "\n",
            "See the caveats in the documentation: https://pandas.pydata.org/pandas-docs/stable/user_guide/indexing.html#returning-a-view-versus-a-copy\n",
            "  \"\"\"Entry point for launching an IPython kernel.\n",
            "/usr/local/lib/python3.7/dist-packages/ipykernel_launcher.py:2: SettingWithCopyWarning: \n",
            "A value is trying to be set on a copy of a slice from a DataFrame\n",
            "\n",
            "See the caveats in the documentation: https://pandas.pydata.org/pandas-docs/stable/user_guide/indexing.html#returning-a-view-versus-a-copy\n",
            "  \n",
            "/usr/local/lib/python3.7/dist-packages/ipykernel_launcher.py:3: SettingWithCopyWarning: \n",
            "A value is trying to be set on a copy of a slice from a DataFrame\n",
            "\n",
            "See the caveats in the documentation: https://pandas.pydata.org/pandas-docs/stable/user_guide/indexing.html#returning-a-view-versus-a-copy\n",
            "  This is separate from the ipykernel package so we can avoid doing imports until\n",
            "/usr/local/lib/python3.7/dist-packages/ipykernel_launcher.py:4: SettingWithCopyWarning: \n",
            "A value is trying to be set on a copy of a slice from a DataFrame\n",
            "\n",
            "See the caveats in the documentation: https://pandas.pydata.org/pandas-docs/stable/user_guide/indexing.html#returning-a-view-versus-a-copy\n",
            "  after removing the cwd from sys.path.\n"
          ],
          "name": "stderr"
        }
      ]
    },
    {
      "cell_type": "markdown",
      "metadata": {
        "id": "tWMlIsk-Zzy1"
      },
      "source": [
        "# **Шаг 3: Визуализация**"
      ]
    },
    {
      "cell_type": "code",
      "metadata": {
        "id": "__h85zA_ZzRh"
      },
      "source": [
        "Часть 1 анализа: построение среднегодовых значений загрязняющих веществ.\n",
        "На основе данных мониторинга средних 24-часовых концентраций в атмосферном воздухе PM2,5, SO2,\n",
        "NO2 и озон (O3), среднегодовые значения наносятся на график для определения параметров, для которых\n",
        "установленные национальные стандарты качества атмосферного воздуха для среднегодовых превышений.\n",
        "Сначала мы рассчитываем среднегодовые значения для каждого загрязнителя (PM2,5, SO2, NO2 и озон), как\n",
        "следует:"
      ],
      "execution_count": null,
      "outputs": []
    },
    {
      "cell_type": "code",
      "metadata": {
        "id": "1566jJMEZ7n-"
      },
      "source": [
        "s16avg=round(aq2016['SO2'].mean(),2)\n",
        "s17avg=round(aq2017['SO2'].mean(),2)\n",
        "s18avg=round(aq2018['SO2'].mean(),2)\n",
        "s19avg=round(aq2019['SO2'].mean(),2)\n",
        "\n",
        "p16avg=round(aq2016['PM2.5'].mean(),2)\n",
        "p17avg=round(aq2017['PM2.5'].mean(),2)\n",
        "p18avg=round(aq2018['PM2.5'].mean(),2)\n",
        "p19avg=round(aq2019['PM2.5'].mean(),2)\n",
        "\n",
        "n16avg=round(aq2016['NO2'].mean(),2)\n",
        "n17avg=round(aq2017['NO2'].mean(),2)\n",
        "n18avg=round(aq2018['NO2'].mean(),2)\n",
        "n19avg=round(aq2019['NO2'].mean(),2)"
      ],
      "execution_count": null,
      "outputs": []
    },
    {
      "cell_type": "markdown",
      "metadata": {
        "id": "_wTyS_71aF9b"
      },
      "source": [
        "Пояснение: Обозначения для именования переменных, представляющих средние значения загрязняющих веществ. выглядит следующим образом: первая буква загрязнителя, год и сокращение «avg» для в среднем. Например, s15avg обозначает средний уровень SO2 в 2015 году. Мы используем метод вычисления среднего и функция округления для округления среднего значение до двух десятичных знаков. Мы не рассматриваем озон, поскольку годовые стандарты не учитываются. применимо к озону. Затем мы создаем DataFrame для каждого загрязнителя с двумя столбцами в каждом. Один из столбцы представляют год, а другой столбец показывает средний годовой уровень для этот год."
      ]
    },
    {
      "cell_type": "code",
      "metadata": {
        "id": "b686YgFPaL4T"
      },
      "source": [
        "dfs=pd.DataFrame({'Yearly average':[s16avg, s17avg, s18avg, s19avg]}, index=['2016', '2017', '2018', '2019'])\n",
        "dfp=pd.DataFrame({'Yearly average':[p16avg, p17avg, p18avg, p19avg]}, index=['2016', '2017', '2018', '2019'])\n",
        "dfn=pd.DataFrame({'Yearly average':[n16avg, n17avg, n18avg, n19avg]}, index=['2016', '2017', '2018', '2019'])\n"
      ],
      "execution_count": null,
      "outputs": []
    },
    {
      "cell_type": "code",
      "metadata": {
        "id": "rh7LUX7saQbq",
        "colab": {
          "base_uri": "https://localhost:8080/",
          "height": 377
        },
        "outputId": "935eaa50-a900-4051-a294-b9d6fc83e7bb"
      },
      "source": [
        "#Creating a figure with 3 subplots - 1 for each pollutant\n",
        "fig,(ax1,ax2,ax3)=plt.subplots(1,3)\n",
        "#Creating a DataFrame the yearly averages for NO2\n",
        "dfn.plot(kind='bar',figsize=(20,5),ax=ax1)\n",
        "#Setting the title for the first axes object\n",
        "ax1.set_title(\"NO2\", fontsize=18)\n",
        "#Setting the X-axis label for the NO2 graph\n",
        "ax1.set_xlabel(\"Years\", fontsize=18)\n",
        "ax1.legend().set_visible(False)\n",
        "#Setting the Y-axis label\n",
        "ax1.set_ylabel(\"Yearly average\", fontsize=18)\n",
        "#Creating a dashed line to indicate the annual standard\n",
        "ax1.hlines(40, -.9,15, linestyles=\"dashed\")\n",
        "#Labelling this dashed line\n",
        "ax1.annotate('Annual avg. standard for NO2',(-0.5,38))\n",
        "#labelling the bars\n",
        "for p in ax1.patches:\n",
        "    ax1.annotate(p.get_height(),(p.get_x()+p.get_width()/2,p.get_height()), color=\"black\", ha=\"left\", va ='bottom',fontsize=12)\n",
        "#Plotting the yearly averages similarly for PM2.5\n",
        "dfp.plot(kind='bar',figsize=(20,5),ax=ax2)\n",
        "ax2.set_title(\"PM2.5\", fontsize=18)\n",
        "ax2.hlines(40, -.9,15, linestyles=\"dashed\")\n",
        "ax2.annotate('Annual avg. standard for PM2.5',(-0.5,48))\n",
        "ax2.legend().set_visible(False)\n",
        "for p in ax2.patches:\n",
        "    ax2.annotate(p.get_height(),(p.get_x()+p.get_width()/2,p.get_height()), color=\"black\", ha=\"center\", va ='bottom',fontsize=12)\n",
        "#Plotting the yearly averages similarly for SO2\n",
        "dfs.plot(kind='bar',figsize=(20,5),ax=ax3)\n",
        "ax3.hlines(50, -.9,15, linestyles=\"dashed\")\n",
        "ax3.annotate('Annual avg. standard for SO2',(-0.5,48))\n",
        "ax3.set_title(\"SO2\", fontsize=18)\n",
        "ax3.legend().set_visible(False)\n",
        "for p in ax3.patches:\n",
        "    ax3.annotate(p.get_height(),(p.get_x()+p.get_width()/2,p.get_height()), color=\"black\", ha=\"center\", va ='bottom',fontsize=12)"
      ],
      "execution_count": null,
      "outputs": [
        {
          "output_type": "display_data",
          "data": {
            "image/png": "[encoded data removed]",
            "text/plain": [
              "<Figure size 1440x360 with 3 Axes>"
            ]
          },
          "metadata": {
            "tags": [],
            "needs_background": "light"
          }
        }
      ]
    },
    {
      "cell_type": "markdown",
      "metadata": {
        "id": "BTMYK3zYa4sI"
      },
      "source": [
        "Наблюдение: очевидно, что среднегодовые нормы превышаются только для PM2,5.\n",
        "Для NO2 наблюдаемые значения относительно близки к предписанному стандарту. Для SO2 наблюдаемые значения намного меньше годовой нормы. Поэтому для дальнейшего анализа учитываются только эти два загрязнителя (NO2 и PM2,5)"
      ]
    },
    {
      "cell_type": "markdown",
      "metadata": {
        "id": "pJFqYstCa9Ui"
      },
      "source": [
        "**Часть 2 анализа качества воздуха: график количества дней в году, когда 24 часа в сутки превышены нормы для PM2,5 и NO2**\n",
        "\n",
        "В то время как на этапе 1 анализа указываются загрязнители, вызывающие озабоченность с точки зрения управления качеством воздуха. и планирование вмешательств, на шаге 2, на каждый год, мы показываем, как различные уровни\n",
        "превышение нормативов для суточных значений распределяется. В случае PM2,5 мы\n",
        "нанесите на график количество дней в году, для которых наблюдаемые значения попадают в следующие диапазоны.\n",
        "  а. От 0 до 60 мкг / м3\n",
        "  б. От 61 до 120 мкг / м3\n",
        "  c. От 121 до 180 мкг / м3\n",
        "  d. > 180 мкг / м3\n",
        "Чтобы построить эти данные, нам нужно создать объекты DataFrame для каждого года с 2016 по 2019 год. фиксирование количества дней, в течение которых уровни PM2,5 падали в каждом из этих интервалов, как показано В следующих:"
      ]
    },
    {
      "cell_type": "code",
      "metadata": {
        "id": "LGuMxqscbMuO"
      },
      "source": [
        "#Creating intervals for 2016 with the number of days with PM2.5  concentration falling in that interval\n",
        "a2=aq2016[(aq2016['PM2.5']<=60)]['PM2.5'].count()\n",
        "b2=aq2016[((aq2016['PM2.5']>60) & (aq2016['PM2.5']<=120))]['PM2.5'].count()\n",
        "c2=aq2016[((aq2016['PM2.5']>120) & (aq2016['PM2.5']<=180))]['PM2.5'].count()\n",
        "d2=aq2016[(aq2016['PM2.5']>180)]['PM2.5'].count()\n",
        "dfpb2016=pd.DataFrame({'year':'2016','pm levels':['<60','between 61 and 120','between 121 and 180','greater than 180'],'number of critical days':[a2,b2,c2,d2]})\n",
        "#Creating intervals for 2017 with the number of days with PM2.5  concentration falling in each interval\n",
        "a3=aq2017[(aq2017['PM2.5']<=60)]['PM2.5'].count()\n",
        "b3=aq2017[((aq2017['PM2.5']>60) & (aq2017['PM2.5']<=120))]['PM2.5'].count()\n",
        "c3=aq2017[((aq2017['PM2.5']>120) & (aq2017['PM2.5']<=180))]['PM2.5'].count()\n",
        "d3=aq2017[(aq2017['PM2.5']>180)]['PM2.5'].count()\n",
        "dfpb2017=pd.DataFrame({'year':'2017','pm levels':['<60','between 61 and 120','between 121 and 180','greater than 180'],'number of critical days':[a3,b3,c3,d3]})\n",
        "#Creating intervals for 2018 with the number of days with PM2.5  concentration falling in each interval\n",
        "a4=aq2018[(aq2018['PM2.5']<=60)]['PM2.5'].count()\n",
        "b4=aq2018[((aq2018['PM2.5']>60) & (aq2018['PM2.5']<=120))]['PM2.5'].count()\n",
        "c4=aq2018[((aq2018['PM2.5']>120) & (aq2018['PM2.5']<=180))]['PM2.5'].count()\n",
        "d4=aq2018[(aq2018['PM2.5']>180)]['PM2.5'].count()\n",
        "dfpb2018=pd.DataFrame({'year':'2018','pm levels':['<60','between 61 and 120','between 121 and 180','greater than 180'],'number of critical days':[a4,b4,c4,d4]})\n",
        "#Creating intervals for 2019 with the number of days with PM2.5 concentration falling in each interval\n",
        "a5=aq2019[(aq2019['PM2.5']<=60)]['PM2.5'].count()\n",
        "b5=aq2019[((aq2019['PM2.5']>60) & (aq2019['PM2.5']<=120))]['PM2.5'].count()\n",
        "c5=aq2019[((aq2019['PM2.5']>120) & (aq2019['PM2.5']<=180))]['PM2.5'].count()\n",
        "d5=aq2019[(aq2019['PM2.5']>180)]['PM2.5'].count()\n",
        "dfpb2019=pd.DataFrame({'year':'2019','pm levels':['<60','between 61 and 120','between 121 and 180','greater than 180'],'number of critical days':[a5,b5,c5,d5]})"
      ],
      "execution_count": null,
      "outputs": []
    },
    {
      "cell_type": "markdown",
      "metadata": {
        "id": "O0N6He5xb0Ba"
      },
      "source": [
        "Теперь мы строим столбчатую диаграмму с накоплением для каждого года с этими интервалами. Для этого нам нужно создать сводные таблицы следующим образом:"
      ]
    },
    {
      "cell_type": "code",
      "metadata": {
        "id": "o4LPcRe9b1zj"
      },
      "source": [
        "dfpivot2019=dfpb2019.pivot(index='year',columns='pm levels', values='number of critical days')\n",
        "dfpivot2018=dfpb2018.pivot(index='year',columns='pm levels', values='number of critical days')\n",
        "dfpivot2017=dfpb2017.pivot(index='year',columns='pm levels', values='number of critical days')\n",
        "dfpivot2016=dfpb2016.pivot(index='year',columns='pm levels', values='number of critical days')"
      ],
      "execution_count": null,
      "outputs": []
    },
    {
      "cell_type": "code",
      "metadata": {
        "id": "d6ugBs5Vb_Pc",
        "colab": {
          "base_uri": "https://localhost:8080/",
          "height": 373
        },
        "outputId": "1f6e381e-36ec-4fc7-fdf1-783d273269a5"
      },
      "source": [
        "#Creating a figure with 4 sub-plots, one for each year from 2016-19\n",
        "fig,(ax1,ax2,ax3,ax4)=plt.subplots(1,4)\n",
        "fig.suptitle(\"Number of days per year in each interval\")\n",
        "cmp=plt.cm.get_cmap('RdBu')\n",
        "#Plotting stacked horizontal bar charts for each year to represent intervals of PM2.5 levels\n",
        "dfpivot2019.loc[:,['<60','between 61 and 120','between 121 and 180', 'greater than 180']].plot.barh(stacked=True, cmap=cmp,figsize=(15,5),ax=ax1)\n",
        "dfpivot2018.loc[:,['<60','between 61 and 120','between 121 and 180','greater than 180']].plot.barh(stacked=True, cmap=cmp,figsize=(15,5),ax=ax2)\n",
        "dfpivot2017.loc[:,['<60','between 61 and 120','between 121 and 180','greater than 180']].plot.barh(stacked=True, cmap=cmp, figsize=(15,5),ax=ax3)\n",
        "dfpivot2016.loc[:,['<60','between 61 and 120','between 121 and 180','greater than 180']].plot.barh(stacked=True, cmap=cmp, figsize=(15,5),ax=ax4)\n",
        "#Setting the properties - legend, yaxis and title\n",
        "ax1.legend().set_visible(False)\n",
        "ax2.legend().set_visible(False)\n",
        "ax3.legend().set_visible(False)\n",
        "ax4.legend(loc='center left',bbox_to_anchor=(1,0.5))\n",
        "ax1.get_yaxis().set_visible(False)\n",
        "ax2.get_yaxis().set_visible(False)\n",
        "ax3.get_yaxis().set_visible(False)\n",
        "ax4.get_yaxis().set_visible(False)\n",
        "ax1.set_title('2019')\n",
        "ax2.set_title('2018')\n",
        "ax3.set_title('2017')\n",
        "ax4.set_title('2016')"
      ],
      "execution_count": null,
      "outputs": [
        {
          "output_type": "execute_result",
          "data": {
            "text/plain": [
              "Text(0.5, 1.0, '2016')"
            ]
          },
          "metadata": {
            "tags": []
          },
          "execution_count": 80
        },
        {
          "output_type": "display_data",
          "data": {
            "image/png": "[encoded data removed]",
            "text/plain": [
              "<Figure size 1080x360 with 4 Axes>"
            ]
          },
          "metadata": {
            "tags": [],
            "needs_background": "light"
          }
        }
      ]
    },
    {
      "cell_type": "markdown",
      "metadata": {
        "id": "gzKBGYkScUlI"
      },
      "source": [
        "Наблюдение:\n",
        "Видно, что значения PM2,5 выше 180 мкг/м3 наблюдаются каждый год, и поэтому\n",
        "Начнем с того, что ограничения на основные виды деятельности, загрязняющие окружающую среду, включая движение транспорта, могут быть ограничены\n",
        "в эту категорию. Интервальное построение NO2 Аналогичным образом, для NO2 количество дней в году, в течение которых контролируемые значения превышают 24-часовой стандарт 80 мкг / м3 нанесен на график (рис. 8-6). Сначала мы создаем фрейм данных для NO2, который фиксирует количество дней в году с значения выше 80 мкг / м3, как показано ниже."
      ]
    },
    {
      "cell_type": "code",
      "metadata": {
        "colab": {
          "base_uri": "https://localhost:8080/",
          "height": 351
        },
        "id": "48fUuSJlcb5h",
        "outputId": "507438b0-28d4-4e5d-fb9a-4bd5e97b1831"
      },
      "source": [
        "a=aq2015[(aq2015['NO2']>=80)]['NO2'].count()\n",
        "b=aq2016[(aq2016['NO2']>=80)]['NO2'].count()\n",
        "c=aq2017[(aq2017['NO2']>=80)]['NO2'].count()\n",
        "d=aq2018[(aq2018['NO2']>=80)]['NO2'].count()\n",
        "e=aq2019[(aq2019['NO2']>=80)]['NO2'].count()\n",
        "dfno=pd.DataFrame({'years':['2015', '2016', '2017', '2018', '2019'], 'number of days with NO2>80': [a,b,c,d,e]})\n",
        "ax=dfno.plot(kind='bar', figsize=(10,5))\n",
        "ax.set_xticklabels(['2015', '2016', '2017', '2018', '2019'])\n",
        "ax.set_title('NO2 number of days in each year with critical levels of concentration')\n",
        "for p in ax.patches:\n",
        "  ax.annotate(p.get_height(), (p.get_x()+p.get_width()/2, p.get_height()), ha='center', va='bottom')"
      ],
      "execution_count": null,
      "outputs": [
        {
          "output_type": "display_data",
          "data": {
            "image/png": "[encoded data removed]",
            "text/plain": [
              "<Figure size 720x360 with 1 Axes>"
            ]
          },
          "metadata": {
            "tags": [],
            "needs_background": "light"
          }
        }
      ]
    },
    {
      "cell_type": "markdown",
      "metadata": {
        "id": "5doanbfKcpn9"
      },
      "source": [
        "Вывод: наблюдаемые суточные значения NO2 превышаются только в течение трех из пяти лет.\n",
        "Поскольку наблюдаемые суточные значения NO2 превышают стандартные лишь незначительно и только в течение нескольких дней, следующий шаг ограничен дальнейшим анализом PM2,5.\n",
        "Часть 3 анализа качества воздуха: Определение месяцев, в которые суточные значения PM2,5 превышают критические уровни в большинстве дней Перед введением ограничений на такие виды деятельности, как движение транспортных средств и строительство, которые вносят значительный вклад в концентрации PM2,5 в окружающей среде, необходимо: предоставлять\n",
        "достаточное уведомление, чтобы избежать неудобств для широкой публики. Следовательно, для суточных значений PM2,5, значительно превышающих 180 мкг / м3, мы наносим график изменения во времени по годам в течение каждого месяца в году. Для этого для каждого из двенадцати месяцев мы фиксируем количество дней с критическим загрязнением воздуха каждый год с суточными значениями PM2,5, превышающими 180 мкг / м3.\n",
        "Сначала мы создаем кадры данных для каждого года с количеством дней в каждом месяце, когда значения PM2,5 превышают 180 мкг / м3, как показано ниже."
      ]
    },
    {
      "cell_type": "code",
      "metadata": {
        "id": "cxG__5PDc34f",
        "colab": {
          "base_uri": "https://localhost:8080/"
        },
        "outputId": "f2608df6-b3ba-4dd4-edc3-9db634b5fe29"
      },
      "source": [
        "#Creating a dataframe for 2016 with the number of days in each month where the PM2.5 concentration is >180\n",
        "aq2016['Month']=pd.DatetimeIndex(aq2016['From Date']).month #extracting the month\n",
        "aq2016['condition']=(aq2016['PM2.5']>=180 ) # creating a boolean columnthat is True when the PM2.5 value is greater than 180 and false when it is less than 180\n",
        "aq2016['condition']=aq2016['condition'].replace({False:np.nan}) # replacing the False values with null values, so that the count method in the next statement only counts the True values or the values corresponding to PM 2.5>180\n",
        "selection1=aq2016.groupby('Month')['condition'].count() #Using the groupby method to calculate the number of days for each month that satisfy the condition(PM2.5>180)\n",
        "#Repeating the above process for 2017, creating a dataframe with the number of days in each month where the PM2.5 concentration is >180\n",
        "aq2017['Month']=pd.DatetimeIndex(aq2017['From Date']).month\n",
        "aq2017['condition']=(aq2017['PM2.5']>=180 )\n",
        "aq2017['condition']=aq2017['condition'].replace({False:np.nan})\n",
        "selection2=aq2017.groupby('Month')['condition'].count()\n",
        "#Repeating the above process for 2018, creating a dataframe with the number of days in each month where the PM2.5 concentration is >180\n",
        "aq2018['Month']=pd.DatetimeIndex(aq2018['From Date']).month\n",
        "aq2018['condition']=(aq2018['PM2.5']>=180 )\n",
        "aq2018['condition']=aq2018['condition'].replace({False:np.nan})\n",
        "selection3=aq2018.groupby('Month')['condition'].count()\n",
        "#Repeating the above process for 2019, creating a dataframe with the number of days in each month where the PM2.5 concentration is >180\n",
        "aq2019['Month']=pd.DatetimeIndex(aq2019['From Date']).month\n",
        "aq2019['condition']=(aq2019['PM2.5']>=180 )\n",
        "aq2019['condition']=aq2019['condition'].replace({False:np.nan})\n",
        "selection4=aq2019.groupby('Month')['condition'].count()"
      ],
      "execution_count": null,
      "outputs": [
        {
          "output_type": "stream",
          "text": [
            "/usr/local/lib/python3.7/dist-packages/ipykernel_launcher.py:2: SettingWithCopyWarning: \n",
            "A value is trying to be set on a copy of a slice from a DataFrame.\n",
            "Try using .loc[row_indexer,col_indexer] = value instead\n",
            "\n",
            "See the caveats in the documentation: https://pandas.pydata.org/pandas-docs/stable/user_guide/indexing.html#returning-a-view-versus-a-copy\n",
            "  \n",
            "/usr/local/lib/python3.7/dist-packages/ipykernel_launcher.py:3: SettingWithCopyWarning: \n",
            "A value is trying to be set on a copy of a slice from a DataFrame.\n",
            "Try using .loc[row_indexer,col_indexer] = value instead\n",
            "\n",
            "See the caveats in the documentation: https://pandas.pydata.org/pandas-docs/stable/user_guide/indexing.html#returning-a-view-versus-a-copy\n",
            "  This is separate from the ipykernel package so we can avoid doing imports until\n",
            "/usr/local/lib/python3.7/dist-packages/ipykernel_launcher.py:4: SettingWithCopyWarning: \n",
            "A value is trying to be set on a copy of a slice from a DataFrame.\n",
            "Try using .loc[row_indexer,col_indexer] = value instead\n",
            "\n",
            "See the caveats in the documentation: https://pandas.pydata.org/pandas-docs/stable/user_guide/indexing.html#returning-a-view-versus-a-copy\n",
            "  after removing the cwd from sys.path.\n",
            "/usr/local/lib/python3.7/dist-packages/ipykernel_launcher.py:7: SettingWithCopyWarning: \n",
            "A value is trying to be set on a copy of a slice from a DataFrame.\n",
            "Try using .loc[row_indexer,col_indexer] = value instead\n",
            "\n",
            "See the caveats in the documentation: https://pandas.pydata.org/pandas-docs/stable/user_guide/indexing.html#returning-a-view-versus-a-copy\n",
            "  import sys\n",
            "/usr/local/lib/python3.7/dist-packages/ipykernel_launcher.py:8: SettingWithCopyWarning: \n",
            "A value is trying to be set on a copy of a slice from a DataFrame.\n",
            "Try using .loc[row_indexer,col_indexer] = value instead\n",
            "\n",
            "See the caveats in the documentation: https://pandas.pydata.org/pandas-docs/stable/user_guide/indexing.html#returning-a-view-versus-a-copy\n",
            "  \n",
            "/usr/local/lib/python3.7/dist-packages/ipykernel_launcher.py:9: SettingWithCopyWarning: \n",
            "A value is trying to be set on a copy of a slice from a DataFrame.\n",
            "Try using .loc[row_indexer,col_indexer] = value instead\n",
            "\n",
            "See the caveats in the documentation: https://pandas.pydata.org/pandas-docs/stable/user_guide/indexing.html#returning-a-view-versus-a-copy\n",
            "  if __name__ == '__main__':\n",
            "/usr/local/lib/python3.7/dist-packages/ipykernel_launcher.py:12: SettingWithCopyWarning: \n",
            "A value is trying to be set on a copy of a slice from a DataFrame.\n",
            "Try using .loc[row_indexer,col_indexer] = value instead\n",
            "\n",
            "See the caveats in the documentation: https://pandas.pydata.org/pandas-docs/stable/user_guide/indexing.html#returning-a-view-versus-a-copy\n",
            "  if sys.path[0] == '':\n",
            "/usr/local/lib/python3.7/dist-packages/ipykernel_launcher.py:13: SettingWithCopyWarning: \n",
            "A value is trying to be set on a copy of a slice from a DataFrame.\n",
            "Try using .loc[row_indexer,col_indexer] = value instead\n",
            "\n",
            "See the caveats in the documentation: https://pandas.pydata.org/pandas-docs/stable/user_guide/indexing.html#returning-a-view-versus-a-copy\n",
            "  del sys.path[0]\n",
            "/usr/local/lib/python3.7/dist-packages/ipykernel_launcher.py:14: SettingWithCopyWarning: \n",
            "A value is trying to be set on a copy of a slice from a DataFrame.\n",
            "Try using .loc[row_indexer,col_indexer] = value instead\n",
            "\n",
            "See the caveats in the documentation: https://pandas.pydata.org/pandas-docs/stable/user_guide/indexing.html#returning-a-view-versus-a-copy\n",
            "  \n",
            "/usr/local/lib/python3.7/dist-packages/ipykernel_launcher.py:17: SettingWithCopyWarning: \n",
            "A value is trying to be set on a copy of a slice from a DataFrame.\n",
            "Try using .loc[row_indexer,col_indexer] = value instead\n",
            "\n",
            "See the caveats in the documentation: https://pandas.pydata.org/pandas-docs/stable/user_guide/indexing.html#returning-a-view-versus-a-copy\n",
            "/usr/local/lib/python3.7/dist-packages/ipykernel_launcher.py:18: SettingWithCopyWarning: \n",
            "A value is trying to be set on a copy of a slice from a DataFrame.\n",
            "Try using .loc[row_indexer,col_indexer] = value instead\n",
            "\n",
            "See the caveats in the documentation: https://pandas.pydata.org/pandas-docs/stable/user_guide/indexing.html#returning-a-view-versus-a-copy\n",
            "/usr/local/lib/python3.7/dist-packages/ipykernel_launcher.py:19: SettingWithCopyWarning: \n",
            "A value is trying to be set on a copy of a slice from a DataFrame.\n",
            "Try using .loc[row_indexer,col_indexer] = value instead\n",
            "\n",
            "See the caveats in the documentation: https://pandas.pydata.org/pandas-docs/stable/user_guide/indexing.html#returning-a-view-versus-a-copy\n"
          ],
          "name": "stderr"
        }
      ]
    },
    {
      "cell_type": "markdown",
      "metadata": {
        "id": "csSqFUg1dgXy"
      },
      "source": [
        "Теперь мы объединяем все объекты DataFrame в один объект (который мы назовем\n",
        "‘Selectionc’), чтобы получить сводную картину количества дней в каждом месяце, когда PM2,5> 180 мкг / м3, как показано ниже."
      ]
    },
    {
      "cell_type": "code",
      "metadata": {
        "colab": {
          "base_uri": "https://localhost:8080/",
          "height": 452
        },
        "id": "abXd_HA1diZB",
        "outputId": "139f4e67-9151-4768-f234-86142205d90c"
      },
      "source": [
        "selectionc=pd.concat([selection1, selection2,selection3,selection4], axis=1)\n",
        "selectionc.columns=['2016', '2017', '2018', '2019']\n",
        "selectionc"
      ],
      "execution_count": null,
      "outputs": [
        {
          "output_type": "execute_result",
          "data": {
            "text/html": [
              "<div>\n",
              "<style scoped>\n",
              "    .dataframe tbody tr th:only-of-type {\n",
              "        vertical-align: middle;\n",
              "    }\n",
              "\n",
              "    .dataframe tbody tr th {\n",
              "        vertical-align: top;\n",
              "    }\n",
              "\n",
              "    .dataframe thead th {\n",
              "        text-align: right;\n",
              "    }\n",
              "</style>\n",
              "<table border=\"1\" class=\"dataframe\">\n",
              "  <thead>\n",
              "    <tr style=\"text-align: right;\">\n",
              "      <th></th>\n",
              "      <th>2016</th>\n",
              "      <th>2017</th>\n",
              "      <th>2018</th>\n",
              "      <th>2019</th>\n",
              "    </tr>\n",
              "    <tr>\n",
              "      <th>Month</th>\n",
              "      <th></th>\n",
              "      <th></th>\n",
              "      <th></th>\n",
              "      <th></th>\n",
              "    </tr>\n",
              "  </thead>\n",
              "  <tbody>\n",
              "    <tr>\n",
              "      <th>1</th>\n",
              "      <td>20</td>\n",
              "      <td>3</td>\n",
              "      <td>23</td>\n",
              "      <td>14</td>\n",
              "    </tr>\n",
              "    <tr>\n",
              "      <th>2</th>\n",
              "      <td>3</td>\n",
              "      <td>0</td>\n",
              "      <td>5</td>\n",
              "      <td>3</td>\n",
              "    </tr>\n",
              "    <tr>\n",
              "      <th>3</th>\n",
              "      <td>1</td>\n",
              "      <td>7</td>\n",
              "      <td>0</td>\n",
              "      <td>0</td>\n",
              "    </tr>\n",
              "    <tr>\n",
              "      <th>4</th>\n",
              "      <td>3</td>\n",
              "      <td>1</td>\n",
              "      <td>0</td>\n",
              "      <td>1</td>\n",
              "    </tr>\n",
              "    <tr>\n",
              "      <th>5</th>\n",
              "      <td>3</td>\n",
              "      <td>1</td>\n",
              "      <td>0</td>\n",
              "      <td>2</td>\n",
              "    </tr>\n",
              "    <tr>\n",
              "      <th>6</th>\n",
              "      <td>7</td>\n",
              "      <td>5</td>\n",
              "      <td>4</td>\n",
              "      <td>1</td>\n",
              "    </tr>\n",
              "    <tr>\n",
              "      <th>7</th>\n",
              "      <td>2</td>\n",
              "      <td>0</td>\n",
              "      <td>0</td>\n",
              "      <td>0</td>\n",
              "    </tr>\n",
              "    <tr>\n",
              "      <th>8</th>\n",
              "      <td>0</td>\n",
              "      <td>0</td>\n",
              "      <td>0</td>\n",
              "      <td>0</td>\n",
              "    </tr>\n",
              "    <tr>\n",
              "      <th>9</th>\n",
              "      <td>2</td>\n",
              "      <td>0</td>\n",
              "      <td>0</td>\n",
              "      <td>0</td>\n",
              "    </tr>\n",
              "    <tr>\n",
              "      <th>10</th>\n",
              "      <td>5</td>\n",
              "      <td>9</td>\n",
              "      <td>5</td>\n",
              "      <td>4</td>\n",
              "    </tr>\n",
              "    <tr>\n",
              "      <th>11</th>\n",
              "      <td>13</td>\n",
              "      <td>21</td>\n",
              "      <td>7</td>\n",
              "      <td>11</td>\n",
              "    </tr>\n",
              "    <tr>\n",
              "      <th>12</th>\n",
              "      <td>4</td>\n",
              "      <td>16</td>\n",
              "      <td>11</td>\n",
              "      <td>18</td>\n",
              "    </tr>\n",
              "  </tbody>\n",
              "</table>\n",
              "</div>"
            ],
            "text/plain": [
              "       2016  2017  2018  2019\n",
              "Month                        \n",
              "1        20     3    23    14\n",
              "2         3     0     5     3\n",
              "3         1     7     0     0\n",
              "4         3     1     0     1\n",
              "5         3     1     0     2\n",
              "6         7     5     4     1\n",
              "7         2     0     0     0\n",
              "8         0     0     0     0\n",
              "9         2     0     0     0\n",
              "10        5     9     5     4\n",
              "11       13    21     7    11\n",
              "12        4    16    11    18"
            ]
          },
          "metadata": {
            "tags": []
          },
          "execution_count": 77
        }
      ]
    },
    {
      "cell_type": "markdown",
      "metadata": {
        "id": "Os5-n8fddujZ"
      },
      "source": [
        "Мы можем наблюдать из этой таблицы, что месяц 1 (январь), месяц 11 (ноябрь) и\n",
        "12-й месяц (декабрь) - самые критические месяцы за все четыре года, так как эти месяцы было наибольшее количество дней с PM2,5> 180 мкг / м3.\n",
        "Теперь, когда у нас есть все данные, давайте визуализируем критические дни для PM2,5. (Рисунок 8-7), используя следующий код."
      ]
    },
    {
      "cell_type": "code",
      "metadata": {
        "id": "6PkDcOs5dyei",
        "colab": {
          "base_uri": "https://localhost:8080/",
          "height": 760
        },
        "outputId": "2f79a6a2-3a5b-4137-cb89-ecda85b921c7"
      },
      "source": [
        "#creating a bar chart representing number of days with critical levels of PM2.5(>180) concentrations\n",
        "ax=selectionc.plot(kind='bar',figsize=(20,7),width=0.7,align='center',colormap='Paired')\n",
        "bars = ax.patches\n",
        "#creating patterns to represent each year\n",
        "patterns =('-','x','/','O')\n",
        "#ax.legend(loc='upper left', borderpad=1.5, labelspacing=1.5)\n",
        "ax.legend((patterns),('2016','2017','2018','2019'))\n",
        "hatches = [p for p in patterns for i in range(len(selectionc))]\n",
        "#setting a pattern for each bar\n",
        "for bar, hatch in zip(bars, hatches):\n",
        "    bar.set_hatch(hatch)\n",
        "#Labelling the months, the X axis and Y axis\n",
        "ax.set_xticklabels(['Jan','Feb','Mar','Apr','May','June','July','Aug','Sept','Oct','Nov','Dec'],rotation=30)\n",
        "ax.set_xlabel('Month',fontsize=12)\n",
        "ax.set_ylabel('Number of days with critical levels of PM2.5',fontsize=12)\n",
        "#Labelling the bars\n",
        "for i in ax.patches:\n",
        "    ax.text(i.get_x()-.003, i.get_height()+.3,\n",
        "            round(i.get_height(),2), fontsize=10,\n",
        "                color='dimgrey')\n",
        "ax.legend()\n",
        "ax.set_title(\"Number of days with critical levels of PM2.5 in each month of years 2016-19\")"
      ],
      "execution_count": null,
      "outputs": [
        {
          "output_type": "stream",
          "text": [
            "/usr/local/lib/python3.7/dist-packages/ipykernel_launcher.py:7: UserWarning: Legend does not support '-' instances.\n",
            "A proxy artist may be used instead.\n",
            "See: http://matplotlib.org/users/legend_guide.html#creating-artists-specifically-for-adding-to-the-legend-aka-proxy-artists\n",
            "  import sys\n",
            "/usr/local/lib/python3.7/dist-packages/ipykernel_launcher.py:7: UserWarning: Legend does not support 'x' instances.\n",
            "A proxy artist may be used instead.\n",
            "See: http://matplotlib.org/users/legend_guide.html#creating-artists-specifically-for-adding-to-the-legend-aka-proxy-artists\n",
            "  import sys\n",
            "/usr/local/lib/python3.7/dist-packages/ipykernel_launcher.py:7: UserWarning: Legend does not support '/' instances.\n",
            "A proxy artist may be used instead.\n",
            "See: http://matplotlib.org/users/legend_guide.html#creating-artists-specifically-for-adding-to-the-legend-aka-proxy-artists\n",
            "  import sys\n",
            "/usr/local/lib/python3.7/dist-packages/ipykernel_launcher.py:7: UserWarning: Legend does not support 'O' instances.\n",
            "A proxy artist may be used instead.\n",
            "See: http://matplotlib.org/users/legend_guide.html#creating-artists-specifically-for-adding-to-the-legend-aka-proxy-artists\n",
            "  import sys\n"
          ],
          "name": "stderr"
        },
        {
          "output_type": "execute_result",
          "data": {
            "text/plain": [
              "Text(0.5, 1.0, 'Number of days with critical levels of PM2.5 in each month of years 2016-19')"
            ]
          },
          "metadata": {
            "tags": []
          },
          "execution_count": 78
        },
        {
          "output_type": "display_data",
          "data": {
            "image/png": "[encoded data removed]",
            "text/plain": [
              "<Figure size 1440x504 with 1 Axes>"
            ]
          },
          "metadata": {
            "tags": [],
            "needs_background": "light"
          }
        }
      ]
    },
    {
      "cell_type": "markdown",
      "metadata": {
        "id": "ZOKxSsYteR2O"
      },
      "source": [
        "# **Шаг 4: построение выводов на основе анализа и визуализаций**"
      ]
    },
    {
      "cell_type": "markdown",
      "metadata": {
        "id": "DLcxILWoeUMg"
      },
      "source": [
        "Из предыдущего графика видно, что большинство критически загрязненных дней приходится на Январь, ноябрь и декабрь. Следовательно, исходя из среднесуточных концентраций PM2,5 зафиксировано за последние четыре года, ограничения движения автотранспорта, строительство деятельность, использование дизельных насосных агрегатов, отклонение движения транспорта, прибывающего в Дели из соседних штатов, и другие аналогичные действия, вероятно, будут введены в январе, ноябре и Декабрь. Чтобы принять такие решения для Дели в целом, анализ данных из других\n",
        "также потребуются станции мониторинга. Распространение данных и анализ\n",
        "предыдущие строки помогут людям заранее подготовиться к ограничениям, а также\n",
        "оцените обоснование таких мер.\n",
        "Подход, продемонстрированный ранее, с использованием анализа данных в качестве инструмента, помогающего в управление качеством воздуха, использует данные, записанные на одной станции мониторинга, расположенной в\n",
        "Технологический институт Нетаджи Субхаса (NSIT), Дели. Методология могла быть осуществлена вперед по следующим строкам.\n",
        " а. Повторите предыдущий шаг для NO2, чтобы показать критические месяцы, в которые приходится на большую часть дней с зарегистрированными значениями NO2, превышающими 24-часовые стандарты. Выполнение этого упражнения снова поможет определить месяцев, когда уровни загрязнения вызывают озабоченность по обоим параметрам, PM2.5 и NO2, и план.\n",
        " б. Повторите анализ, проведенный с данными о качестве воздуха.станции мониторинга НСИТ с использованием аналогичных данных из другие станции, чтобы интервенции для Дели в целом могли быть планируется."
      ]
    },
    {
      "cell_type": "markdown",
      "metadata": {
        "id": "CALvIsmjysWD"
      },
      "source": [
        "# **Case study 3: Worldwide COVID-19 cases – an analysis**"
      ]
    },
    {
      "cell_type": "markdown",
      "metadata": {
        "id": "w9hXHwcYyzKw"
      },
      "source": [
        "Вопросы, на которые необходимо ответить с помощью анализа, включают:\n",
        "  1. В каких странах самый низкий уровень смертности, максимум случаев и больше всего погибших?\n",
        "  2. Какова месячная тенденция по количеству случаев и погибших с начала пандемии?\n",
        "  3. В некоторых странах были введены ограничения, чтобы помочь сгладить кривую. Помогла ли эта мера снизить количество заболевших?"
      ]
    },
    {
      "cell_type": "markdown",
      "metadata": {
        "id": "RZxtFCVhzklf"
      },
      "source": [
        "**Шаг 1.** Импорт данных и изучение характеристик набора данных"
      ]
    },
    {
      "cell_type": "code",
      "metadata": {
        "id": "52gC3yu5ztdC",
        "colab": {
          "resources": {
            "http://localhost:8080/nbextensions/google.colab/files.js": {
              "data": "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",
              "ok": true,
              "headers": [
                [
                  "content-type",
                  "application/javascript"
                ]
              ],
              "status": 200,
              "status_text": ""
            }
          },
          "base_uri": "https://localhost:8080/",
          "height": 72
        },
        "outputId": "96bc13f0-13eb-498f-87f9-9a8074b62d1c"
      },
      "source": [
        "from google.colab import files\n",
        "uploaded = files.upload()"
      ],
      "execution_count": 259,
      "outputs": [
        {
          "output_type": "display_data",
          "data": {
            "text/html": [
              "\n",
              "     <input type=\"file\" id=\"files-1e8601e8-ed31-4c52-bef4-eb3ca59cd88b\" name=\"files[]\" multiple disabled\n",
              "        style=\"border:none\" />\n",
              "     <output id=\"result-1e8601e8-ed31-4c52-bef4-eb3ca59cd88b\">\n",
              "      Upload widget is only available when the cell has been executed in the\n",
              "      current browser session. Please rerun this cell to enable.\n",
              "      </output>\n",
              "      <script src=\"/nbextensions/google.colab/files.js\"></script> "
            ],
            "text/plain": [
              "<IPython.core.display.HTML object>"
            ]
          },
          "metadata": {
            "tags": []
          }
        },
        {
          "output_type": "stream",
          "text": [
            "Saving COVID-19-geographic-disbtribution-worldwide-2020-06-29.xlsx to COVID-19-geographic-disbtribution-worldwide-2020-06-29.xlsx\n"
          ],
          "name": "stdout"
        }
      ]
    },
    {
      "cell_type": "markdown",
      "metadata": {
        "id": "I2FPuP1fz4de"
      },
      "source": [
        "Прочтите набор данных и изучите первые пять строк (используя метод head) с помощью файла ***pd.read_excel***:"
      ]
    },
    {
      "cell_type": "code",
      "metadata": {
        "id": "IjPpWrzfz-ta",
        "colab": {
          "base_uri": "https://localhost:8080/",
          "height": 204
        },
        "outputId": "be5f203e-c410-4e4f-c71a-9578e5a282bd"
      },
      "source": [
        "df=pd.read_excel('COVID-19-geographic-disbtribution-worldwide-2020-06-29.xlsx')\n",
        "df.head()"
      ],
      "execution_count": 260,
      "outputs": [
        {
          "output_type": "execute_result",
          "data": {
            "text/html": [
              "<div>\n",
              "<style scoped>\n",
              "    .dataframe tbody tr th:only-of-type {\n",
              "        vertical-align: middle;\n",
              "    }\n",
              "\n",
              "    .dataframe tbody tr th {\n",
              "        vertical-align: top;\n",
              "    }\n",
              "\n",
              "    .dataframe thead th {\n",
              "        text-align: right;\n",
              "    }\n",
              "</style>\n",
              "<table border=\"1\" class=\"dataframe\">\n",
              "  <thead>\n",
              "    <tr style=\"text-align: right;\">\n",
              "      <th></th>\n",
              "      <th>dateRep</th>\n",
              "      <th>day</th>\n",
              "      <th>month</th>\n",
              "      <th>year</th>\n",
              "      <th>cases</th>\n",
              "      <th>deaths</th>\n",
              "      <th>countriesAndTerritories</th>\n",
              "      <th>geoId</th>\n",
              "      <th>countryterritoryCode</th>\n",
              "      <th>popData2019</th>\n",
              "      <th>continentExp</th>\n",
              "    </tr>\n",
              "  </thead>\n",
              "  <tbody>\n",
              "    <tr>\n",
              "      <th>0</th>\n",
              "      <td>2020-06-29</td>\n",
              "      <td>29</td>\n",
              "      <td>6</td>\n",
              "      <td>2020</td>\n",
              "      <td>351</td>\n",
              "      <td>18</td>\n",
              "      <td>Afghanistan</td>\n",
              "      <td>AF</td>\n",
              "      <td>AFG</td>\n",
              "      <td>38041757.0</td>\n",
              "      <td>Asia</td>\n",
              "    </tr>\n",
              "    <tr>\n",
              "      <th>1</th>\n",
              "      <td>2020-06-28</td>\n",
              "      <td>28</td>\n",
              "      <td>6</td>\n",
              "      <td>2020</td>\n",
              "      <td>165</td>\n",
              "      <td>20</td>\n",
              "      <td>Afghanistan</td>\n",
              "      <td>AF</td>\n",
              "      <td>AFG</td>\n",
              "      <td>38041757.0</td>\n",
              "      <td>Asia</td>\n",
              "    </tr>\n",
              "    <tr>\n",
              "      <th>2</th>\n",
              "      <td>2020-06-27</td>\n",
              "      <td>27</td>\n",
              "      <td>6</td>\n",
              "      <td>2020</td>\n",
              "      <td>276</td>\n",
              "      <td>8</td>\n",
              "      <td>Afghanistan</td>\n",
              "      <td>AF</td>\n",
              "      <td>AFG</td>\n",
              "      <td>38041757.0</td>\n",
              "      <td>Asia</td>\n",
              "    </tr>\n",
              "    <tr>\n",
              "      <th>3</th>\n",
              "      <td>2020-06-26</td>\n",
              "      <td>26</td>\n",
              "      <td>6</td>\n",
              "      <td>2020</td>\n",
              "      <td>460</td>\n",
              "      <td>36</td>\n",
              "      <td>Afghanistan</td>\n",
              "      <td>AF</td>\n",
              "      <td>AFG</td>\n",
              "      <td>38041757.0</td>\n",
              "      <td>Asia</td>\n",
              "    </tr>\n",
              "    <tr>\n",
              "      <th>4</th>\n",
              "      <td>2020-06-25</td>\n",
              "      <td>25</td>\n",
              "      <td>6</td>\n",
              "      <td>2020</td>\n",
              "      <td>234</td>\n",
              "      <td>21</td>\n",
              "      <td>Afghanistan</td>\n",
              "      <td>AF</td>\n",
              "      <td>AFG</td>\n",
              "      <td>38041757.0</td>\n",
              "      <td>Asia</td>\n",
              "    </tr>\n",
              "  </tbody>\n",
              "</table>\n",
              "</div>"
            ],
            "text/plain": [
              "     dateRep  day  month  ...  countryterritoryCode  popData2019  continentExp\n",
              "0 2020-06-29   29      6  ...                   AFG   38041757.0          Asia\n",
              "1 2020-06-28   28      6  ...                   AFG   38041757.0          Asia\n",
              "2 2020-06-27   27      6  ...                   AFG   38041757.0          Asia\n",
              "3 2020-06-26   26      6  ...                   AFG   38041757.0          Asia\n",
              "4 2020-06-25   25      6  ...                   AFG   38041757.0          Asia\n",
              "\n",
              "[5 rows x 11 columns]"
            ]
          },
          "metadata": {
            "tags": []
          },
          "execution_count": 260
        }
      ]
    },
    {
      "cell_type": "markdown",
      "metadata": {
        "id": "u9E-6Axa0PMK"
      },
      "source": [
        "Получите информацию о типе данных каждого столбца и количестве ненулевых значений в каждом столбце (используя метод **info**)."
      ]
    },
    {
      "cell_type": "code",
      "metadata": {
        "id": "bRPaDWf-0S15",
        "colab": {
          "base_uri": "https://localhost:8080/"
        },
        "outputId": "2ae0642d-e948-40fa-cbbb-e9e45909bbfb"
      },
      "source": [
        "df.info()"
      ],
      "execution_count": 261,
      "outputs": [
        {
          "output_type": "stream",
          "text": [
            "<class 'pandas.core.frame.DataFrame'>\n",
            "RangeIndex: 26562 entries, 0 to 26561\n",
            "Data columns (total 11 columns):\n",
            " #   Column                   Non-Null Count  Dtype         \n",
            "---  ------                   --------------  -----         \n",
            " 0   dateRep                  26562 non-null  datetime64[ns]\n",
            " 1   day                      26562 non-null  int64         \n",
            " 2   month                    26562 non-null  int64         \n",
            " 3   year                     26562 non-null  int64         \n",
            " 4   cases                    26562 non-null  int64         \n",
            " 5   deaths                   26562 non-null  int64         \n",
            " 6   countriesAndTerritories  26562 non-null  object        \n",
            " 7   geoId                    26455 non-null  object        \n",
            " 8   countryterritoryCode     26498 non-null  object        \n",
            " 9   popData2019              26498 non-null  float64       \n",
            " 10  continentExp             26562 non-null  object        \n",
            "dtypes: datetime64[ns](1), float64(1), int64(5), object(4)\n",
            "memory usage: 2.2+ MB\n"
          ],
          "name": "stdout"
        }
      ]
    },
    {
      "cell_type": "markdown",
      "metadata": {
        "id": "GcYE3Ql00d-J"
      },
      "source": [
        "Получите сводную статистику для каждого столбца (используя метод описания) и получите значения **count, min, max, стандартное отклонение и процентиль**:"
      ]
    },
    {
      "cell_type": "code",
      "metadata": {
        "id": "rVawwQz50kiC",
        "colab": {
          "base_uri": "https://localhost:8080/",
          "height": 297
        },
        "outputId": "388da8bb-d03e-4a1a-ec93-7f28c9991add"
      },
      "source": [
        "df.describe()"
      ],
      "execution_count": 262,
      "outputs": [
        {
          "output_type": "execute_result",
          "data": {
            "text/html": [
              "<div>\n",
              "<style scoped>\n",
              "    .dataframe tbody tr th:only-of-type {\n",
              "        vertical-align: middle;\n",
              "    }\n",
              "\n",
              "    .dataframe tbody tr th {\n",
              "        vertical-align: top;\n",
              "    }\n",
              "\n",
              "    .dataframe thead th {\n",
              "        text-align: right;\n",
              "    }\n",
              "</style>\n",
              "<table border=\"1\" class=\"dataframe\">\n",
              "  <thead>\n",
              "    <tr style=\"text-align: right;\">\n",
              "      <th></th>\n",
              "      <th>day</th>\n",
              "      <th>month</th>\n",
              "      <th>year</th>\n",
              "      <th>cases</th>\n",
              "      <th>deaths</th>\n",
              "      <th>popData2019</th>\n",
              "    </tr>\n",
              "  </thead>\n",
              "  <tbody>\n",
              "    <tr>\n",
              "      <th>count</th>\n",
              "      <td>26562.000000</td>\n",
              "      <td>26562.000000</td>\n",
              "      <td>26562.000000</td>\n",
              "      <td>26562.000000</td>\n",
              "      <td>26562.000000</td>\n",
              "      <td>2.649800e+04</td>\n",
              "    </tr>\n",
              "    <tr>\n",
              "      <th>mean</th>\n",
              "      <td>16.207929</td>\n",
              "      <td>4.194790</td>\n",
              "      <td>2019.997478</td>\n",
              "      <td>380.722611</td>\n",
              "      <td>18.882690</td>\n",
              "      <td>4.689196e+07</td>\n",
              "    </tr>\n",
              "    <tr>\n",
              "      <th>std</th>\n",
              "      <td>8.745421</td>\n",
              "      <td>1.555569</td>\n",
              "      <td>0.050161</td>\n",
              "      <td>2172.430663</td>\n",
              "      <td>121.386696</td>\n",
              "      <td>1.675462e+08</td>\n",
              "    </tr>\n",
              "    <tr>\n",
              "      <th>min</th>\n",
              "      <td>1.000000</td>\n",
              "      <td>1.000000</td>\n",
              "      <td>2019.000000</td>\n",
              "      <td>-2461.000000</td>\n",
              "      <td>-1918.000000</td>\n",
              "      <td>8.150000e+02</td>\n",
              "    </tr>\n",
              "    <tr>\n",
              "      <th>25%</th>\n",
              "      <td>9.000000</td>\n",
              "      <td>3.000000</td>\n",
              "      <td>2020.000000</td>\n",
              "      <td>0.000000</td>\n",
              "      <td>0.000000</td>\n",
              "      <td>1.919968e+06</td>\n",
              "    </tr>\n",
              "    <tr>\n",
              "      <th>50%</th>\n",
              "      <td>17.000000</td>\n",
              "      <td>4.000000</td>\n",
              "      <td>2020.000000</td>\n",
              "      <td>4.000000</td>\n",
              "      <td>0.000000</td>\n",
              "      <td>8.776119e+06</td>\n",
              "    </tr>\n",
              "    <tr>\n",
              "      <th>75%</th>\n",
              "      <td>24.000000</td>\n",
              "      <td>5.000000</td>\n",
              "      <td>2020.000000</td>\n",
              "      <td>68.000000</td>\n",
              "      <td>1.000000</td>\n",
              "      <td>3.194979e+07</td>\n",
              "    </tr>\n",
              "    <tr>\n",
              "      <th>max</th>\n",
              "      <td>31.000000</td>\n",
              "      <td>12.000000</td>\n",
              "      <td>2020.000000</td>\n",
              "      <td>54771.000000</td>\n",
              "      <td>4928.000000</td>\n",
              "      <td>1.433784e+09</td>\n",
              "    </tr>\n",
              "  </tbody>\n",
              "</table>\n",
              "</div>"
            ],
            "text/plain": [
              "                day         month  ...        deaths   popData2019\n",
              "count  26562.000000  26562.000000  ...  26562.000000  2.649800e+04\n",
              "mean      16.207929      4.194790  ...     18.882690  4.689196e+07\n",
              "std        8.745421      1.555569  ...    121.386696  1.675462e+08\n",
              "min        1.000000      1.000000  ...  -1918.000000  8.150000e+02\n",
              "25%        9.000000      3.000000  ...      0.000000  1.919968e+06\n",
              "50%       17.000000      4.000000  ...      0.000000  8.776119e+06\n",
              "75%       24.000000      5.000000  ...      1.000000  3.194979e+07\n",
              "max       31.000000     12.000000  ...   4928.000000  1.433784e+09\n",
              "\n",
              "[8 rows x 6 columns]"
            ]
          },
          "metadata": {
            "tags": []
          },
          "execution_count": 262
        }
      ]
    },
    {
      "cell_type": "markdown",
      "metadata": {
        "id": "xY3SBU6v0rS2"
      },
      "source": [
        "# **Шаг 2. Обработка данных**"
      ]
    },
    {
      "cell_type": "markdown",
      "metadata": {
        "id": "LMGzRoLH0tVQ"
      },
      "source": [
        "На этом этапе выполним:\n",
        "• Проверку: правильно ли определены типы данных столбцов. Если нет, изменить типы данных: из вывода информационного метода мы видим, что все типы данных столбцов были правильно идентифицированы.\n",
        "• При необходимости переименовать столбцы: в следующем коде переименовываем столбцы DataFrame."
      ]
    },
    {
      "cell_type": "code",
      "metadata": {
        "id": "plwlBagw1DOC"
      },
      "source": [
        "df.columns=['data', 'day', 'month', 'year', 'cases', 'deaths', 'country', 'old_country_code', 'countru_code', 'population', 'continent']"
      ],
      "execution_count": 263,
      "outputs": []
    },
    {
      "cell_type": "markdown",
      "metadata": {
        "id": "90sRWADq1PeT"
      },
      "source": [
        "Отбросьте ненужные столбцы или строки:\n",
        "• Мы видим, что столбец кода страны присутствует дважды (с двумя разными именами: **'old_country_code'** и **'country_code'**) в DataFrame, поэтому мы удаляем один из столбцов («**old_country_code**»):"
      ]
    },
    {
      "cell_type": "code",
      "metadata": {
        "id": "PJb_3QJ-1Uoj"
      },
      "source": [
        "df.drop(['old_country_code'], axis=1, inplace=True)"
      ],
      "execution_count": null,
      "outputs": []
    },
    {
      "cell_type": "markdown",
      "metadata": {
        "id": "K4j5ypFF1ff_"
      },
      "source": [
        "Удалить все лишние данные, которые не добавляют никакой ценности:\n",
        "В этом DataFrame нет пробелов, специальных символов или любых других посторонних символов. Мы видим, что есть данные только за один день декабря 2019 года; поэтому мы удаляем данные за этот месяц и создаем новый DataFrame (df1) на оставшиеся 11 месяцев."
      ]
    },
    {
      "cell_type": "code",
      "metadata": {
        "id": "7K8QjXm41Xos"
      },
      "source": [
        "df1=df[df.month!=12]"
      ],
      "execution_count": 264,
      "outputs": []
    },
    {
      "cell_type": "markdown",
      "metadata": {
        "id": "mrxv4Ip21uj5"
      },
      "source": [
        "Проверьте, есть ли какие-либо нулевые значения, используя метод **isna** или **isnull**, и примените соответствующие методы для работы с ними, если они есть:\n",
        "Расчет процента нулевых значений:"
      ]
    },
    {
      "cell_type": "code",
      "metadata": {
        "id": "cPlMfTQV1t0b",
        "colab": {
          "base_uri": "https://localhost:8080/"
        },
        "outputId": "f63ff422-79f3-49ba-8984-53fc159dca7f"
      },
      "source": [
        "df.isna().sum().sum()/len(df1)\n",
        "# если число будет отличаться от 0, например, 0.05778787, то в таблице есть нулевые значения"
      ],
      "execution_count": 265,
      "outputs": [
        {
          "output_type": "execute_result",
          "data": {
            "text/plain": [
              "0.00886959803736554"
            ]
          },
          "metadata": {
            "tags": []
          },
          "execution_count": 265
        }
      ]
    },
    {
      "cell_type": "markdown",
      "metadata": {
        "id": "R33VJ23l1_7D"
      },
      "source": [
        "Поскольку процент нулевых значений меньше **1%**, мы отбрасываем нулевые значения на следующем шаге."
      ]
    },
    {
      "cell_type": "code",
      "metadata": {
        "id": "VIqEdTkY2CP9",
        "colab": {
          "base_uri": "https://localhost:8080/"
        },
        "outputId": "04f6e779-d878-4990-da0e-f9426dd5f9b3"
      },
      "source": [
        "df1.dropna(inplace=True)"
      ],
      "execution_count": 267,
      "outputs": [
        {
          "output_type": "stream",
          "text": [
            "/usr/local/lib/python3.7/dist-packages/ipykernel_launcher.py:1: SettingWithCopyWarning: \n",
            "A value is trying to be set on a copy of a slice from a DataFrame\n",
            "\n",
            "See the caveats in the documentation: https://pandas.pydata.org/pandas-docs/stable/user_guide/indexing.html#returning-a-view-versus-a-copy\n",
            "  \"\"\"Entry point for launching an IPython kernel.\n"
          ],
          "name": "stderr"
        }
      ]
    },
    {
      "cell_type": "code",
      "metadata": {
        "id": "hV-8bYPn2Qrm",
        "colab": {
          "base_uri": "https://localhost:8080/",
          "height": 419
        },
        "outputId": "b7a7ecc1-27e2-48f7-9a67-fa1a08ea647f"
      },
      "source": [
        "df1"
      ],
      "execution_count": 268,
      "outputs": [
        {
          "output_type": "execute_result",
          "data": {
            "text/html": [
              "<div>\n",
              "<style scoped>\n",
              "    .dataframe tbody tr th:only-of-type {\n",
              "        vertical-align: middle;\n",
              "    }\n",
              "\n",
              "    .dataframe tbody tr th {\n",
              "        vertical-align: top;\n",
              "    }\n",
              "\n",
              "    .dataframe thead th {\n",
              "        text-align: right;\n",
              "    }\n",
              "</style>\n",
              "<table border=\"1\" class=\"dataframe\">\n",
              "  <thead>\n",
              "    <tr style=\"text-align: right;\">\n",
              "      <th></th>\n",
              "      <th>data</th>\n",
              "      <th>day</th>\n",
              "      <th>month</th>\n",
              "      <th>year</th>\n",
              "      <th>cases</th>\n",
              "      <th>deaths</th>\n",
              "      <th>country</th>\n",
              "      <th>old_country_code</th>\n",
              "      <th>countru_code</th>\n",
              "      <th>population</th>\n",
              "      <th>continent</th>\n",
              "    </tr>\n",
              "  </thead>\n",
              "  <tbody>\n",
              "    <tr>\n",
              "      <th>0</th>\n",
              "      <td>2020-06-29</td>\n",
              "      <td>29</td>\n",
              "      <td>6</td>\n",
              "      <td>2020</td>\n",
              "      <td>351</td>\n",
              "      <td>18</td>\n",
              "      <td>Afghanistan</td>\n",
              "      <td>AF</td>\n",
              "      <td>AFG</td>\n",
              "      <td>38041757.0</td>\n",
              "      <td>Asia</td>\n",
              "    </tr>\n",
              "    <tr>\n",
              "      <th>1</th>\n",
              "      <td>2020-06-28</td>\n",
              "      <td>28</td>\n",
              "      <td>6</td>\n",
              "      <td>2020</td>\n",
              "      <td>165</td>\n",
              "      <td>20</td>\n",
              "      <td>Afghanistan</td>\n",
              "      <td>AF</td>\n",
              "      <td>AFG</td>\n",
              "      <td>38041757.0</td>\n",
              "      <td>Asia</td>\n",
              "    </tr>\n",
              "    <tr>\n",
              "      <th>2</th>\n",
              "      <td>2020-06-27</td>\n",
              "      <td>27</td>\n",
              "      <td>6</td>\n",
              "      <td>2020</td>\n",
              "      <td>276</td>\n",
              "      <td>8</td>\n",
              "      <td>Afghanistan</td>\n",
              "      <td>AF</td>\n",
              "      <td>AFG</td>\n",
              "      <td>38041757.0</td>\n",
              "      <td>Asia</td>\n",
              "    </tr>\n",
              "    <tr>\n",
              "      <th>3</th>\n",
              "      <td>2020-06-26</td>\n",
              "      <td>26</td>\n",
              "      <td>6</td>\n",
              "      <td>2020</td>\n",
              "      <td>460</td>\n",
              "      <td>36</td>\n",
              "      <td>Afghanistan</td>\n",
              "      <td>AF</td>\n",
              "      <td>AFG</td>\n",
              "      <td>38041757.0</td>\n",
              "      <td>Asia</td>\n",
              "    </tr>\n",
              "    <tr>\n",
              "      <th>4</th>\n",
              "      <td>2020-06-25</td>\n",
              "      <td>25</td>\n",
              "      <td>6</td>\n",
              "      <td>2020</td>\n",
              "      <td>234</td>\n",
              "      <td>21</td>\n",
              "      <td>Afghanistan</td>\n",
              "      <td>AF</td>\n",
              "      <td>AFG</td>\n",
              "      <td>38041757.0</td>\n",
              "      <td>Asia</td>\n",
              "    </tr>\n",
              "    <tr>\n",
              "      <th>...</th>\n",
              "      <td>...</td>\n",
              "      <td>...</td>\n",
              "      <td>...</td>\n",
              "      <td>...</td>\n",
              "      <td>...</td>\n",
              "      <td>...</td>\n",
              "      <td>...</td>\n",
              "      <td>...</td>\n",
              "      <td>...</td>\n",
              "      <td>...</td>\n",
              "      <td>...</td>\n",
              "    </tr>\n",
              "    <tr>\n",
              "      <th>26557</th>\n",
              "      <td>2020-03-25</td>\n",
              "      <td>25</td>\n",
              "      <td>3</td>\n",
              "      <td>2020</td>\n",
              "      <td>0</td>\n",
              "      <td>0</td>\n",
              "      <td>Zimbabwe</td>\n",
              "      <td>ZW</td>\n",
              "      <td>ZWE</td>\n",
              "      <td>14645473.0</td>\n",
              "      <td>Africa</td>\n",
              "    </tr>\n",
              "    <tr>\n",
              "      <th>26558</th>\n",
              "      <td>2020-03-24</td>\n",
              "      <td>24</td>\n",
              "      <td>3</td>\n",
              "      <td>2020</td>\n",
              "      <td>0</td>\n",
              "      <td>1</td>\n",
              "      <td>Zimbabwe</td>\n",
              "      <td>ZW</td>\n",
              "      <td>ZWE</td>\n",
              "      <td>14645473.0</td>\n",
              "      <td>Africa</td>\n",
              "    </tr>\n",
              "    <tr>\n",
              "      <th>26559</th>\n",
              "      <td>2020-03-23</td>\n",
              "      <td>23</td>\n",
              "      <td>3</td>\n",
              "      <td>2020</td>\n",
              "      <td>0</td>\n",
              "      <td>0</td>\n",
              "      <td>Zimbabwe</td>\n",
              "      <td>ZW</td>\n",
              "      <td>ZWE</td>\n",
              "      <td>14645473.0</td>\n",
              "      <td>Africa</td>\n",
              "    </tr>\n",
              "    <tr>\n",
              "      <th>26560</th>\n",
              "      <td>2020-03-22</td>\n",
              "      <td>22</td>\n",
              "      <td>3</td>\n",
              "      <td>2020</td>\n",
              "      <td>1</td>\n",
              "      <td>0</td>\n",
              "      <td>Zimbabwe</td>\n",
              "      <td>ZW</td>\n",
              "      <td>ZWE</td>\n",
              "      <td>14645473.0</td>\n",
              "      <td>Africa</td>\n",
              "    </tr>\n",
              "    <tr>\n",
              "      <th>26561</th>\n",
              "      <td>2020-03-21</td>\n",
              "      <td>21</td>\n",
              "      <td>3</td>\n",
              "      <td>2020</td>\n",
              "      <td>1</td>\n",
              "      <td>0</td>\n",
              "      <td>Zimbabwe</td>\n",
              "      <td>ZW</td>\n",
              "      <td>ZWE</td>\n",
              "      <td>14645473.0</td>\n",
              "      <td>Africa</td>\n",
              "    </tr>\n",
              "  </tbody>\n",
              "</table>\n",
              "<p>26325 rows × 11 columns</p>\n",
              "</div>"
            ],
            "text/plain": [
              "            data  day  month  ...  countru_code  population  continent\n",
              "0     2020-06-29   29      6  ...           AFG  38041757.0       Asia\n",
              "1     2020-06-28   28      6  ...           AFG  38041757.0       Asia\n",
              "2     2020-06-27   27      6  ...           AFG  38041757.0       Asia\n",
              "3     2020-06-26   26      6  ...           AFG  38041757.0       Asia\n",
              "4     2020-06-25   25      6  ...           AFG  38041757.0       Asia\n",
              "...          ...  ...    ...  ...           ...         ...        ...\n",
              "26557 2020-03-25   25      3  ...           ZWE  14645473.0     Africa\n",
              "26558 2020-03-24   24      3  ...           ZWE  14645473.0     Africa\n",
              "26559 2020-03-23   23      3  ...           ZWE  14645473.0     Africa\n",
              "26560 2020-03-22   22      3  ...           ZWE  14645473.0     Africa\n",
              "26561 2020-03-21   21      3  ...           ZWE  14645473.0     Africa\n",
              "\n",
              "[26325 rows x 11 columns]"
            ]
          },
          "metadata": {
            "tags": []
          },
          "execution_count": 268
        }
      ]
    },
    {
      "cell_type": "code",
      "metadata": {
        "id": "V2hWt1UC2XqB",
        "colab": {
          "base_uri": "https://localhost:8080/"
        },
        "outputId": "9ec5f3f5-b7ca-4d1e-bcea-ac8a5a8030c8"
      },
      "source": [
        "df1.isna().sum().sum()/len(df1)\n"
      ],
      "execution_count": 269,
      "outputs": [
        {
          "output_type": "execute_result",
          "data": {
            "text/plain": [
              "0.0"
            ]
          },
          "metadata": {
            "tags": []
          },
          "execution_count": 269
        }
      ]
    },
    {
      "cell_type": "markdown",
      "metadata": {
        "id": "lwoaeuPX2c-5"
      },
      "source": [
        "**Агрегируем данные**,\n",
        "\n",
        "если данные находятся в этом формате формате: данные в этом DataFrame не в агрегированном формате, и мы преобразуем их в этот формат с помощью метода **groupby** на этом этапе. Мы можем группировать по странам, континентам или по дате. Сгруппируем по названию страны."
      ]
    },
    {
      "cell_type": "code",
      "metadata": {
        "id": "Koeh7d0j2xFI",
        "colab": {
          "base_uri": "https://localhost:8080/",
          "height": 504
        },
        "outputId": "96e7cb5d-9bcc-4429-b68b-14abb09b940c"
      },
      "source": [
        "df_by_country=df1.groupby('country')['cases', 'deaths'].sum()\n",
        "df_by_country"
      ],
      "execution_count": 270,
      "outputs": [
        {
          "output_type": "stream",
          "text": [
            "/usr/local/lib/python3.7/dist-packages/ipykernel_launcher.py:1: FutureWarning: Indexing with multiple keys (implicitly converted to a tuple of keys) will be deprecated, use a list instead.\n",
            "  \"\"\"Entry point for launching an IPython kernel.\n"
          ],
          "name": "stderr"
        },
        {
          "output_type": "execute_result",
          "data": {
            "text/html": [
              "<div>\n",
              "<style scoped>\n",
              "    .dataframe tbody tr th:only-of-type {\n",
              "        vertical-align: middle;\n",
              "    }\n",
              "\n",
              "    .dataframe tbody tr th {\n",
              "        vertical-align: top;\n",
              "    }\n",
              "\n",
              "    .dataframe thead th {\n",
              "        text-align: right;\n",
              "    }\n",
              "</style>\n",
              "<table border=\"1\" class=\"dataframe\">\n",
              "  <thead>\n",
              "    <tr style=\"text-align: right;\">\n",
              "      <th></th>\n",
              "      <th>cases</th>\n",
              "      <th>deaths</th>\n",
              "    </tr>\n",
              "    <tr>\n",
              "      <th>country</th>\n",
              "      <th></th>\n",
              "      <th></th>\n",
              "    </tr>\n",
              "  </thead>\n",
              "  <tbody>\n",
              "    <tr>\n",
              "      <th>Afghanistan</th>\n",
              "      <td>30967</td>\n",
              "      <td>721</td>\n",
              "    </tr>\n",
              "    <tr>\n",
              "      <th>Albania</th>\n",
              "      <td>2402</td>\n",
              "      <td>55</td>\n",
              "    </tr>\n",
              "    <tr>\n",
              "      <th>Algeria</th>\n",
              "      <td>13273</td>\n",
              "      <td>897</td>\n",
              "    </tr>\n",
              "    <tr>\n",
              "      <th>Andorra</th>\n",
              "      <td>855</td>\n",
              "      <td>52</td>\n",
              "    </tr>\n",
              "    <tr>\n",
              "      <th>Angola</th>\n",
              "      <td>267</td>\n",
              "      <td>11</td>\n",
              "    </tr>\n",
              "    <tr>\n",
              "      <th>...</th>\n",
              "      <td>...</td>\n",
              "      <td>...</td>\n",
              "    </tr>\n",
              "    <tr>\n",
              "      <th>Vietnam</th>\n",
              "      <td>355</td>\n",
              "      <td>0</td>\n",
              "    </tr>\n",
              "    <tr>\n",
              "      <th>Western_Sahara</th>\n",
              "      <td>208</td>\n",
              "      <td>1</td>\n",
              "    </tr>\n",
              "    <tr>\n",
              "      <th>Yemen</th>\n",
              "      <td>1118</td>\n",
              "      <td>302</td>\n",
              "    </tr>\n",
              "    <tr>\n",
              "      <th>Zambia</th>\n",
              "      <td>1557</td>\n",
              "      <td>22</td>\n",
              "    </tr>\n",
              "    <tr>\n",
              "      <th>Zimbabwe</th>\n",
              "      <td>567</td>\n",
              "      <td>6</td>\n",
              "    </tr>\n",
              "  </tbody>\n",
              "</table>\n",
              "<p>208 rows × 2 columns</p>\n",
              "</div>"
            ],
            "text/plain": [
              "                cases  deaths\n",
              "country                      \n",
              "Afghanistan     30967     721\n",
              "Albania          2402      55\n",
              "Algeria         13273     897\n",
              "Andorra           855      52\n",
              "Angola            267      11\n",
              "...               ...     ...\n",
              "Vietnam           355       0\n",
              "Western_Sahara    208       1\n",
              "Yemen            1118     302\n",
              "Zambia           1557      22\n",
              "Zimbabwe          567       6\n",
              "\n",
              "[208 rows x 2 columns]"
            ]
          },
          "metadata": {
            "tags": []
          },
          "execution_count": 270
        }
      ]
    },
    {
      "cell_type": "markdown",
      "metadata": {
        "id": "61HxZ_Fi27Nv"
      },
      "source": [
        "Предыдущие выходные данные показывают консолидированную картину количества случаев заболевания и смертей по каждой стране."
      ]
    },
    {
      "cell_type": "markdown",
      "metadata": {
        "id": "HjS9gpoa3B2Y"
      },
      "source": [
        "Давайте добавим еще один столбец в этот агрегированный DataFrame - коэффициент смертности, который представляет собой отношение количества смертей к количеству случаев."
      ]
    },
    {
      "cell_type": "code",
      "metadata": {
        "id": "4PjR668A3J48",
        "colab": {
          "base_uri": "https://localhost:8080/",
          "height": 450
        },
        "outputId": "7e519c6b-5fab-4c17-cb45-6c200ce53fd1"
      },
      "source": [
        "df_by_country['mortality_rate']=df_by_country['deaths']/df_by_country['cases']\n",
        "df_by_country"
      ],
      "execution_count": 271,
      "outputs": [
        {
          "output_type": "execute_result",
          "data": {
            "text/html": [
              "<div>\n",
              "<style scoped>\n",
              "    .dataframe tbody tr th:only-of-type {\n",
              "        vertical-align: middle;\n",
              "    }\n",
              "\n",
              "    .dataframe tbody tr th {\n",
              "        vertical-align: top;\n",
              "    }\n",
              "\n",
              "    .dataframe thead th {\n",
              "        text-align: right;\n",
              "    }\n",
              "</style>\n",
              "<table border=\"1\" class=\"dataframe\">\n",
              "  <thead>\n",
              "    <tr style=\"text-align: right;\">\n",
              "      <th></th>\n",
              "      <th>cases</th>\n",
              "      <th>deaths</th>\n",
              "      <th>mortality_rate</th>\n",
              "    </tr>\n",
              "    <tr>\n",
              "      <th>country</th>\n",
              "      <th></th>\n",
              "      <th></th>\n",
              "      <th></th>\n",
              "    </tr>\n",
              "  </thead>\n",
              "  <tbody>\n",
              "    <tr>\n",
              "      <th>Afghanistan</th>\n",
              "      <td>30967</td>\n",
              "      <td>721</td>\n",
              "      <td>0.023283</td>\n",
              "    </tr>\n",
              "    <tr>\n",
              "      <th>Albania</th>\n",
              "      <td>2402</td>\n",
              "      <td>55</td>\n",
              "      <td>0.022898</td>\n",
              "    </tr>\n",
              "    <tr>\n",
              "      <th>Algeria</th>\n",
              "      <td>13273</td>\n",
              "      <td>897</td>\n",
              "      <td>0.067581</td>\n",
              "    </tr>\n",
              "    <tr>\n",
              "      <th>Andorra</th>\n",
              "      <td>855</td>\n",
              "      <td>52</td>\n",
              "      <td>0.060819</td>\n",
              "    </tr>\n",
              "    <tr>\n",
              "      <th>Angola</th>\n",
              "      <td>267</td>\n",
              "      <td>11</td>\n",
              "      <td>0.041199</td>\n",
              "    </tr>\n",
              "    <tr>\n",
              "      <th>...</th>\n",
              "      <td>...</td>\n",
              "      <td>...</td>\n",
              "      <td>...</td>\n",
              "    </tr>\n",
              "    <tr>\n",
              "      <th>Vietnam</th>\n",
              "      <td>355</td>\n",
              "      <td>0</td>\n",
              "      <td>0.000000</td>\n",
              "    </tr>\n",
              "    <tr>\n",
              "      <th>Western_Sahara</th>\n",
              "      <td>208</td>\n",
              "      <td>1</td>\n",
              "      <td>0.004808</td>\n",
              "    </tr>\n",
              "    <tr>\n",
              "      <th>Yemen</th>\n",
              "      <td>1118</td>\n",
              "      <td>302</td>\n",
              "      <td>0.270125</td>\n",
              "    </tr>\n",
              "    <tr>\n",
              "      <th>Zambia</th>\n",
              "      <td>1557</td>\n",
              "      <td>22</td>\n",
              "      <td>0.014130</td>\n",
              "    </tr>\n",
              "    <tr>\n",
              "      <th>Zimbabwe</th>\n",
              "      <td>567</td>\n",
              "      <td>6</td>\n",
              "      <td>0.010582</td>\n",
              "    </tr>\n",
              "  </tbody>\n",
              "</table>\n",
              "<p>208 rows × 3 columns</p>\n",
              "</div>"
            ],
            "text/plain": [
              "                cases  deaths  mortality_rate\n",
              "country                                      \n",
              "Afghanistan     30967     721        0.023283\n",
              "Albania          2402      55        0.022898\n",
              "Algeria         13273     897        0.067581\n",
              "Andorra           855      52        0.060819\n",
              "Angola            267      11        0.041199\n",
              "...               ...     ...             ...\n",
              "Vietnam           355       0        0.000000\n",
              "Western_Sahara    208       1        0.004808\n",
              "Yemen            1118     302        0.270125\n",
              "Zambia           1557      22        0.014130\n",
              "Zimbabwe          567       6        0.010582\n",
              "\n",
              "[208 rows x 3 columns]"
            ]
          },
          "metadata": {
            "tags": []
          },
          "execution_count": 271
        }
      ]
    },
    {
      "cell_type": "markdown",
      "metadata": {
        "id": "gqecQQVm3dEK"
      },
      "source": [
        "# **Шаг 3: Визуализация данных**"
      ]
    },
    {
      "cell_type": "markdown",
      "metadata": {
        "id": "ygxvFBJn3m27"
      },
      "source": [
        "В  первой визуализации этого исследования используем агрегированные данные в DataFrame, «**df_by_country**», для отображения двадцати стран с наибольшим уровнем смертности. "
      ]
    },
    {
      "cell_type": "code",
      "metadata": {
        "id": "mNuNixYa3z4z",
        "colab": {
          "base_uri": "https://localhost:8080/",
          "height": 738
        },
        "outputId": "02a57285-493f-4383-a8c1-41d3a1597f6b"
      },
      "source": [
        "plt.figure(figsize=(15,10))\n",
        "ax=df_by_country['mortality_rate'].sort_values(ascending=False).head(20).plot(kind='bar')\n",
        "ax.set_xticklabels(ax.get_xticklabels(), rotation=45, ha=\"right\")\n",
        "for p in ax.patches:\n",
        "  ax.annotate(p.get_height().round(2), (p.get_x()+p.get_width()/2, p.get_height()), ha=\"center\", va='bottom')\n",
        "ax.set_xlabel('Country')\n",
        "ax.set_ylabel('Mortality_rate')\n",
        "ax.set_title('Country with highest mortality rate')"
      ],
      "execution_count": null,
      "outputs": [
        {
          "output_type": "execute_result",
          "data": {
            "text/plain": [
              "Text(0.5, 1.0, 'Country with highest mortality rate')"
            ]
          },
          "metadata": {
            "tags": []
          },
          "execution_count": 33
        },
        {
          "output_type": "display_data",
          "data": {
            "image/png": "[encoded data removed]",
            "text/plain": [
              "<Figure size 1080x720 with 1 Axes>"
            ]
          },
          "metadata": {
            "tags": [],
            "needs_background": "light"
          }
        }
      ]
    },
    {
      "cell_type": "markdown",
      "metadata": {
        "id": "9pzqvNTf4Hzm"
      },
      "source": [
        "Во второй визуализации мы отображаем десять стран с наибольшим количеством случаев COVID-19, используя круговую диаграмму, как показано на рисунке ниже."
      ]
    },
    {
      "cell_type": "code",
      "metadata": {
        "id": "D8bEJ_PD4LlR",
        "colab": {
          "base_uri": "https://localhost:8080/",
          "height": 499
        },
        "outputId": "64151db6-9520-4ff9-d894-72ab50e6d28e"
      },
      "source": [
        "df_cases=df_by_country['cases'].sort_values(ascending=False)\n",
        "ax=df_cases.head(10).plot(kind='pie', autopct='%.2f%%', labels=df_cases.index, figsize=(12,8))\n",
        "ax.set_title('Top ten countries by case load')"
      ],
      "execution_count": null,
      "outputs": [
        {
          "output_type": "execute_result",
          "data": {
            "text/plain": [
              "Text(0.5, 1.0, 'Top ten countries by case load')"
            ]
          },
          "metadata": {
            "tags": []
          },
          "execution_count": 34
        },
        {
          "output_type": "display_data",
          "data": {
            "image/png": "[encoded data removed]",
            "text/plain": [
              "<Figure size 864x576 with 1 Axes>"
            ]
          },
          "metadata": {
            "tags": []
          }
        }
      ]
    },
    {
      "cell_type": "markdown",
      "metadata": {
        "id": "7aLkEFLf4XbY"
      },
      "source": [
        "В следующей визуализации с помощью гистограммы выясняем пять стран, которые больше всего пострадали с точки зрения человеческих потерь в результате пандемии COVID-19."
      ]
    },
    {
      "cell_type": "code",
      "metadata": {
        "id": "dO_1oNro4ali",
        "colab": {
          "base_uri": "https://localhost:8080/",
          "height": 511
        },
        "outputId": "a19629b5-633c-45f8-82d6-835fd28b6a82"
      },
      "source": [
        "plt.figure(figsize=(10,6))\n",
        "ax=df_by_country['deaths'].sort_values(ascending=False).head(5).plot(kind='bar')\n",
        "ax.set_xticklabels(ax.get_xticklabels(), rotation=45, ha=\"right\")\n",
        "for p in ax.patches:\n",
        "  ax.annotate(p.get_height(), (p.get_x()+p.get_width()/2, p.get_height()), ha=\"center\", va='bottom')\n",
        "  ax.set_title('Countries suffering the most fatalities from COVID-19')\n",
        "ax.set_xlabel('Countries')\n",
        "ax.set_ylabel('Number of deaths')\n"
      ],
      "execution_count": null,
      "outputs": [
        {
          "output_type": "execute_result",
          "data": {
            "text/plain": [
              "Text(0, 0.5, 'Number of deaths')"
            ]
          },
          "metadata": {
            "tags": []
          },
          "execution_count": 36
        },
        {
          "output_type": "display_data",
          "data": {
            "image/png": "[encoded data removed]",
            "text/plain": [
              "<Figure size 720x432 with 1 Axes>"
            ]
          },
          "metadata": {
            "tags": [],
            "needs_background": "light"
          }
        }
      ]
    },
    {
      "cell_type": "markdown",
      "metadata": {
        "id": "1Ta8cApP4okw"
      },
      "source": [
        "Теперь  построим линейные графики, чтобы увидеть ежемесячный тренд числа случаев COVID-19 и смертельных исходов.\n",
        "Чтобы построить линейные графики, мы сначала агрегируем данные по месяцам, а затем строим два линейных графика рядом, показывая количество случаев заболевания и смертей, как показано на рисунке ниже."
      ]
    },
    {
      "cell_type": "code",
      "metadata": {
        "id": "4q1rmP9p4u7g",
        "colab": {
          "base_uri": "https://localhost:8080/",
          "height": 673
        },
        "outputId": "b2b1a137-79eb-42d8-fd9c-d8efbf5f96f8"
      },
      "source": [
        "df_by_month=df1.groupby('country')['cases', 'deaths'].sum()\n",
        "fig=plt.figure(figsize=(15,10))\n",
        "ax1=fig.add_subplot(1,2,1)\n",
        "ax2=fig.add_subplot(1,2,2)\n",
        "df_by_month['cases'].plot(kind='line', ax=ax1)\n",
        "ax1.set_title('Total COVID-19 cases across months in 2020')\n",
        "ax1.set_xlabel('Months in 2020')\n",
        "ax1.set_ylabel('Number of cases (in million)')\n",
        "df_by_month['deaths'].plot(kind='line', ax=ax2)\n",
        "ax2.set_title('Total COVID-19 deaths across months in 2020')\n",
        "ax2.set_xlabel('Months in 2020')\n",
        "ax2.set_ylabel('Number of deaths')"
      ],
      "execution_count": null,
      "outputs": [
        {
          "output_type": "stream",
          "text": [
            "/usr/local/lib/python3.7/dist-packages/ipykernel_launcher.py:1: FutureWarning: Indexing with multiple keys (implicitly converted to a tuple of keys) will be deprecated, use a list instead.\n",
            "  \"\"\"Entry point for launching an IPython kernel.\n"
          ],
          "name": "stderr"
        },
        {
          "output_type": "execute_result",
          "data": {
            "text/plain": [
              "Text(0, 0.5, 'Number of deaths')"
            ]
          },
          "metadata": {
            "tags": []
          },
          "execution_count": 40
        },
        {
          "output_type": "display_data",
          "data": {
            "image/png": "[encoded data removed]",
            "text/plain": [
              "<Figure size 1080x720 with 2 Axes>"
            ]
          },
          "metadata": {
            "tags": [],
            "needs_background": "light"
          }
        }
      ]
    },
    {
      "cell_type": "markdown",
      "metadata": {
        "id": "h1mzZcyE44Lb"
      },
      "source": [
        "Многие страны ввели локдаун, чтобы остановить волну увеличения числа случаев заболевания. Теперь мы посмотрим на четыре страны - Индию, Великобританию, Италию и Германию - где в марте были введены ограничения, чтобы увидеть, оказала ли эта мера желаемый эффект.\n",
        "Сначала мы создаем объекты DataFrame для каждой из этих стран с агрегированными данными по месяцам."
      ]
    },
    {
      "cell_type": "markdown",
      "metadata": {
        "id": "-UieVT9A5WX2"
      },
      "source": [
        "\n",
        "Теперь  используем объекты DataFrame, созданные на предыдущих шагах, для построения линейных графиков для этих стран, чтобы увидеть количество случаев в разные месяцы в 2020 году, как показано на рисунке ниже. "
      ]
    },
    {
      "cell_type": "code",
      "metadata": {
        "id": "fcMk8dF65YeP"
      },
      "source": [
        ""
      ],
      "execution_count": null,
      "outputs": []
    },
    {
      "cell_type": "markdown",
      "metadata": {
        "id": "Vifh8_rN5nH8"
      },
      "source": [
        "# **Шаг 4:** Построение выводов на основе анализа и визуализаций"
      ]
    },
    {
      "cell_type": "markdown",
      "metadata": {
        "id": "wwljMUKK5qOX"
      },
      "source": [
        "Количество случаев: наибольшее количество случаев зарегистрировано в США, Бразилии, России, Индии и Великобритании.\n",
        "• Количество смертей: США, Бразилия, Великобритания, Италия и Франция имели самые высокие показатели смертности. Уровень смертности: Йемен, Сен-Мартен, Франция, Бельгия и Италия имели самые высокие показатели смертности.\n",
        "• Тенденции:\n",
        "• Общее количество заболевших неуклонно растет, в то время как общее количество смертей (смертей) снизилось после Апреля.\n",
        "• Влияние локдауна: мы проанализировали четыре страны - Индию, Великобританию, Германию и Италию - где в марте были введенлокдаун. За исключением Индии, во всех этих странах наблюдалось общее снижение числа случаев после введения карантина. В Великобритании и Германии число случаев заболевания сначала увеличилось (на ранней стадии закрытия стран), но после этого всплеска стало снижаться."
      ]
    },
    {
      "cell_type": "markdown",
      "metadata": {
        "id": "y9fdmE336YKc"
      },
      "source": [
        "# **Задание 1**"
      ]
    },
    {
      "cell_type": "markdown",
      "metadata": {
        "id": "41SshYaS6pH6"
      },
      "source": [
        "Рассмотрим первую таблицу на следующей веб-странице: https://en.wikipedia.org/wiki/Climate_of_South_Africa. Она содержит данные о максимальных и минимальных температурах (в градусах Цельсия) в различных городах Южной Африки летом и зимой.\n",
        "\n",
        "1.   Используйте соответствующий метод из модуля запросов, чтобы отправить запрос на получение по этому URL-адресу и сохранить данные из первой таблицы на этой странице в фрейме данных Pandas.\n",
        "\n",
        "2.   Переименуйте столбцы следующим образом:  **'City', 'Summer(max)', \n",
        "'Summer(min)', 'Winter(max)', 'Winter(min)'** .\n",
        "\n",
        "3.   Замените отрицательное значение в первой строке столбца ‘Winter(min)’ на 0 и преобразуйте тип данных этого столбца в int64.\n",
        "\n",
        "4.   Постройте график для отображения самых жарких городов в Южной Африке летом (используйте столбец Summer(max)).\n",
        "\n",
        "5.   Постройте график для отображения самых холодных городов в Южной Африке зимой (используйте столбец Winter(min)).\n",
        "\n"
      ]
    },
    {
      "cell_type": "code",
      "metadata": {
        "id": "hJnDMQM7pg8B"
      },
      "source": [
        "url='https://en.wikipedia.org/wiki/Climate_of_South_Africa'\n",
        "req=requests.get(url)\n",
        "data1=pd.read_html(req.text)\n",
        "dt=data1[0]"
      ],
      "execution_count": 300,
      "outputs": []
    },
    {
      "cell_type": "code",
      "metadata": {
        "colab": {
          "base_uri": "https://localhost:8080/",
          "height": 638
        },
        "id": "N6z7VSZSPWgb",
        "outputId": "e22a7a78-8e32-4731-d67a-f3682b540538"
      },
      "source": [
        "#удаляется столбец \"Winter(July)\" и переименовываются подстолбцы \"Summer(January)\"\n",
        "dt1=dt.drop([\"Winter(July)\"], axis=\"columns\")\n",
        "dt1.rename(columns={'Max':\"Summer(max)\", 'Min':\"Summer(min)\", 'City':\"City\"},inplace=True)\n",
        "dt1"
      ],
      "execution_count": 301,
      "outputs": [
        {
          "output_type": "execute_result",
          "data": {
            "text/html": [
              "<div>\n",
              "<style scoped>\n",
              "    .dataframe tbody tr th:only-of-type {\n",
              "        vertical-align: middle;\n",
              "    }\n",
              "\n",
              "    .dataframe tbody tr th {\n",
              "        vertical-align: top;\n",
              "    }\n",
              "\n",
              "    .dataframe thead tr th {\n",
              "        text-align: left;\n",
              "    }\n",
              "</style>\n",
              "<table border=\"1\" class=\"dataframe\">\n",
              "  <thead>\n",
              "    <tr>\n",
              "      <th></th>\n",
              "      <th>City</th>\n",
              "      <th colspan=\"2\" halign=\"left\">Summer(January)</th>\n",
              "    </tr>\n",
              "    <tr>\n",
              "      <th></th>\n",
              "      <th>City</th>\n",
              "      <th>Summer(max)</th>\n",
              "      <th>Summer(min)</th>\n",
              "    </tr>\n",
              "  </thead>\n",
              "  <tbody>\n",
              "    <tr>\n",
              "      <th>0</th>\n",
              "      <td>Bloemfontein</td>\n",
              "      <td>29</td>\n",
              "      <td>15</td>\n",
              "    </tr>\n",
              "    <tr>\n",
              "      <th>1</th>\n",
              "      <td>Cape Town</td>\n",
              "      <td>26</td>\n",
              "      <td>16</td>\n",
              "    </tr>\n",
              "    <tr>\n",
              "      <th>2</th>\n",
              "      <td>Durban</td>\n",
              "      <td>28</td>\n",
              "      <td>21</td>\n",
              "    </tr>\n",
              "    <tr>\n",
              "      <th>3</th>\n",
              "      <td>East London</td>\n",
              "      <td>26</td>\n",
              "      <td>18</td>\n",
              "    </tr>\n",
              "    <tr>\n",
              "      <th>4</th>\n",
              "      <td>George</td>\n",
              "      <td>25</td>\n",
              "      <td>15</td>\n",
              "    </tr>\n",
              "    <tr>\n",
              "      <th>5</th>\n",
              "      <td>Johannesburg</td>\n",
              "      <td>26</td>\n",
              "      <td>15</td>\n",
              "    </tr>\n",
              "    <tr>\n",
              "      <th>6</th>\n",
              "      <td>Kimberley</td>\n",
              "      <td>33</td>\n",
              "      <td>18</td>\n",
              "    </tr>\n",
              "    <tr>\n",
              "      <th>7</th>\n",
              "      <td>Mthatha</td>\n",
              "      <td>27</td>\n",
              "      <td>16</td>\n",
              "    </tr>\n",
              "    <tr>\n",
              "      <th>8</th>\n",
              "      <td>Musina</td>\n",
              "      <td>34</td>\n",
              "      <td>21</td>\n",
              "    </tr>\n",
              "    <tr>\n",
              "      <th>9</th>\n",
              "      <td>Nelspruit</td>\n",
              "      <td>29</td>\n",
              "      <td>19</td>\n",
              "    </tr>\n",
              "    <tr>\n",
              "      <th>10</th>\n",
              "      <td>Pietermaritzburg</td>\n",
              "      <td>28</td>\n",
              "      <td>18</td>\n",
              "    </tr>\n",
              "    <tr>\n",
              "      <th>11</th>\n",
              "      <td>Polokwane</td>\n",
              "      <td>28</td>\n",
              "      <td>17</td>\n",
              "    </tr>\n",
              "    <tr>\n",
              "      <th>12</th>\n",
              "      <td>Port Elizabeth</td>\n",
              "      <td>25</td>\n",
              "      <td>18</td>\n",
              "    </tr>\n",
              "    <tr>\n",
              "      <th>13</th>\n",
              "      <td>Pretoria</td>\n",
              "      <td>29</td>\n",
              "      <td>18</td>\n",
              "    </tr>\n",
              "    <tr>\n",
              "      <th>14</th>\n",
              "      <td>Richards Bay</td>\n",
              "      <td>29</td>\n",
              "      <td>21</td>\n",
              "    </tr>\n",
              "    <tr>\n",
              "      <th>15</th>\n",
              "      <td>Skukuza</td>\n",
              "      <td>33</td>\n",
              "      <td>21</td>\n",
              "    </tr>\n",
              "    <tr>\n",
              "      <th>16</th>\n",
              "      <td>Thohoyandou</td>\n",
              "      <td>31</td>\n",
              "      <td>20</td>\n",
              "    </tr>\n",
              "    <tr>\n",
              "      <th>17</th>\n",
              "      <td>Upington</td>\n",
              "      <td>36</td>\n",
              "      <td>20</td>\n",
              "    </tr>\n",
              "  </tbody>\n",
              "</table>\n",
              "</div>"
            ],
            "text/plain": [
              "                City Summer(January)            \n",
              "                City     Summer(max) Summer(min)\n",
              "0       Bloemfontein              29          15\n",
              "1          Cape Town              26          16\n",
              "2             Durban              28          21\n",
              "3        East London              26          18\n",
              "4             George              25          15\n",
              "5       Johannesburg              26          15\n",
              "6          Kimberley              33          18\n",
              "7            Mthatha              27          16\n",
              "8             Musina              34          21\n",
              "9          Nelspruit              29          19\n",
              "10  Pietermaritzburg              28          18\n",
              "11         Polokwane              28          17\n",
              "12    Port Elizabeth              25          18\n",
              "13          Pretoria              29          18\n",
              "14      Richards Bay              29          21\n",
              "15           Skukuza              33          21\n",
              "16       Thohoyandou              31          20\n",
              "17          Upington              36          20"
            ]
          },
          "metadata": {
            "tags": []
          },
          "execution_count": 301
        }
      ]
    },
    {
      "cell_type": "code",
      "metadata": {
        "colab": {
          "base_uri": "https://localhost:8080/",
          "height": 638
        },
        "id": "PlBfDnxiQV24",
        "outputId": "fb9f969a-19d4-4334-9129-ceeed47e0b65"
      },
      "source": [
        "#удаляется столбец \"Summer(January)\" и переименовываются подстолбцы \"Winter(July)\"\n",
        "#удляется столбец с городами \"City\"\n",
        "dt2=dt.drop([\"Summer(January)\"], axis=1).drop([\"City\"], axis=1)\n",
        "dt2.rename(columns={'Max':\"Winter(max)\", 'Min':\"Winter(min)\"},inplace=True)\n",
        "dt2"
      ],
      "execution_count": 302,
      "outputs": [
        {
          "output_type": "execute_result",
          "data": {
            "text/html": [
              "<div>\n",
              "<style scoped>\n",
              "    .dataframe tbody tr th:only-of-type {\n",
              "        vertical-align: middle;\n",
              "    }\n",
              "\n",
              "    .dataframe tbody tr th {\n",
              "        vertical-align: top;\n",
              "    }\n",
              "\n",
              "    .dataframe thead tr th {\n",
              "        text-align: left;\n",
              "    }\n",
              "</style>\n",
              "<table border=\"1\" class=\"dataframe\">\n",
              "  <thead>\n",
              "    <tr>\n",
              "      <th></th>\n",
              "      <th colspan=\"2\" halign=\"left\">Winter(July)</th>\n",
              "    </tr>\n",
              "    <tr>\n",
              "      <th></th>\n",
              "      <th>Winter(max)</th>\n",
              "      <th>Winter(min)</th>\n",
              "    </tr>\n",
              "  </thead>\n",
              "  <tbody>\n",
              "    <tr>\n",
              "      <th>0</th>\n",
              "      <td>15</td>\n",
              "      <td>–2</td>\n",
              "    </tr>\n",
              "    <tr>\n",
              "      <th>1</th>\n",
              "      <td>16</td>\n",
              "      <td>7</td>\n",
              "    </tr>\n",
              "    <tr>\n",
              "      <th>2</th>\n",
              "      <td>23</td>\n",
              "      <td>11</td>\n",
              "    </tr>\n",
              "    <tr>\n",
              "      <th>3</th>\n",
              "      <td>19</td>\n",
              "      <td>10</td>\n",
              "    </tr>\n",
              "    <tr>\n",
              "      <th>4</th>\n",
              "      <td>15</td>\n",
              "      <td>7</td>\n",
              "    </tr>\n",
              "    <tr>\n",
              "      <th>5</th>\n",
              "      <td>17</td>\n",
              "      <td>4</td>\n",
              "    </tr>\n",
              "    <tr>\n",
              "      <th>6</th>\n",
              "      <td>19</td>\n",
              "      <td>3</td>\n",
              "    </tr>\n",
              "    <tr>\n",
              "      <th>7</th>\n",
              "      <td>21</td>\n",
              "      <td>4</td>\n",
              "    </tr>\n",
              "    <tr>\n",
              "      <th>8</th>\n",
              "      <td>25</td>\n",
              "      <td>7</td>\n",
              "    </tr>\n",
              "    <tr>\n",
              "      <th>9</th>\n",
              "      <td>23</td>\n",
              "      <td>6</td>\n",
              "    </tr>\n",
              "    <tr>\n",
              "      <th>10</th>\n",
              "      <td>23</td>\n",
              "      <td>3</td>\n",
              "    </tr>\n",
              "    <tr>\n",
              "      <th>11</th>\n",
              "      <td>20</td>\n",
              "      <td>4</td>\n",
              "    </tr>\n",
              "    <tr>\n",
              "      <th>12</th>\n",
              "      <td>20</td>\n",
              "      <td>9</td>\n",
              "    </tr>\n",
              "    <tr>\n",
              "      <th>13</th>\n",
              "      <td>18</td>\n",
              "      <td>5</td>\n",
              "    </tr>\n",
              "    <tr>\n",
              "      <th>14</th>\n",
              "      <td>23</td>\n",
              "      <td>12</td>\n",
              "    </tr>\n",
              "    <tr>\n",
              "      <th>15</th>\n",
              "      <td>26</td>\n",
              "      <td>6</td>\n",
              "    </tr>\n",
              "    <tr>\n",
              "      <th>16</th>\n",
              "      <td>24</td>\n",
              "      <td>10</td>\n",
              "    </tr>\n",
              "    <tr>\n",
              "      <th>17</th>\n",
              "      <td>21</td>\n",
              "      <td>4</td>\n",
              "    </tr>\n",
              "  </tbody>\n",
              "</table>\n",
              "</div>"
            ],
            "text/plain": [
              "   Winter(July)            \n",
              "    Winter(max) Winter(min)\n",
              "0            15          –2\n",
              "1            16           7\n",
              "2            23          11\n",
              "3            19          10\n",
              "4            15           7\n",
              "5            17           4\n",
              "6            19           3\n",
              "7            21           4\n",
              "8            25           7\n",
              "9            23           6\n",
              "10           23           3\n",
              "11           20           4\n",
              "12           20           9\n",
              "13           18           5\n",
              "14           23          12\n",
              "15           26           6\n",
              "16           24          10\n",
              "17           21           4"
            ]
          },
          "metadata": {
            "tags": []
          },
          "execution_count": 302
        }
      ]
    },
    {
      "cell_type": "code",
      "metadata": {
        "colab": {
          "base_uri": "https://localhost:8080/",
          "height": 638
        },
        "id": "jcFkRvNBRybS",
        "outputId": "a2a584af-45e0-40a0-c391-58143b127881"
      },
      "source": [
        "#присоединяются два измененных DataFrame в один\n",
        "dt=dt1.join(dt2)\n",
        "dt"
      ],
      "execution_count": 303,
      "outputs": [
        {
          "output_type": "execute_result",
          "data": {
            "text/html": [
              "<div>\n",
              "<style scoped>\n",
              "    .dataframe tbody tr th:only-of-type {\n",
              "        vertical-align: middle;\n",
              "    }\n",
              "\n",
              "    .dataframe tbody tr th {\n",
              "        vertical-align: top;\n",
              "    }\n",
              "\n",
              "    .dataframe thead tr th {\n",
              "        text-align: left;\n",
              "    }\n",
              "</style>\n",
              "<table border=\"1\" class=\"dataframe\">\n",
              "  <thead>\n",
              "    <tr>\n",
              "      <th></th>\n",
              "      <th>City</th>\n",
              "      <th colspan=\"2\" halign=\"left\">Summer(January)</th>\n",
              "      <th colspan=\"2\" halign=\"left\">Winter(July)</th>\n",
              "    </tr>\n",
              "    <tr>\n",
              "      <th></th>\n",
              "      <th>City</th>\n",
              "      <th>Summer(max)</th>\n",
              "      <th>Summer(min)</th>\n",
              "      <th>Winter(max)</th>\n",
              "      <th>Winter(min)</th>\n",
              "    </tr>\n",
              "  </thead>\n",
              "  <tbody>\n",
              "    <tr>\n",
              "      <th>0</th>\n",
              "      <td>Bloemfontein</td>\n",
              "      <td>29</td>\n",
              "      <td>15</td>\n",
              "      <td>15</td>\n",
              "      <td>–2</td>\n",
              "    </tr>\n",
              "    <tr>\n",
              "      <th>1</th>\n",
              "      <td>Cape Town</td>\n",
              "      <td>26</td>\n",
              "      <td>16</td>\n",
              "      <td>16</td>\n",
              "      <td>7</td>\n",
              "    </tr>\n",
              "    <tr>\n",
              "      <th>2</th>\n",
              "      <td>Durban</td>\n",
              "      <td>28</td>\n",
              "      <td>21</td>\n",
              "      <td>23</td>\n",
              "      <td>11</td>\n",
              "    </tr>\n",
              "    <tr>\n",
              "      <th>3</th>\n",
              "      <td>East London</td>\n",
              "      <td>26</td>\n",
              "      <td>18</td>\n",
              "      <td>19</td>\n",
              "      <td>10</td>\n",
              "    </tr>\n",
              "    <tr>\n",
              "      <th>4</th>\n",
              "      <td>George</td>\n",
              "      <td>25</td>\n",
              "      <td>15</td>\n",
              "      <td>15</td>\n",
              "      <td>7</td>\n",
              "    </tr>\n",
              "    <tr>\n",
              "      <th>5</th>\n",
              "      <td>Johannesburg</td>\n",
              "      <td>26</td>\n",
              "      <td>15</td>\n",
              "      <td>17</td>\n",
              "      <td>4</td>\n",
              "    </tr>\n",
              "    <tr>\n",
              "      <th>6</th>\n",
              "      <td>Kimberley</td>\n",
              "      <td>33</td>\n",
              "      <td>18</td>\n",
              "      <td>19</td>\n",
              "      <td>3</td>\n",
              "    </tr>\n",
              "    <tr>\n",
              "      <th>7</th>\n",
              "      <td>Mthatha</td>\n",
              "      <td>27</td>\n",
              "      <td>16</td>\n",
              "      <td>21</td>\n",
              "      <td>4</td>\n",
              "    </tr>\n",
              "    <tr>\n",
              "      <th>8</th>\n",
              "      <td>Musina</td>\n",
              "      <td>34</td>\n",
              "      <td>21</td>\n",
              "      <td>25</td>\n",
              "      <td>7</td>\n",
              "    </tr>\n",
              "    <tr>\n",
              "      <th>9</th>\n",
              "      <td>Nelspruit</td>\n",
              "      <td>29</td>\n",
              "      <td>19</td>\n",
              "      <td>23</td>\n",
              "      <td>6</td>\n",
              "    </tr>\n",
              "    <tr>\n",
              "      <th>10</th>\n",
              "      <td>Pietermaritzburg</td>\n",
              "      <td>28</td>\n",
              "      <td>18</td>\n",
              "      <td>23</td>\n",
              "      <td>3</td>\n",
              "    </tr>\n",
              "    <tr>\n",
              "      <th>11</th>\n",
              "      <td>Polokwane</td>\n",
              "      <td>28</td>\n",
              "      <td>17</td>\n",
              "      <td>20</td>\n",
              "      <td>4</td>\n",
              "    </tr>\n",
              "    <tr>\n",
              "      <th>12</th>\n",
              "      <td>Port Elizabeth</td>\n",
              "      <td>25</td>\n",
              "      <td>18</td>\n",
              "      <td>20</td>\n",
              "      <td>9</td>\n",
              "    </tr>\n",
              "    <tr>\n",
              "      <th>13</th>\n",
              "      <td>Pretoria</td>\n",
              "      <td>29</td>\n",
              "      <td>18</td>\n",
              "      <td>18</td>\n",
              "      <td>5</td>\n",
              "    </tr>\n",
              "    <tr>\n",
              "      <th>14</th>\n",
              "      <td>Richards Bay</td>\n",
              "      <td>29</td>\n",
              "      <td>21</td>\n",
              "      <td>23</td>\n",
              "      <td>12</td>\n",
              "    </tr>\n",
              "    <tr>\n",
              "      <th>15</th>\n",
              "      <td>Skukuza</td>\n",
              "      <td>33</td>\n",
              "      <td>21</td>\n",
              "      <td>26</td>\n",
              "      <td>6</td>\n",
              "    </tr>\n",
              "    <tr>\n",
              "      <th>16</th>\n",
              "      <td>Thohoyandou</td>\n",
              "      <td>31</td>\n",
              "      <td>20</td>\n",
              "      <td>24</td>\n",
              "      <td>10</td>\n",
              "    </tr>\n",
              "    <tr>\n",
              "      <th>17</th>\n",
              "      <td>Upington</td>\n",
              "      <td>36</td>\n",
              "      <td>20</td>\n",
              "      <td>21</td>\n",
              "      <td>4</td>\n",
              "    </tr>\n",
              "  </tbody>\n",
              "</table>\n",
              "</div>"
            ],
            "text/plain": [
              "                City Summer(January)             Winter(July)            \n",
              "                City     Summer(max) Summer(min)  Winter(max) Winter(min)\n",
              "0       Bloemfontein              29          15           15          –2\n",
              "1          Cape Town              26          16           16           7\n",
              "2             Durban              28          21           23          11\n",
              "3        East London              26          18           19          10\n",
              "4             George              25          15           15           7\n",
              "5       Johannesburg              26          15           17           4\n",
              "6          Kimberley              33          18           19           3\n",
              "7            Mthatha              27          16           21           4\n",
              "8             Musina              34          21           25           7\n",
              "9          Nelspruit              29          19           23           6\n",
              "10  Pietermaritzburg              28          18           23           3\n",
              "11         Polokwane              28          17           20           4\n",
              "12    Port Elizabeth              25          18           20           9\n",
              "13          Pretoria              29          18           18           5\n",
              "14      Richards Bay              29          21           23          12\n",
              "15           Skukuza              33          21           26           6\n",
              "16       Thohoyandou              31          20           24          10\n",
              "17          Upington              36          20           21           4"
            ]
          },
          "metadata": {
            "tags": []
          },
          "execution_count": 303
        }
      ]
    },
    {
      "cell_type": "code",
      "metadata": {
        "colab": {
          "base_uri": "https://localhost:8080/"
        },
        "id": "l34-IUPSU5WH",
        "outputId": "9ecdd79e-fd96-4375-8606-0e6b9d947d4c"
      },
      "source": [
        "dt.info()"
      ],
      "execution_count": 79,
      "outputs": [
        {
          "output_type": "stream",
          "text": [
            "<class 'pandas.core.frame.DataFrame'>\n",
            "RangeIndex: 18 entries, 0 to 17\n",
            "Data columns (total 5 columns):\n",
            " #   Column                          Non-Null Count  Dtype \n",
            "---  ------                          --------------  ----- \n",
            " 0   (City, City)                    18 non-null     object\n",
            " 1   (Summer(January), Summer(max))  18 non-null     int64 \n",
            " 2   (Summer(January), Summer(min))  18 non-null     int64 \n",
            " 3   (Winter(July), Winter(max))     18 non-null     int64 \n",
            " 4   (Winter(July), Winter(min))     18 non-null     object\n",
            "dtypes: int64(3), object(2)\n",
            "memory usage: 848.0+ bytes\n"
          ],
          "name": "stdout"
        }
      ]
    },
    {
      "cell_type": "code",
      "metadata": {
        "colab": {
          "base_uri": "https://localhost:8080/",
          "height": 638
        },
        "id": "oeYjjgjXZKIt",
        "outputId": "bde5e036-0955-457a-8edf-e4b61e5630f4"
      },
      "source": [
        "dt.iloc[:1,4]=0\n",
        "dt"
      ],
      "execution_count": 310,
      "outputs": [
        {
          "output_type": "execute_result",
          "data": {
            "text/html": [
              "<div>\n",
              "<style scoped>\n",
              "    .dataframe tbody tr th:only-of-type {\n",
              "        vertical-align: middle;\n",
              "    }\n",
              "\n",
              "    .dataframe tbody tr th {\n",
              "        vertical-align: top;\n",
              "    }\n",
              "\n",
              "    .dataframe thead tr th {\n",
              "        text-align: left;\n",
              "    }\n",
              "</style>\n",
              "<table border=\"1\" class=\"dataframe\">\n",
              "  <thead>\n",
              "    <tr>\n",
              "      <th></th>\n",
              "      <th>City</th>\n",
              "      <th colspan=\"2\" halign=\"left\">Summer(January)</th>\n",
              "      <th colspan=\"2\" halign=\"left\">Winter(July)</th>\n",
              "    </tr>\n",
              "    <tr>\n",
              "      <th></th>\n",
              "      <th>City</th>\n",
              "      <th>Summer(max)</th>\n",
              "      <th>Summer(min)</th>\n",
              "      <th>Winter(max)</th>\n",
              "      <th>Winter(min)</th>\n",
              "    </tr>\n",
              "  </thead>\n",
              "  <tbody>\n",
              "    <tr>\n",
              "      <th>0</th>\n",
              "      <td>Bloemfontein</td>\n",
              "      <td>29</td>\n",
              "      <td>15</td>\n",
              "      <td>15</td>\n",
              "      <td>0</td>\n",
              "    </tr>\n",
              "    <tr>\n",
              "      <th>1</th>\n",
              "      <td>Cape Town</td>\n",
              "      <td>26</td>\n",
              "      <td>16</td>\n",
              "      <td>16</td>\n",
              "      <td>7</td>\n",
              "    </tr>\n",
              "    <tr>\n",
              "      <th>2</th>\n",
              "      <td>Durban</td>\n",
              "      <td>28</td>\n",
              "      <td>21</td>\n",
              "      <td>23</td>\n",
              "      <td>11</td>\n",
              "    </tr>\n",
              "    <tr>\n",
              "      <th>3</th>\n",
              "      <td>East London</td>\n",
              "      <td>26</td>\n",
              "      <td>18</td>\n",
              "      <td>19</td>\n",
              "      <td>10</td>\n",
              "    </tr>\n",
              "    <tr>\n",
              "      <th>4</th>\n",
              "      <td>George</td>\n",
              "      <td>25</td>\n",
              "      <td>15</td>\n",
              "      <td>15</td>\n",
              "      <td>7</td>\n",
              "    </tr>\n",
              "    <tr>\n",
              "      <th>5</th>\n",
              "      <td>Johannesburg</td>\n",
              "      <td>26</td>\n",
              "      <td>15</td>\n",
              "      <td>17</td>\n",
              "      <td>4</td>\n",
              "    </tr>\n",
              "    <tr>\n",
              "      <th>6</th>\n",
              "      <td>Kimberley</td>\n",
              "      <td>33</td>\n",
              "      <td>18</td>\n",
              "      <td>19</td>\n",
              "      <td>3</td>\n",
              "    </tr>\n",
              "    <tr>\n",
              "      <th>7</th>\n",
              "      <td>Mthatha</td>\n",
              "      <td>27</td>\n",
              "      <td>16</td>\n",
              "      <td>21</td>\n",
              "      <td>4</td>\n",
              "    </tr>\n",
              "    <tr>\n",
              "      <th>8</th>\n",
              "      <td>Musina</td>\n",
              "      <td>34</td>\n",
              "      <td>21</td>\n",
              "      <td>25</td>\n",
              "      <td>7</td>\n",
              "    </tr>\n",
              "    <tr>\n",
              "      <th>9</th>\n",
              "      <td>Nelspruit</td>\n",
              "      <td>29</td>\n",
              "      <td>19</td>\n",
              "      <td>23</td>\n",
              "      <td>6</td>\n",
              "    </tr>\n",
              "    <tr>\n",
              "      <th>10</th>\n",
              "      <td>Pietermaritzburg</td>\n",
              "      <td>28</td>\n",
              "      <td>18</td>\n",
              "      <td>23</td>\n",
              "      <td>3</td>\n",
              "    </tr>\n",
              "    <tr>\n",
              "      <th>11</th>\n",
              "      <td>Polokwane</td>\n",
              "      <td>28</td>\n",
              "      <td>17</td>\n",
              "      <td>20</td>\n",
              "      <td>4</td>\n",
              "    </tr>\n",
              "    <tr>\n",
              "      <th>12</th>\n",
              "      <td>Port Elizabeth</td>\n",
              "      <td>25</td>\n",
              "      <td>18</td>\n",
              "      <td>20</td>\n",
              "      <td>9</td>\n",
              "    </tr>\n",
              "    <tr>\n",
              "      <th>13</th>\n",
              "      <td>Pretoria</td>\n",
              "      <td>29</td>\n",
              "      <td>18</td>\n",
              "      <td>18</td>\n",
              "      <td>5</td>\n",
              "    </tr>\n",
              "    <tr>\n",
              "      <th>14</th>\n",
              "      <td>Richards Bay</td>\n",
              "      <td>29</td>\n",
              "      <td>21</td>\n",
              "      <td>23</td>\n",
              "      <td>12</td>\n",
              "    </tr>\n",
              "    <tr>\n",
              "      <th>15</th>\n",
              "      <td>Skukuza</td>\n",
              "      <td>33</td>\n",
              "      <td>21</td>\n",
              "      <td>26</td>\n",
              "      <td>6</td>\n",
              "    </tr>\n",
              "    <tr>\n",
              "      <th>16</th>\n",
              "      <td>Thohoyandou</td>\n",
              "      <td>31</td>\n",
              "      <td>20</td>\n",
              "      <td>24</td>\n",
              "      <td>10</td>\n",
              "    </tr>\n",
              "    <tr>\n",
              "      <th>17</th>\n",
              "      <td>Upington</td>\n",
              "      <td>36</td>\n",
              "      <td>20</td>\n",
              "      <td>21</td>\n",
              "      <td>4</td>\n",
              "    </tr>\n",
              "  </tbody>\n",
              "</table>\n",
              "</div>"
            ],
            "text/plain": [
              "                City Summer(January)             Winter(July)            \n",
              "                City     Summer(max) Summer(min)  Winter(max) Winter(min)\n",
              "0       Bloemfontein              29          15           15           0\n",
              "1          Cape Town              26          16           16           7\n",
              "2             Durban              28          21           23          11\n",
              "3        East London              26          18           19          10\n",
              "4             George              25          15           15           7\n",
              "5       Johannesburg              26          15           17           4\n",
              "6          Kimberley              33          18           19           3\n",
              "7            Mthatha              27          16           21           4\n",
              "8             Musina              34          21           25           7\n",
              "9          Nelspruit              29          19           23           6\n",
              "10  Pietermaritzburg              28          18           23           3\n",
              "11         Polokwane              28          17           20           4\n",
              "12    Port Elizabeth              25          18           20           9\n",
              "13          Pretoria              29          18           18           5\n",
              "14      Richards Bay              29          21           23          12\n",
              "15           Skukuza              33          21           26           6\n",
              "16       Thohoyandou              31          20           24          10\n",
              "17          Upington              36          20           21           4"
            ]
          },
          "metadata": {
            "tags": []
          },
          "execution_count": 310
        }
      ]
    },
    {
      "cell_type": "code",
      "metadata": {
        "colab": {
          "base_uri": "https://localhost:8080/"
        },
        "id": "gh-99KX4aDsc",
        "outputId": "473950ea-b12c-4a5f-cc00-58cb6796c68b"
      },
      "source": [
        "dt.info()"
      ],
      "execution_count": 232,
      "outputs": [
        {
          "output_type": "stream",
          "text": [
            "<class 'pandas.core.frame.DataFrame'>\n",
            "RangeIndex: 18 entries, 0 to 17\n",
            "Data columns (total 5 columns):\n",
            " #   Column                          Non-Null Count  Dtype \n",
            "---  ------                          --------------  ----- \n",
            " 0   (City, City)                    18 non-null     object\n",
            " 1   (Summer(January), Summer(max))  18 non-null     int64 \n",
            " 2   (Summer(January), Summer(min))  18 non-null     int64 \n",
            " 3   (Winter(July), Winter(max))     18 non-null     int64 \n",
            " 4   (Winter(July), Winter(min))     18 non-null     object\n",
            "dtypes: int64(3), object(2)\n",
            "memory usage: 848.0+ bytes\n"
          ],
          "name": "stdout"
        }
      ]
    },
    {
      "cell_type": "code",
      "metadata": {
        "id": "3ez2LZVZWy00"
      },
      "source": [
        "#Преобразование типа данных столбца 'Winter(min)' в int64\n",
        "dt.iloc[:18,4]=dt.iloc[:18,4].astype('int64')"
      ],
      "execution_count": 311,
      "outputs": []
    },
    {
      "cell_type": "code",
      "metadata": {
        "colab": {
          "base_uri": "https://localhost:8080/"
        },
        "id": "xb1nBiqg70Ou",
        "outputId": "5c66fc80-987e-4e9d-fcd3-7821d52717d5"
      },
      "source": [
        "dt.info()"
      ],
      "execution_count": 242,
      "outputs": [
        {
          "output_type": "stream",
          "text": [
            "<class 'pandas.core.frame.DataFrame'>\n",
            "RangeIndex: 18 entries, 0 to 17\n",
            "Data columns (total 5 columns):\n",
            " #   Column                          Non-Null Count  Dtype \n",
            "---  ------                          --------------  ----- \n",
            " 0   (City, City)                    18 non-null     object\n",
            " 1   (Summer(January), Summer(max))  18 non-null     int64 \n",
            " 2   (Summer(January), Summer(min))  18 non-null     int64 \n",
            " 3   (Winter(July), Winter(max))     18 non-null     int64 \n",
            " 4   (Winter(July), Winter(min))     18 non-null     int64 \n",
            "dtypes: int64(4), object(1)\n",
            "memory usage: 848.0+ bytes\n"
          ],
          "name": "stdout"
        }
      ]
    },
    {
      "cell_type": "code",
      "metadata": {
        "colab": {
          "base_uri": "https://localhost:8080/",
          "height": 553
        },
        "id": "Fjg3F8p_HPau",
        "outputId": "7080c8ce-b8ec-473c-d211-9941d1a13878"
      },
      "source": [
        "hot=dt.drop([\"Winter(July)\"], axis=\"columns\")\n",
        "hot=hot['Summer(January)'].drop([\"Summer(min)\"], axis=1)\n",
        "\n",
        "cold=dt.drop([\"Summer(January)\"], axis=\"columns\")\n",
        "cold=cold['Winter(July)'].drop([\"Winter(max)\"], axis=1)\n",
        "\n",
        "plt.figure(figsize=(12,8))\n",
        "hot.plot(kind='bar', color='red')\n",
        "\n",
        "cold.plot(kind='bar')"
      ],
      "execution_count": 378,
      "outputs": [
        {
          "output_type": "execute_result",
          "data": {
            "text/plain": [
              "<matplotlib.axes._subplots.AxesSubplot at 0x7f87a2a36f50>"
            ]
          },
          "metadata": {
            "tags": []
          },
          "execution_count": 378
        },
        {
          "output_type": "display_data",
          "data": {
            "text/plain": [
              "<Figure size 864x576 with 0 Axes>"
            ]
          },
          "metadata": {
            "tags": []
          }
        },
        {
          "output_type": "display_data",
          "data": {
            "image/png": "[encoded data removed]",
            "text/plain": [
              "<Figure size 432x288 with 1 Axes>"
            ]
          },
          "metadata": {
            "tags": [],
            "needs_background": "light"
          }
        },
        {
          "output_type": "display_data",
          "data": {
            "image/png": "[encoded data removed]",
            "text/plain": [
              "<Figure size 432x288 with 1 Axes>"
            ]
          },
          "metadata": {
            "tags": [],
            "needs_background": "light"
          }
        }
      ]
    },
    {
      "cell_type": "markdown",
      "metadata": {
        "id": "5upl3CgZ7m-x"
      },
      "source": [
        "# **Задание 2**"
      ]
    },
    {
      "cell_type": "markdown",
      "metadata": {
        "id": "9Zoz9Pvb7rb4"
      },
      "source": [
        "Недельная заработная плата десяти сотрудников (с инициалами A – J) составляет: 100, 120, 80, 155, 222, 400, 199, 403, 345, 290. Сохраните недельную заработную плату в DataFrame.\n",
        "\n",
        "• Постройте гистограмму для отображения заработной платы в убывающем порядке.\n",
        "\n",
        "• Обозначьте каждую полосу на гистограммах с помощью метода аннотации."
      ]
    },
    {
      "cell_type": "code",
      "metadata": {
        "id": "ofambijZ_7gH"
      },
      "source": [
        "#создание списков\n",
        "worker=['A','B','C','D','E','F','G','H','I','J']\n",
        "salary=[100,120,80,155,222,400,199,403,345,290]\n",
        "#создание словаря из двух списков\n",
        "dict = {'worker': worker, 'salary': salary} \n",
        "#перевод словаря в DataFrame\n",
        "df = pd.DataFrame(dict)\n",
        "df"
      ],
      "execution_count": null,
      "outputs": []
    },
    {
      "cell_type": "code",
      "metadata": {
        "colab": {
          "base_uri": "https://localhost:8080/",
          "height": 350
        },
        "id": "cmwX9ylMEpfG",
        "outputId": "c1acc58e-a14e-4e37-b444-7b2f364d8728"
      },
      "source": [
        "df=df.sort_values('salary', ascending=False)\n",
        "plt.figure(figsize=(10,5))\n",
        "#creating a bar plot\n",
        "ax=sns.barplot(x='worker',y='salary',data=df)\n",
        "#rotating the x axis labels\n",
        "ax.set_xticklabels(labels=df['worker'],rotation=75)\n",
        "#setting the title\n",
        "ax.set_title(\"Зарплата работников\")\n",
        "#setting the Y-axis labels\n",
        "ax.set_ylabel(\"Размер зарплаты\")\n",
        "#Labelling the bars in the bar graph\n",
        "for p in ax.patches:\n",
        "  ax.annotate(p.get_height(),(p.get_x()+p.get_width()/2,p.get_height()),ha='center',va='bottom')\n"
      ],
      "execution_count": 216,
      "outputs": [
        {
          "output_type": "display_data",
          "data": {
            "image/png": "[encoded data removed]",
            "text/plain": [
              "<Figure size 720x360 with 1 Axes>"
            ]
          },
          "metadata": {
            "tags": [],
            "needs_background": "light"
          }
        }
      ]
    }
  ]
}