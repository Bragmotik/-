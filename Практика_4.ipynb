{
  "nbformat": 4,
  "nbformat_minor": 0,
  "metadata": {
    "colab": {
      "name": "Практика_4",
      "provenance": [],
      "authorship_tag": "ABX9TyO2Y73jDEf1b7g9Nu5TpTHn",
      "include_colab_link": true
    },
    "kernelspec": {
      "name": "python3",
      "display_name": "Python 3"
    }
  },
  "cells": [
    {
      "cell_type": "markdown",
      "metadata": {
        "id": "view-in-github",
        "colab_type": "text"
      },
      "source": [
        "<a href=\"https://colab.research.google.com/github/Bragmotik/laboratory/blob/main/%D0%9F%D1%80%D0%B0%D0%BA%D1%82%D0%B8%D0%BA%D0%B0_4.ipynb\" target=\"_parent\"><img src=\"https://colab.research.google.com/assets/colab-badge.svg\" alt=\"Open In Colab\"/></a>"
      ]
    },
    {
      "cell_type": "markdown",
      "metadata": {
        "id": "DU4iQ8eWNFBo"
      },
      "source": [
        "# Короткие задания\n"
      ]
    },
    {
      "cell_type": "code",
      "metadata": {
        "id": "-7Vmg3d6NJ8y"
      },
      "source": [
        "class Person:\n",
        "  def setName(self,n,s):\n",
        "    self.name=n\n",
        "    self.surname=s\n",
        "p1=Person()\n",
        "p1.setName(\"Bill\",\"Ross\")\n",
        "p1.name,p1.surname"
      ],
      "execution_count": null,
      "outputs": []
    },
    {
      "cell_type": "code",
      "metadata": {
        "id": "7Jm0rYUDNQ01"
      },
      "source": [
        "class Person2:\n",
        "  def __init__(self,n,s):\n",
        "    self.name=n\n",
        "    self.surname=s\n",
        "p1=Person2(\"Sam\",\"Baker\")\n",
        "print(p1.name, p1.surname)"
      ],
      "execution_count": null,
      "outputs": []
    },
    {
      "cell_type": "code",
      "metadata": {
        "id": "s9QwqUo2NaR2"
      },
      "source": [
        "class Rectangle:\n",
        "  def __init__(self,w=0.5,h=1):\n",
        "    self.width=w\n",
        "    self.height=h\n",
        "  def square(self):\n",
        "    return self.width*self.height\n",
        "\n",
        "rec1=Rectangle(5,2)\n",
        "rec2=Rectangle()\n",
        "rec3=Rectangle(3)\n",
        "rec4=Rectangle(h=4)\n",
        "print(rec1.square())\n",
        "print(rec2.square())\n",
        "print(rec3.square())\n",
        "print(rec4.square())"
      ],
      "execution_count": null,
      "outputs": []
    },
    {
      "cell_type": "markdown",
      "metadata": {
        "id": "bz-ELxdQK0_s"
      },
      "source": [
        "# Задание 4-1"
      ]
    },
    {
      "cell_type": "code",
      "metadata": {
        "id": "BQLdP-dx_Ry1"
      },
      "source": [
        "class Person:\n",
        "  def __init__(self, n, s, q = 1):\n",
        "    self.name=n\n",
        "    self.surname=s\n",
        "    self.skill=q                                                     #вызов del происходит автоматически\n",
        "  def __del__(self):\n",
        "    print(\"До свидания мистер\", self.name, self.surname)\n",
        "  def info(self):\n",
        "    return \"{0} {1},{2}\".format(self.name,self.surname,self.skill)\n",
        "worker=Person('И','Котов',3)\n",
        "helper=Person('Д','Мышев',1)\n",
        "maker=Person('О','Рисов',2)\n",
        "print(worker.info())\n",
        "print(helper.info())\n",
        "print(maker.info())\n",
        "del helper\n",
        "print(\"Конец программы\")\n",
        "input()"
      ],
      "execution_count": null,
      "outputs": []
    },
    {
      "cell_type": "markdown",
      "metadata": {
        "id": "D8y5Ubw4K9Q2"
      },
      "source": [
        "# Задание 4-1\n",
        "Индивидуальное\n"
      ]
    },
    {
      "cell_type": "code",
      "metadata": {
        "id": "oz-tIAAKHhpC"
      },
      "source": [
        "class Student:\n",
        "  def __init__(self,surname, name, birth,gender,number,mail,university,institut,speciality,mark,group=\"Мат-178\"):\n",
        "    self.surname=surname\n",
        "    self.name=name\n",
        "    self.birth=birth\n",
        "    self.gender=gender\n",
        "    self.number=number\n",
        "    self.mail=mail\n",
        "    self.university=university\n",
        "    self.institut=institut\n",
        "    self.speciality=speciality\n",
        "    self.mark=mark\n",
        "    self.group=group\n",
        "  def __del__(self):\n",
        "    print('Отчислен студент:',self.surname, self.name,self.mark)\n",
        "  def info(self):\n",
        "    return \"{0}{1}  - {2},{3},{4},{5},{6},{7},{8},{9},{10}\".format(self.surname, self.name, self.birth,self.gender,self.number,self.mail,self.university,self.institut,self.speciality,self.mark,self.group)\n",
        "\n",
        "st1=Student('Иванов ', \"Дмитрий \",'1/6/1999','M','89998652646','prince23@mail.com','MГПУ','ИЦO','Математика',2)\n",
        "st2=Student('Петров ', \"Антон\",'15/3/2000','М','89469632685','PetrovA@mail.com','MГПУ','ИЦO','Математика',5)\n",
        "print(st1.info())\n",
        "print(st2.info())\n",
        "\n",
        "if st1.mark<st2.mark:\n",
        "  print(\"Пока, первый студент\")\n",
        "  del st1\n",
        "elif st1.mark>st2.mark:\n",
        "  print(\"Пока, второй студент\")\n",
        "  del st2\n",
        "else:\n",
        "  print('молодцы!')"
      ],
      "execution_count": null,
      "outputs": []
    },
    {
      "cell_type": "markdown",
      "metadata": {
        "id": "BBHmF7TNQYZV"
      },
      "source": [
        "# Короткие задания\n",
        "Наследование\n"
      ]
    },
    {
      "cell_type": "code",
      "metadata": {
        "id": "cDkobYW_QiMA"
      },
      "source": [
        "class Table:\n",
        "  def __init__(self,l,w,h):\n",
        "    self.height=h\n",
        "    self.lenght=l\n",
        "    self.width=w\n",
        "\n",
        "class KitchenTable(Table):\n",
        "  def setPlaces(self,p):\n",
        "    self.places=p\n",
        "\n",
        "class DeskTable(Table):\n",
        "  def square(self):\n",
        "    return self.width*self.lenght\n",
        "\n",
        "class ComputerTable(DeskTable):\n",
        "  def square(self,e):\n",
        "    return self.width*self.lenght-e\n",
        "ct=ComputerTable(2,1,1)\n",
        "ct.square(0.3)\n",
        "\n",
        "t1=KitchenTable(3,5,6)\n",
        "t2=KitchenTable(2,2,8)\n",
        "t2=DeskTable(13,4,8)"
      ],
      "execution_count": 41,
      "outputs": []
    },
    {
      "cell_type": "code",
      "metadata": {
        "id": "m8DYicYDSOf0"
      },
      "source": [
        "class KitchenTable(Table):\n",
        "  def __init__(self,l,w,h,p):\n",
        "    self.places=p\n",
        "    self.height=h\n",
        "    self.lenght=l\n",
        "    self.width=w"
      ],
      "execution_count": 43,
      "outputs": []
    },
    {
      "cell_type": "code",
      "metadata": {
        "id": "l0-W_Zi-SQFb"
      },
      "source": [
        "class KitchenTable(Table):\n",
        "  def __init__(self,l,w,h,p):\n",
        "    Table.__init__(self,l,w,h)\n",
        "    self.places=p"
      ],
      "execution_count": 44,
      "outputs": []
    },
    {
      "cell_type": "markdown",
      "metadata": {
        "id": "_CzpmEjVLE0-"
      },
      "source": [
        "# Задаие 4-2"
      ]
    },
    {
      "cell_type": "code",
      "metadata": {
        "id": "q9vrfnctKLl8"
      },
      "source": [
        "from random import randint\n",
        "\n",
        "class Person:\n",
        "  count=0\n",
        "  def __init__(self,c):\n",
        "    self.id=Person.count\n",
        "    Person.count+=1\n",
        "    self.command=c\n",
        "\n",
        "class Hero(Person):\n",
        "  def __init__(self,c):\n",
        "    Person.__init__(self,c)\n",
        "    self.level=1\n",
        "  def upLevel(self):\n",
        "    self.level+=1\n",
        "\n",
        "class Soldier(Person):\n",
        "  def __init__(self,c):\n",
        "    Person.__init__(self,c)\n",
        "    self.my_hero=None\n",
        "  def follow(self,hero):\n",
        "    self.my_hero=hero.id\n",
        "\n",
        "h1= Hero(1)\n",
        "h2= Hero(2)\n",
        "army1=[]\n",
        "army2=[]\n",
        "for i in range(20):\n",
        "  n=randint(1,2)\n",
        "  if n==1:\n",
        "    army1.append(Soldier(n))\n",
        "  else:\n",
        "    army2.append(Soldier(n))\n",
        "print(len(army1),len(army2))\n",
        "if len(army1) > len(army2):\n",
        "  h1.upLevel()\n",
        "else:\n",
        "  h2.upLevel()\n",
        "army1[0].follow(h1)\n",
        "print(army1[0].id,h1.id)"
      ],
      "execution_count": null,
      "outputs": []
    },
    {
      "cell_type": "markdown",
      "metadata": {
        "id": "F5ifVULtL6UB"
      },
      "source": [
        "# Задание 4-3"
      ]
    },
    {
      "cell_type": "code",
      "metadata": {
        "id": "PrjTxuK5L-ls"
      },
      "source": [
        "class Rectangle:\n",
        "  def __init__(self,width,height,sign):\n",
        "    self.w=int(width)\n",
        "    self.h=int(height)\n",
        "    self.s=str(sign)\n",
        "  def __str__(self):\n",
        "    rect=[]\n",
        "    for i in range(self.h):\n",
        "      rect.append(self.s*self.w)\n",
        "    rect='\\n'.join(rect)\n",
        "    return rect \n",
        "  def __add__(self,other):\n",
        "    return Rectangle(self.w+other.w,self.h+other.h,self.s)\n",
        "\n",
        "a=Rectangle(4,2,'w')\n",
        "print(a)\n",
        "b=Rectangle(8,3,'z')\n",
        "print(b)\n",
        "print(a+b)\n",
        "print(b+a)"
      ],
      "execution_count": null,
      "outputs": []
    }
  ]
}