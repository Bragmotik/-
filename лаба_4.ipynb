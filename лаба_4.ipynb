{
  "nbformat": 4,
  "nbformat_minor": 0,
  "metadata": {
    "colab": {
      "name": "лаба_4",
      "provenance": [],
      "collapsed_sections": [
        "3Y7s-OlM2r4f",
        "yP7Y-gfn0GJ7",
        "yZxoX90j0FxX",
        "Cz7bxM0M0HzF",
        "N741Z_4U0H97",
        "AFxxXtZk0IXp",
        "L3Ot0KT40IpR",
        "6q_kdUvf0I7e",
        "5Saz-kCM0JzL",
        "1ID3Lbj70KES",
        "hvGZcE-j0KWh",
        "fnVNC0Rb0JkV",
        "eHxT6O8M0Izd",
        "rSvIClXg0IhI",
        "IGnN5KW80IJ1",
        "7LTtkXEP0H7M",
        "wyOktzBD0Hb3",
        "kq6YfuXwSnIn",
        "AjWp6QbNSqg9",
        "JUpqCECwSslh",
        "WBBRp8uKStcY",
        "b8ddwGIHSuVq"
      ],
      "authorship_tag": "ABX9TyPumGwATDFylDLPGS4/bIR1",
      "include_colab_link": true
    },
    "kernelspec": {
      "name": "python3",
      "display_name": "Python 3"
    }
  },
  "cells": [
    {
      "cell_type": "markdown",
      "metadata": {
        "id": "view-in-github",
        "colab_type": "text"
      },
      "source": [
        "<a href=\"https://colab.research.google.com/github/Bragmotik/laboratory/blob/main/%D0%BB%D0%B0%D0%B1%D0%B0_4.ipynb\" target=\"_parent\"><img src=\"https://colab.research.google.com/assets/colab-badge.svg\" alt=\"Open In Colab\"/></a>"
      ]
    },
    {
      "cell_type": "markdown",
      "metadata": {
        "id": "drBMi9ZbzrgP"
      },
      "source": [
        "# Яковлева Ольга\n",
        "АДЭУ 201\n"
      ]
    },
    {
      "cell_type": "markdown",
      "metadata": {
        "id": "3Y7s-OlM2r4f"
      },
      "source": [
        "# Задание 4.2.1.\n",
        "Рассчитать значение f при заданном значении вещественного числа x:\n",
        "> ![image.png](data:image/png;base64,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)\n",
        "\n",
        "\n",
        "При выводе на экран оставьте 2 знака после запятой."
      ]
    },
    {
      "cell_type": "code",
      "metadata": {
        "id": "wFkIR97xzaAH"
      },
      "source": [
        "x = float(input(\"Введите число x:\"))\n",
        "\n",
        "if x >= 0:\n",
        "    f = x**0.5 + x**2\n",
        "else:\n",
        "    f = 1 / x\n",
        "\n",
        "print(round(f,2))\n",
        "\n",
        "# --------------\n",
        "# Пример вывода:\n",
        "#\n",
        "# Введите число x: -10\n",
        "# f = -0.10\n",
        "\n",
        "# Введите число x: 0\n",
        "# f = 0.00\n",
        "\n",
        "# Введите число x: 10\n",
        "# f = 103.16\n"
      ],
      "execution_count": null,
      "outputs": []
    },
    {
      "cell_type": "markdown",
      "metadata": {
        "id": "yP7Y-gfn0GJ7"
      },
      "source": [
        "# Задание 4.2.2.\n",
        "Определите максимальное и минимальное значения из двух различных целых чисел."
      ]
    },
    {
      "cell_type": "code",
      "metadata": {
        "id": "pCPqxdz8Ej7k"
      },
      "source": [
        "a1 = int(input(\"Введите первое число:\"))\n",
        "a2 = int(input(\"Введите второе число:\"))\n",
        "\n",
        "# Переменная 'a_min' должна содержать минимум, 'a_max' - максимум\n",
        "if a1>a2:\n",
        "  a_min = a2\n",
        "  a_max = a1\n",
        "else:\n",
        "  a_max = a2\n",
        "  a_min = a1\n",
        "\n",
        "print(\"Максимум: \", a_max, \",\", \"Минимум: \", a_min)\n",
        "\n",
        "# --------------\n",
        "# Пример вывода:\n",
        "#\n",
        "# Введите первое число: 1\n",
        "# Введите второе число: 2\n",
        "# Максимум: 2, минимум: 1\n",
        "\n",
        "# Введите первое число: 5\n",
        "# Введите второе число: 5\n",
        "# Максимум: 5, минимум: 5\n",
        "\n",
        "# Введите первое число: 100\n",
        "# Введите второе число: -1\n",
        "# Максимум: 100, минимум: -1\n"
      ],
      "execution_count": null,
      "outputs": []
    },
    {
      "cell_type": "markdown",
      "metadata": {
        "id": "yZxoX90j0FxX"
      },
      "source": [
        "# Задание 4.2.3.\n",
        "Вася пытается высунуть голову в форточку размерами a и b см. Приняв условно, что его голова - круглая диаметром d см, определите, сможет ли Вася сделать это. Для прохождения головы в форточку необходим зазор в 1 см. с каждой стороны.\n",
        "\n",
        "Все величины - целые числа."
      ]
    },
    {
      "cell_type": "code",
      "metadata": {
        "id": "V_8yfIFaIm8L"
      },
      "source": [
        "a = int(input(\"Ширина форточки: \"))\n",
        "b = int(input(\"Высота форточки: \"))\n",
        "d = int(input(\"Диаметр головы: \"))\n",
        "\n",
        "if a>0 and b>0 and d>0:\n",
        "    fix = 1  # Зазор\n",
        "    if a>=d+fix*2 and b>=d+fix*2:\n",
        "      print(\"Да, сможет\")\n",
        "    else:\n",
        "      print(\"Нет, не сможет\")\n",
        "else:\n",
        "  print(\"Проверьте ввод\")\n",
        "# --------------\n",
        "# Пример вывода:\n",
        "#\n",
        "# Ширина форточки: 5\n",
        "# Высота форточки: 6\n",
        "# Диаметр головы: 6\n",
        "# Нет\n",
        "\n",
        "# Ширина форточки: 6\n",
        "# Высота форточки: 7\n",
        "# Диаметр головы: 4\n",
        "# Да\n"
      ],
      "execution_count": null,
      "outputs": []
    },
    {
      "cell_type": "markdown",
      "metadata": {
        "id": "Cz7bxM0M0HzF"
      },
      "source": [
        "# Задание 4.2.4.\n",
        "Известны год и номер месяца сегодняшнего дня, а также год и номер месяца рождения человека (нумерация месяцев с 1: январь - 1 и т.д.). Определите возраст человека (число полных лет)."
      ]
    },
    {
      "cell_type": "code",
      "metadata": {
        "id": "iLfiq_IUNimy"
      },
      "source": [
        "year_today = int(input(\"Введите текущий год: \"))\n",
        "month_today = int(input(\"Введите текущий месяц: \"))\n",
        "\n",
        "year = int(input(\"Введите год рождения: \"))\n",
        "month = int(input(\"Введите месяц рождения: \"))\n",
        "\n",
        "# Считается, введенные значения находятся в допустимых пределах,и\n",
        "# что 'month_today' >= 'month' (проверять значения не нужно)\n",
        "# Результат необходимо записать в переменную 'age'\n",
        "if month_today>=month:\n",
        "  age = year_today-year\n",
        "else:\n",
        "  age = year_today-year-1\n",
        "\n",
        "print(\"Число полных лет: \", age)\n",
        "\n",
        "# --------------\n",
        "# Пример вывода:\n",
        "#\n",
        "# Введите текущий год: 2017\n",
        "# Введите текущий месяц: 5\n",
        "# Введите год рождения: 2000\n",
        "# Введите месяц рождения: 1\n",
        "# Число полных лет:  17\n",
        "#\n",
        "# Введите текущий год: 2015\n",
        "# Введите текущий месяц: 6\n",
        "# Введите год рождения: 2010\n",
        "# Введите месяц рождения: 8\n",
        "# Число полных лет:  4\n",
        "#\n",
        "# Введите текущий год: 2020\n",
        "# Введите текущий месяц: 5\n",
        "# Введите год рождения: 2000\n",
        "# Введите месяц рождения: 5\n",
        "# Число полных лет:  20\n"
      ],
      "execution_count": null,
      "outputs": []
    },
    {
      "cell_type": "markdown",
      "metadata": {
        "id": "N741Z_4U0H97"
      },
      "source": [
        "# Задание 4.2.5.\n",
        "Дана точка с целыми ненулевыми координатами (x;y). Определить номер четверти координатной плоскости, которой она принадлежит."
      ]
    },
    {
      "cell_type": "code",
      "metadata": {
        "id": "JcN9G2PfRzOI"
      },
      "source": [
        "x = float(input(\"Введите координату x: \"))\n",
        "y = float(input(\"Введите координату y: \"))\n",
        "\n",
        "if x>=0 and y>0:\n",
        "  print(\"1-я четверть\")\n",
        "elif x>0 and y<0:\n",
        "  print(\"2-я четверть\")\n",
        "elif x<0 and y<0:\n",
        "  print(\"3-я четверть\")\n",
        "else:\n",
        "  print(\"4-я четверть\")\n",
        "\n",
        "print()\n",
        "\n",
        "# --------------\n",
        "# Пример вывода:\n",
        "#\n",
        "# Введите координату x: 5\n",
        "# Введите координату y: 7\n",
        "# 1-я четверть\n"
      ],
      "execution_count": null,
      "outputs": []
    },
    {
      "cell_type": "markdown",
      "metadata": {
        "id": "AFxxXtZk0IXp"
      },
      "source": [
        "# Задание 4.2.6.\n",
        "Даны вещественные числа a, b, c (a≠0).\n",
        "\n",
        "Решите уравнение ax2+bx+c=0. При выводе значений оставьте 1 знак после запятой."
      ]
    },
    {
      "cell_type": "code",
      "metadata": {
        "id": "xliZsHn5TtYu"
      },
      "source": [
        "a = float(input(\"a = \"))\n",
        "b = float(input(\"b = \"))\n",
        "c = float(input(\"c = \"))\n",
        "if a!=0:\n",
        "  dis=b**2-4*a*c\n",
        "  if dis>0:\n",
        "    x1 = ((-b) - dis**0.5)/2*a\n",
        "    x2 = ((-b) + dis**0.5)/2*a\n",
        "    print(\"x1= \", \"%.1f\" % (x1), \"x2=\", \"%.1f\" % (x2))\n",
        "  elif dis==0:\n",
        "    x = ((-b) + dis**0.5)/2*a\n",
        "    print(\"x=\", \"%.1f\" % (x))\n",
        "  else:\n",
        "    print(\"Решений нет\")\n",
        "else:\n",
        "  print(\"Введите другие значения\")\n",
        "\n",
        "# --------------\n",
        "# Пример вывода:\n",
        "#\n",
        "# a = 1\n",
        "# b = 2\n",
        "# c = 3\n",
        "# Решений нет\n",
        "#\n",
        "# a = 1\n",
        "# b = 2\n",
        "# c = 1\n",
        "# x = -1.0\n",
        "#\n",
        "# a = 1\n",
        "# b = 3\n",
        "# c = -4\n",
        "# x1 = -4.0, x2 = 1.0\n"
      ],
      "execution_count": null,
      "outputs": []
    },
    {
      "cell_type": "markdown",
      "metadata": {
        "id": "L3Ot0KT40IpR"
      },
      "source": [
        "# Задание 4.2.7.\n",
        "Дана непустая последовательность целых чисел, оканчивающаяся нулем. Найти сумму и количество введенных чисел."
      ]
    },
    {
      "cell_type": "code",
      "metadata": {
        "id": "U9C0_Th7dIo3"
      },
      "source": [
        "nums_sum = 0  # сумма\n",
        "nums_count = 0  # количество\n",
        " \n",
        "x = int(input(\"Введите число:\"))\n",
        "while x!= 0:\n",
        "  nums_sum += x\n",
        "  nums_count += 1\n",
        "  x = int(input(\"Введите число:\"))\n",
        "print(\"Сумма=\",nums_sum, \"Количество=\", nums_count)\n",
        "# Удалите комментарий и допишите код\n",
        " \n",
        "# --------------\n",
        "# Пример вывода:\n",
        "#\n",
        "# Введите 1-е число: 1\n",
        "# Введите 2-е число: 2\n",
        "# Введите 3-е число: 3\n",
        "# Введите 4-е число: 4\n",
        "# Введите 5-е число: 0\n",
        "# Сумма = 10\n",
        "# Количество = 4\n",
        "#\n",
        "# Введите 1-е число: 0\n",
        "# Сумма = 0\n",
        "# Количество = 0"
      ],
      "execution_count": null,
      "outputs": []
    },
    {
      "cell_type": "markdown",
      "metadata": {
        "id": "6q_kdUvf0I7e"
      },
      "source": [
        "# Задание 4.2.8.\n",
        "Дано число n. Из чисел 0,5,10,15,20,25,... напечатать те, которые не превышают n."
      ]
    },
    {
      "cell_type": "code",
      "metadata": {
        "id": "SdpqqGtHma1E"
      },
      "source": [
        "n = int(input(\"Введите число \"))\n",
        "i = 0\n",
        "while n>i:\n",
        "  print(i)\n",
        "  i += 5\n",
        "# --------------\n",
        "# Пример вывода:\n",
        "#\n",
        "# n = 0\n",
        "# 0\n",
        "#\n",
        "# n = 10\n",
        "# 0\n",
        "# 5\n",
        "# 10\n",
        "#\n",
        "# n = 12\n",
        "# 0\n",
        "# 5\n",
        "# 10"
      ],
      "execution_count": null,
      "outputs": []
    },
    {
      "cell_type": "markdown",
      "metadata": {
        "id": "5Saz-kCM0JzL"
      },
      "source": [
        "# Задание 4.2.9.\n",
        "Дано вещественное число a. Найдите наименьшее натуральное n, для которого верно\n",
        "> ![image.png](data:image/png;base64,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)\n"
      ]
    },
    {
      "cell_type": "code",
      "metadata": {
        "id": "BXqsqhfxsy1V"
      },
      "source": [
        "a = float(input())\n",
        "n=0\n",
        "x_sum = 0\n",
        "while x_sum <= a:\n",
        "  s = 1/(n+1)\n",
        "  x_sum = x_sum + s\n",
        "  n = n+1\n",
        "else:\n",
        "  print(\"n=\", n)\n",
        "\n",
        "# --------------\n",
        "# Пример вывода:\n",
        "#\n",
        "# a = 1.5\n",
        "# n = 3\n",
        "#\n",
        "# a = 2\n",
        "# n = 4\n"
      ],
      "execution_count": null,
      "outputs": []
    },
    {
      "cell_type": "markdown",
      "metadata": {
        "id": "1ID3Lbj70KES"
      },
      "source": [
        "# Задание 4.2.10.\n",
        "Дано натуральное число. Определите сумму и количество его цифр."
      ]
    },
    {
      "cell_type": "code",
      "metadata": {
        "id": "VWj_o0B7C8Mf"
      },
      "source": [
        "n = int(input())\n",
        "if n>0:\n",
        "  n_sum = 0\n",
        "  n_count = 0\n",
        "  while n%10 != 0:\n",
        "    n_sum = n_sum + n%10\n",
        "    n_count = n_count + 1\n",
        "    n = n//10\n",
        "  else:\n",
        "    print(\"сумма цифр=\", n_sum, \"количество цифр=\", n_count)\n",
        "else:\n",
        "  print(\"Ошибка -_- \\nВведите другое значение\\n\")\n",
        "\n",
        "# --------------\n",
        "# Пример вывода:\n",
        "#\n",
        "# n = 12345\n",
        "# Сумма = 15\n",
        "# Количество = 5\n"
      ],
      "execution_count": null,
      "outputs": []
    },
    {
      "cell_type": "markdown",
      "metadata": {
        "id": "hvGZcE-j0KWh"
      },
      "source": [
        "# Задание 4.2.11.\n",
        "Вывести в строку 10 первых натуральных чисел, оканчивающихся на цифру k, кратных числу s и находящихся в интервале, левая граница которого равна start."
      ]
    },
    {
      "cell_type": "code",
      "metadata": {
        "id": "OibpS1d-avnr"
      },
      "source": [
        " \n",
        "start = int(input())\n",
        "k = int(input())\n",
        "s = int(input())\n",
        "n_count = 10\n",
        "n=start\n",
        "num=[]\n",
        "while n_count!=0:\n",
        "  while n%s!=0 or n%10!=k:\n",
        "    n+=1\n",
        "  else:\n",
        "    num+=[n]\n",
        "    n+=1\n",
        "  n_count-=1\n",
        "print(num)\n",
        "# --------------\n",
        "# Пример вывода:\n",
        "#\n",
        "# start = 100\n",
        "# k = 7\n",
        "# s = 9\n",
        "# 117 207 297 387 477 567 657 747 837 927"
      ],
      "execution_count": null,
      "outputs": []
    },
    {
      "cell_type": "markdown",
      "metadata": {
        "id": "fnVNC0Rb0JkV"
      },
      "source": [
        "# Задание 4.2.12.\n",
        "Даны целые числа a и b (a может быть больше b). Напечатайте:\n",
        "\n",
        "числа от минимального до максимального в строчку (разделяя пробелом);\n",
        "\n",
        "числа от максимального до минимального «столбиком»."
      ]
    },
    {
      "cell_type": "code",
      "metadata": {
        "id": "MPRsIa5p_tK8"
      },
      "source": [
        "a = int(input(\"a=\"))\n",
        "b = int(input(\"b=\"))\n",
        "for i in range(a,b+1):\n",
        "  print(i, end = ' ')\n",
        "for i in reversed(range(a,b+1)):\n",
        "  print(i)\n",
        "# --------------\n",
        "# Пример вывода:\n",
        "#\n",
        "# a = 1\n",
        "# b = 5\n",
        "# 1 2 3 4 5\n",
        "# 5\n",
        "# 4\n",
        "# 3\n",
        "# 2\n",
        "# 1\n"
      ],
      "execution_count": null,
      "outputs": []
    },
    {
      "cell_type": "markdown",
      "metadata": {
        "id": "eHxT6O8M0Izd"
      },
      "source": [
        "# Задание 4.2.13.# \n",
        "Для введенных с клавиатуры положительных целых чисел a и b (a≤b) определите:\n",
        "> сумму всех целых чисел от a до b;\n",
        "\n",
        "> произведение всех целых чисел от a до b;\n",
        "\n",
        "> среднее арифметическое всех целых чисел от a до b;\n",
        "\n",
        "> среднее геометрическое нечетных чисел от a до b.\n",
        "\n",
        "Отрезок поиска включает сами числа a и b. При выводе вещественных результатов оставьте два знака после запятой."
      ]
    },
    {
      "cell_type": "code",
      "metadata": {
        "id": "eWhxG3QdRLVJ"
      },
      "source": [
        "a = int(input())\n",
        "b = int(input())\n",
        "n_sum=0\n",
        "n_mult=1\n",
        "k=0\n",
        "mult_nechetnoe=1\n",
        "k_nechetnoe=0\n",
        "for i in range(a,b+1):\n",
        "    n_sum += i\n",
        "    n_mult *= i\n",
        "    k +=1\n",
        "    n_avg = n_sum/k\n",
        "    if i%2!=0:\n",
        "      mult_nechetnoe *= i\n",
        "      k_nechetnoe+=1\n",
        "    n_avg_geom = mult_nechetnoe**(1/(k_nechetnoe))\n",
        "\n",
        "print(\"Сумма =\", n_sum)\n",
        "print(\"Произведение =\", n_mult)\n",
        "print(\"Среднее арифметическое = {}\".format(n_avg))\n",
        "print(\"Среднее геометрическое нечетных чисел =\", \"%.2f\" % (n_avg_geom))\n",
        "\n",
        "# --------------\n",
        "# Пример вывода:\n",
        "#\n",
        "# a = 1\n",
        "# b = 5\n",
        "# Сумма = 15\n",
        "# Произведение = 120\n",
        "# Среднее арифметическое = 3.00\n",
        "# Среднее геометрическое нечетных чисел = 2.47\n"
      ],
      "execution_count": null,
      "outputs": []
    },
    {
      "cell_type": "markdown",
      "metadata": {
        "id": "rSvIClXg0IhI"
      },
      "source": [
        "# Задание 4.2.14.\n",
        "Начав тренировки, лыжник в первый день пробежал s км. (s>0, вещественное число). Каждый следующий день он увеличивал пробег на p % (0<p≤100, вещественное число) от пробега предыдущего дня. Определите:\n",
        "> пробег лыжника за второй, третий, …, десятый день тренировок;\n",
        "\n",
        "> какой суммарный путь он пробежал за первые 10 дней тренировок.\n",
        "\n",
        "При выводе вещественных результатов оставьте один знак после запятой."
      ]
    },
    {
      "cell_type": "code",
      "metadata": {
        "id": "LHbWIr_v0g8b"
      },
      "source": [
        "s = float(input())\n",
        "p = float(input())\n",
        "total = s\n",
        "for i in range(2,11):\n",
        "  s=s*(1+p/100)\n",
        "  print(\"Пробег за {}-ый день:\".format(i),(round(s,1)),\"км.\")\n",
        "  total += s\n",
        "print(\"Суммарный пробег: {:.1f} км.\".format(total))\n",
        "\n",
        "# --------------\n",
        "# Пример вывода:\n",
        "#\n",
        "# Пробег за 1-й день (км.) = 5\n",
        "# На сколько увеличивает пробег (%) = 10\n",
        "# Пробег за 2-й день: 5.5 км.\n",
        "# Пробег за 3-й день: 6.1 км.\n",
        "# Пробег за 4-й день: 6.7 км.\n",
        "# Пробег за 5-й день: 7.3 км.\n",
        "# Пробег за 6-й день: 8.1 км.\n",
        "# Пробег за 7-й день: 8.9 км.\n",
        "# Пробег за 8-й день: 9.7 км.\n",
        "# Пробег за 9-й день: 10.7 км.\n",
        "# Пробег за 10-й день: 11.8 км.\n",
        "# Суммарный пробег: 79.7 км.\n"
      ],
      "execution_count": null,
      "outputs": []
    },
    {
      "cell_type": "markdown",
      "metadata": {
        "id": "IGnN5KW80IJ1"
      },
      "source": [
        "# Задание 4.2.15.\n",
        "Известна масса каждого предмета в кг., загружаемого в грузовик. Определить, возможна ли перевозка груза, если грузоподъемность грузовика равна p кг."
      ]
    },
    {
      "cell_type": "code",
      "metadata": {
        "id": "6aH5e-Zp35or"
      },
      "source": [
        "p = int(input(\"Грузоподъемность грузовика = \"))\n",
        "n = int(input(\"Количество предметов = \"))\n",
        "total = 0\n",
        "for i in range(1,n+1):\n",
        "  m = int(input())\n",
        "  total += m\n",
        "  print(\"Масса {}-го предмета (кг.)=\".format(i), m)\n",
        "  \n",
        "if total <= p:\n",
        "  print(\"Да\")\n",
        "else:\n",
        "  print(\"Нет\")\n",
        "# Удалите комментарий и допишите код\n",
        "\n",
        "# --------------\n",
        "# Пример вывода:\n",
        "# Грузоподъемность грузовика (кг.) = 10\n",
        "# Количество предметов = 2\n",
        "# Масса 1-го предмета (кг.) = 3\n",
        "# Масса 2-го предмета (кг.) = 3\n",
        "# Да\n"
      ],
      "execution_count": null,
      "outputs": []
    },
    {
      "cell_type": "markdown",
      "metadata": {
        "id": "7LTtkXEP0H7M"
      },
      "source": [
        "# Задание 4.2.16.\n",
        "В области несколько районов. Заданы площади, засеваемые пшеницей (га.), и средняя урожайность (ц/га) в каждом районе.\n",
        "\n",
        "Определите количество пшеницы, собранное по области. При выводе вещественных результатов оставьте один знак после запятой."
      ]
    },
    {
      "cell_type": "code",
      "metadata": {
        "id": "UOmFRjwaFrd3"
      },
      "source": [
        "n = int(input())\n",
        "total = 0\n",
        "for i in range(1, n+1):\n",
        "  square = float(input())\n",
        "  print(\"Площадь {}-го района (га.) = \".format(i), square)\n",
        "  harvest = float(input())\n",
        "  print(\"Урожайность в {}-м районе (ц/га.) = \".format(i), harvest)\n",
        "  total += square*harvest\n",
        "print(\"Собрано пшениы: {:.1f} ц. \".format(total))\n",
        "\n",
        "# --------------\n",
        "# Пример вывода:\n",
        "#\n",
        "# Количество районов = 3\n",
        "# Площадь 1-го района (га) = 4\n",
        "# Урожайность в 1-м районе (ц/га.) = 2\n",
        "# Площадь 2-го района (га) = 7\n",
        "# Урожайность в 2-м районе (ц/га.) = 3\n",
        "# Площадь 3-го района (га) = 9\n",
        "# Урожайность в 3-м районе (ц/га.) = 4\n",
        "# Собрано пшеницы: 65.0 ц.\n"
      ],
      "execution_count": null,
      "outputs": []
    },
    {
      "cell_type": "markdown",
      "metadata": {
        "id": "wyOktzBD0Hb3"
      },
      "source": [
        "# Задание 4.2.17.\n",
        "Решите задачу № 4.2.7, организовав бесконечный цикл, который бы прерывался при выполнении условия, используя оператор break.\n",
        "\n",
        "№ 4.2.7\n",
        "Дана непустая последовательность целых чисел, оканчивающаяся нулем. Найти сумму и количество введенных чисел.\n"
      ]
    },
    {
      "cell_type": "code",
      "metadata": {
        "id": "2TlMxUvDMZYw"
      },
      "source": [
        "nums_sum = 0  # сумма\n",
        "nums_count = 0  # количество\n",
        "while True:\n",
        "    n = int(input())\n",
        "    nums_sum += n\n",
        "    nums_count += 1\n",
        "    if n == 0:\n",
        "      nums_count -= 1\n",
        "      print(\"Сумма = \", nums_sum, \"Количество = \", nums_count, end = ' ')\n",
        "      break\n",
        "\n",
        "# --------------\n",
        "# Пример вывода:\n",
        "#\n",
        "# Введите 1-е число: 1\n",
        "# Введите 2-е число: 2\n",
        "# Введите 3-е число: 3\n",
        "# Введите 4-е число: 4\n",
        "# Введите 5-е число: 0\n",
        "# Сумма = 10\n",
        "# Количество = 4\n",
        "#\n",
        "# Введите 1-е число: 0\n",
        "# Сумма = 0\n",
        "# Количество = 0\n"
      ],
      "execution_count": null,
      "outputs": []
    },
    {
      "cell_type": "markdown",
      "metadata": {
        "id": "kq6YfuXwSnIn"
      },
      "source": [
        "#  Задание 4.2.19\n",
        "Выведите на экран (в строку) все целые числа от a до b, кратные некоторому числу c."
      ]
    },
    {
      "cell_type": "code",
      "metadata": {
        "id": "dU7Qvp0OpcuC"
      },
      "source": [
        "a = int(input(\"a=\"))\n",
        "b = int(input(\"b=\"))\n",
        "c = int(input(\"c=\"))\n",
        "for i in range(a,b+1):\n",
        "  if i % c == 0:\n",
        "    print(i, end=' ')\n",
        "\n",
        "# --------------\n",
        "# Пример вывода:\n",
        "#\n",
        "# a = 1\n",
        "# b = 10\n",
        "# c = 2\n",
        "# 2 4 6 8 10\n"
      ],
      "execution_count": null,
      "outputs": []
    },
    {
      "cell_type": "markdown",
      "metadata": {
        "id": "AjWp6QbNSqg9"
      },
      "source": [
        "# Задание 4.2.20\n",
        "Выведите на экран (в строку) все трехзначные натуральные числа, сумма цифр которых равна целому числу n (0<n≤27)."
      ]
    },
    {
      "cell_type": "code",
      "metadata": {
        "id": "sOMavLJMrnGN",
        "colab": {
          "base_uri": "https://localhost:8080/"
        },
        "outputId": "bdecdb53-383f-4255-8571-c00db81579ce"
      },
      "source": [
        "n = int(input())\n",
        "if n in range(1,27):\n",
        "  for i in range(1,1000,1):\n",
        "    if len(str(i))==3 and :\n",
        "      a=i//100\n",
        "      b=(i//10)%10\n",
        "      c=i%100\n",
        "      if n==(a+b+c):\n",
        "        print(i, end = ' ')\n",
        "else:\n",
        "  print(\"Ведите другие значения\") \n",
        "# --------------\n",
        "# Пример вывода:\n",
        "#\n",
        "# n = 3\n",
        "# 102 111 120 201 210 300\n"
      ],
      "execution_count": null,
      "outputs": [
        {
          "output_type": "stream",
          "text": [
            "3\n",
            "102 201 300 "
          ],
          "name": "stdout"
        }
      ]
    },
    {
      "cell_type": "code",
      "metadata": {
        "id": "TpCka0sKjcPP"
      },
      "source": [
        "n = int(input())\n",
        "if n in range(1,27):\n",
        "  for i in range(1,1000,1):\n",
        "    if len(str(i))==3 and (i//100+(i//10)%10+i%100)==n:\n",
        "      print(i, end = ' ')\n",
        "else:\n",
        "  print(\"Ведите другие значения\") "
      ],
      "execution_count": null,
      "outputs": []
    },
    {
      "cell_type": "markdown",
      "metadata": {
        "id": "JUpqCECwSslh"
      },
      "source": [
        "# Задание 4.2.21\n",
        "Известно количество учеников в классе и их рост (см.); рост мальчиков условно задан отрицательными числами. Определите средний рост мальчиков и средний рост девочек.\n",
        "\n",
        "При выводе вещественных результатов оставьте один знак после запятой."
      ]
    },
    {
      "cell_type": "code",
      "metadata": {
        "id": "7syNWZlOmxFu"
      },
      "source": [
        "n = int(input())\n",
        "m=0\n",
        "d=0\n",
        "r_d=0\n",
        "r_m=0\n",
        "for i in range(n):\n",
        "  r=int(input())\n",
        "  if r>0:\n",
        "    d += 1\n",
        "    r_d += r\n",
        "  else:\n",
        "    m += 1\n",
        "    r_m += r\n",
        "r_sr_d= r_d / d\n",
        "r_sr_m= -(r_m / m)\n",
        "print(\"Средний рост мальчиков: {:.1f}\".format(r_sr_m))\n",
        "print(\"Средний рост девочек: {:.1f}\".format(r_sr_d))\n",
        "\n",
        "# --------------\n",
        "# Пример вывода:\n",
        "#\n",
        "# n = 5\n",
        "# Рост 1-го ученика = 150\n",
        "# Рост 2-го ученика = -150\n",
        "# Рост 3-го ученика = 160\n",
        "# Рост 4-го ученика = 170\n",
        "# Рост 5-го ученика = 180\n",
        "# Средний рост мальчиков: 150.0\n",
        "# Средний рост девочек: 165.0\n"
      ],
      "execution_count": null,
      "outputs": []
    },
    {
      "cell_type": "markdown",
      "metadata": {
        "id": "WBBRp8uKStcY"
      },
      "source": [
        "# Задание 4.2.22\n",
        "Даны n вещественных чисел. Определите максимальное и минимальное из них.\n",
        "\n",
        "При выводе вещественных результатов оставьте два знака после запятой."
      ]
    },
    {
      "cell_type": "code",
      "metadata": {
        "id": "_0VaO-eitmx5"
      },
      "source": [
        "n = int(input(\"Введите количество чисел\"))\n",
        "a=float(input(\"Введите первое число\"))\n",
        "a_max = None\n",
        "a_min = None\n",
        "b=a\n",
        "a_max=a\n",
        "a_min=a\n",
        "for i in range(1, n):\n",
        "  a=float(input(\"Введите\"))\n",
        "  if str(a)>str(a_max):\n",
        "    a_max=a\n",
        "  elif str(a)<str(a_min):\n",
        "    a_min=a\n",
        "  else:\n",
        "    a_max=a_max\n",
        "    a_min=a_min\n",
        "if b>a_max:\n",
        "  a_max=b\n",
        "elif b<a_min:\n",
        "  a_min=b\n",
        "else:\n",
        "  a_max=a_max\n",
        "  a_min=a_min\n",
        "print(\"Максимум: {:.2f}\".format(a_max))\n",
        "print(\"Минимум:\", \"%.2f\"%(a_min))\n",
        "# --------------\n",
        "# Пример вывода:\n",
        "# n = 4\n",
        "# 1-е число = 6.2\n",
        "# 2-е число = 3.8\n",
        "# 3-е число = 1.1\n",
        "# 4-е число = 9.66\n",
        "# Максимум: 9.66\n",
        "# Минимум: 1.10"
      ],
      "execution_count": null,
      "outputs": []
    },
    {
      "cell_type": "markdown",
      "metadata": {
        "id": "b8ddwGIHSuVq"
      },
      "source": [
        "# Задание 4.2.23\n",
        "Дано натуральное число n. Определите, является ли оно членом последовательности Фибоначчи ."
      ]
    },
    {
      "cell_type": "code",
      "metadata": {
        "id": "SVBJxuXGliSf"
      },
      "source": [
        "n = int(input())\n",
        "a=0\n",
        "b=1\n",
        "c=[]\n",
        "if n==0:\n",
        "  print(\"Является\")\n",
        "else: \n",
        "  for i in range(0,n):\n",
        "    f=a+b\n",
        "    a=b\n",
        "    b=f\n",
        "    c += [f]\n",
        "  print(\"Является\" if n in c else \"Не является\")\n",
        " \n",
        "# --------------\n",
        "# Пример вывода:\n",
        "#\n",
        "# n = 7\n",
        "# Не является\n",
        "#\n",
        "# n = 8\n",
        "# Является"
      ],
      "execution_count": null,
      "outputs": []
    }
  ]
}