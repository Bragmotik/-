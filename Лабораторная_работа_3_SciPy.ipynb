{
  "nbformat": 4,
  "nbformat_minor": 0,
  "metadata": {
    "colab": {
      "name": "Лабораторная работа 3 SciPy",
      "provenance": [],
      "collapsed_sections": [],
      "authorship_tag": "ABX9TyMYT0szXRV2nwfxtsCz7T2v",
      "include_colab_link": true
    },
    "kernelspec": {
      "name": "python3",
      "display_name": "Python 3"
    },
    "language_info": {
      "name": "python"
    }
  },
  "cells": [
    {
      "cell_type": "markdown",
      "metadata": {
        "id": "view-in-github",
        "colab_type": "text"
      },
      "source": [
        "<a href=\"https://colab.research.google.com/github/Bragmotik/laboratory/blob/main/%D0%9B%D0%B0%D0%B1%D0%BE%D1%80%D0%B0%D1%82%D0%BE%D1%80%D0%BD%D0%B0%D1%8F_%D1%80%D0%B0%D0%B1%D0%BE%D1%82%D0%B0_3_SciPy.ipynb\" target=\"_parent\"><img src=\"https://colab.research.google.com/assets/colab-badge.svg\" alt=\"Open In Colab\"/></a>"
      ]
    },
    {
      "cell_type": "code",
      "metadata": {
        "id": "3eWKJj8vWvn0"
      },
      "source": [
        "from scipy import integrate \n",
        "import numpy as np\n",
        "from math import sqrt\n",
        "from matplotlib import pyplot as plt\n",
        "from scipy import *\n",
        "from scipy.integrate import simps\n",
        "from numpy.lib.scimath import *"
      ],
      "execution_count": null,
      "outputs": []
    },
    {
      "cell_type": "markdown",
      "metadata": {
        "id": "tdp8m8l0x3n0"
      },
      "source": [
        "# Задание 1 вариант 2\n",
        "\n",
        "Напишите программу для численного вычисления определённого интеграла с помощью средств SciPy. Сравните результаты вычисления различными функциями интегрирования с точным решением.\n",
        "\n",
        "\n",
        "> ![image.png](data:image/png;base64,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)\n",
        "\n",
        "\n",
        "\n",
        "\n"
      ]
    },
    {
      "cell_type": "markdown",
      "metadata": {
        "id": "d9A6aEiqUsui"
      },
      "source": [
        "## Аналитическоe решение\n"
      ]
    },
    {
      "cell_type": "markdown",
      "metadata": {
        "id": "luH8Eyapcn3F"
      },
      "source": [
        "## Решение модуль SciPy quad"
      ]
    },
    {
      "cell_type": "code",
      "metadata": {
        "id": "v1Ogwbykx2uN"
      },
      "source": [
        "def f(x):\n",
        "  return 1/(x*sqrt(x**2+1))\n",
        "integrate.quad(f, 0.1, 1.0)\n"
      ],
      "execution_count": null,
      "outputs": []
    },
    {
      "cell_type": "markdown",
      "metadata": {
        "id": "Ti7DhjfIhD5F"
      },
      "source": [
        "## Решение методом Симпсона"
      ]
    },
    {
      "cell_type": "code",
      "metadata": {
        "id": "k7ZdwqIsc7oE"
      },
      "source": [
        "def f(x):\n",
        "  return 1/(x*sqrt(x**2+1))\n",
        "\n",
        "x=np.arange(0.1, 1.01, 0.01)\n",
        "y=f(x)\n",
        "I1=simps(y,x)\n",
        "print(I1)"
      ],
      "execution_count": null,
      "outputs": []
    },
    {
      "cell_type": "markdown",
      "metadata": {
        "id": "sa6wtKDzhSy7"
      },
      "source": [
        "## Метод трапеции"
      ]
    },
    {
      "cell_type": "code",
      "metadata": {
        "id": "BZXQcvdhhQSN"
      },
      "source": [
        "def f(x):\n",
        "  return 1/(x*sqrt(x**2+1))\n",
        "\n",
        "x=np.arange(0.1, 1.01, 0.01)\n",
        "result=trapz(f(x), x)\n",
        "result"
      ],
      "execution_count": null,
      "outputs": []
    },
    {
      "cell_type": "markdown",
      "metadata": {
        "id": "i_n356sIn2Tg"
      },
      "source": [
        "# Задание 2 \n",
        "Напишите программу для численного решения обыкновенного дифференциального уравнения с заданным начальным условием с помощью средств SciPy. Сравните результат вычисления\n",
        "с точным решением. Нарисуйте графики точного и численного решений, а также относительной ошибки численного решения."
      ]
    },
    {
      "cell_type": "markdown",
      "metadata": {
        "id": "kc_kvFMIoUT7"
      },
      "source": [
        "Примечание. Так как мы ещё не прошли дифференциальные уравнения полностью и я не знаю, как решать дифуры 2-го порядка, я взяла другой вариант --- 14"
      ]
    },
    {
      "cell_type": "markdown",
      "metadata": {
        "id": "15WwKa6Gbvly"
      },
      "source": [
        "![image.png](data:image/png;base64,iVBORw0KGgoAAAANSUhEUgAAAP8AAAAtCAYAAABh/r3uAAAQeklEQVR4Ae2bCVyU1frHS0Mw696ueTOvlihbmriS4vJPkVzIFTUlFYwMQSXTUEkWTcUlNS20FE1yBXMBt9QrkfhRIMUP7iauaGmKpLggM/+Z9/O977DMvDPMwLCK8vL5vM55z/Y85/ec3znPc97jc8h/MgIyAtUSgeeq5ajlQcsIyAggk1+eBDIC1RQBmfzV1PDysGUEZPLLc0BGoJoiIJO/mhpeHraMgEx+eQ7ICFRTBGTyV1PDy8OWEZDJL88BGYFqioBM/mpqeHnYMgIy+eU5ICNQTRGQyV9NDS8PW0ZAJn91mAPCX+z90oMeHVvR2i2YvTeF6jBqeYzFICCTvxiAnoVi1bkYNh6+Kw7lHgmftaRtSCqqZ2FgJRnDg1Ns255KjrltVGfYHXOCLHPrP4X1nlnyC2o1VWp/E9Soq4BCD9YPo8dXaaifwslaapXvJbLAL5SfS+TxCNzcGcjouYfQLJvP4t8zR/5Hx1fg5dSA2jVqYPVaG4YvS+GhKcupUgjr2pjmPjFkVhAxhdsHmP9BG+pb1aCGZT2a9w1ix9UntO8KmWydMonNf1XQYE3h/CTzxZBn6+i+TEvMNq2FIJjYKB5xKLA3nlF/mig33WVJSkTxT+Svcskv7n6qIrccAbVKpd0h1Rd3ErE2mb/M5Irw988EeU1m9S8pHI1fzacd6lKjliNBR5TGwVVfZtOkD/BanMQj4zXKlqu+QoR7a1z9F7Emag1fj3uX1y2ep3braRQ1F8sm1FRrgb/2LeHbuNsVOpFNSX9S+Q/2+dGq30puGCGYcOtX5o0cwFCfsXgPGsLnmy9iOFOEW2sY1GIUMX+X9whU3EqOZErfFnQJPfZEwrBKIr+aO0lL8XZ2oPuM3woBnAerigsRw2hlbY9fzOP8rL84MGsg3T2WcOSeEesZ2CPndBIpd3X1VKkhtLKwxG1VuVvOQLLxV9XZcL747neJYbNJDnTEomYjfPcrjDeqoNx7R9exbOflXF1Uf2cggamCJFaBbsXF/dvu9emzysiCpzzB/Hf/w7sLzuViImRsZaRNCybGG0b5d9k4pAHOc85I7FjWsYkhReIGwoP7Yf2CBY7BKeXYt/m6VTj5lbePs232cHq7D6a3vQ0uJsivvroOvw/64GojIb9mHKpLrBrqSOcJu8nQ8dqsEaqvLOLdVzoz/2yR7oZZfZWmkpBxg5sGJ0zKQ5Ows6iHZ6xBQWkEmNnmYfIcXGzteadTJzp1dKLdxxu4VUIszRRVpaqpTs/CqU575pwztL/oBa1xp26dXizXhkAK4sY2pk6HOZzR8zQFrn/jwovNA/nN0C0o62izt+DxyjNLfiUnlnrh7r2Yg9e3M66ZCfKr/2Cz7zDmxC5lmDhJtTt/Prj3YsfS1q4fS8/rWaUY6JWcXTSIAV+nohftKc+wKdSPoe850dY7itv5JFClhOHSvB/h+pYvRkbJixX7xtDon+Kk+7O82Kfm6u55jB/mSjsnb6Jy/dt7JH89mJY2XfgyuRQzVrjPjQsXSEtLK+K5yI0sAUXmNS5o6l1I506OwKP0ZHZtiiY2/iyZ+eYS7t/g4gVdXxcu3eKRoCDzukTGBbG/++WFicYuai4v7ILlqyOJMVxnxXOAlW4vYWEfQKIEnsxVblhZtGXGSf15pojz481arQg9rp9fcusbtMjZwah/P7Pklwz28Q4T5Be4vf1T3Cfv486l7xliuPOLXQg3Ihlha8ewiGtmnVI/uHyAyKk9afyPN+g+ZRuXJAZGPPRKOyKWj7LHop4X2/Mnhjr9J8a2tcbjJ72lQpSeTeIyf3x9fU0/fgFEnjBnYig4NKk59n77yvETkkDW1WMciJpM539Z4jTrJJfX++H+8QR8PHyIOG2OXhI7aZKqs2yd6UsfxybYOr7P2C+CCJ6meabh37cNttaOvO87k59OPCbj0EqCPDrTrEkHPls0i5HuHzHB35u+bURPY9j3nBQjONWZLcz2daONtTV2bQYw6asdpCkzOLz8Mwa0boqNdSsGjA9j29nidVWe2USo31Dec2qLd1SBO68iJcyF5v3CJbt2FuvdX8aiRRApht0q9vJJw5rU6rqYdMl6k7P7Y16vWYf+a+7pAaI+F0Z7MXx0XXZDL7/MLxryvyYlv8Cf0d442rkyr5DSZZZWqIMKd/u1Ek2QX7izj6n9xhMjul/qS98xyAj5ydnLREcbOk75leIjZTXXk7ex+it/3OxeosbzVrSclqRVoyCh2O9LIysXwrUnQUpS5gWy+rpkNuRWVnH9yG527txp+tm1j+Na97FAQuFf9dVVDHQaTWyF+NzZ7PmkIVat++E/J46/DYdRWJ1ichQc/KIDDt1mc0y7eKo4tbAXDi0n8l/Jbirc+lFcnJvQYmA45/INpDi+gL62Lfi4gKCKBILb2xqEfXfZM8EJh/aBJBRv2Fx9hcw0jhyIZJS9BfW8tud/t1eT/pPoHVp7oF27VamEtLKglsu3FDJpViR9LZ/Hsu+PPJCgoIgfR+OaFnRecEmSKyZz69ekif8B/XzNW3Yiy/yL2BjETcMvILJwO02OEfJfW/shdo06lc5jMy7FZO4TJn8WCcH98Vmft6OrL5ogvzhxprVvSgvf7eQfBZockF7B3Tg+bWbBC9bj9bI1L+ozYjxYuyUhqXnbgvryaqbOT9IPEQq1KkOG+hI/jOjP9EOGB0oFfT5g65iWODg4mH6adWBKnGmWZP00jLqW3VhyrczMF5VSkBTSmbeMkb9tAHFS8t/ZwChbW/ovzjs8yx2RMpX5rra0+2xf3oKtSGR6ZztcZ6fkHfgKd0hcOJIeTi2wdw7isOlhFQAk+VWw37cRVi7hulN8ZQrzAlfriK7Yk7u7W7qtKvyd/u4q3ETyv+i+Uc/emg3hDZH8znPPS2SJyexNfPByDV4eEq2fr3lTXefI7iI2BnHT2LXveOF2mpxC5DderaJynyj5HybNZtCIlVzId8uKIn9wh6a8PSZWz1jFg6LmyiIx7nttVOGqGSvoVbshPnvFWSdcIzr0Kw5KtwFtCxXpSTuIiYkx/cTuJqXICyR3OfjlCCZsvW5W2KIVXaKEGD5t9qRRrYaM3iNhZon6kFYuKfnt8FqXofuMKPzB6qF2NPPcQKamWyn51TeImzEc74UJ/BrWnbdKTH41Z2Y5UbtlCHlrtxjfr57K/CRJyJazjRF1a2DZf23hz7hi2fB/iWV9VuuFXzmxntSrYUnviAwpECJJY/Gsl1dfv6CMb9WW/MJtNno2w9GpG++5dM97/s+Jtxs3oVV7F95z9WJFQbya818CWjXlnc/3m+H26xsk68f+1HX5Rj9T85YTw4hXX8J9fRaXN0xncaKpq0A5JC2fyPjx400//lNZY3BIpBP4iGPffMyYH87p6a7KLN/PbcLf+5k/ZzETW4thTnB5fDcuOflHri2IwcXRq6+xcrAtzUZFiZeKxb8C8s/YzrYpHvitSBVdbiWpc0pDfshY0YvaDX3IW7ujCf3qoJ4LT84uvF8XCdt7JYU+9KrPM8/ZAov2c5B+CMiI6I3lC/Z8flgb5+SZMX8hedF9Q9679F9VOkk7itgYxE0jdneKtIUuXW3JL0IgqFUolUrto0hbirsY8/tuuY9Sc9knHyZB41ba2TIg/II2T4egLqW6dZqkEzd1JFOeZ1n/jvjvLWR+UB5ikl1tnP1mEhpxwvw73zpxZqQecmxJf9oPnMm6zZvZnPtEszY8kEFe35JWMEAzejJeJYcrh+I5lZnOlmkhbLuZzV6fhtTuuoTL13bx/abfi8TLeJ8FuSUlvw0956bq7nAokpnZxRbngnOaXPLb0KxlTyZsPJ8fvpWe/DkxI3j1JXfWZ11mw/TFFFq7lYkEOLxgPOYXv6qfnv0OVnU/ZIt2zVeKh7F21LL9jIOGIUj2Rga9WJMGo38uAEf3m5PE8olFbAzipuE/dY2uvjRVbcifGYW3fVM6iZPBVNyuOrUQN5H8ozbkOopamLL3B+Bs48Jc3cmTtkyXUHI4wAGLGi9i3XU4/pP88R7mSXDMFd2E1FUWd6bzzHW2otGQdVwpMwmlHRekxQkW3pP6NZ/nueee03+er4Pr0nSdi1zQpKS/injGW79AnUYuBMdl5vaXFetFA4t/085nrfbwraTd5tV/TPyUd3DoHEKSlgxKjs12wcHRn92SK5G5i7OttXg4+AXxdzTnDQKZcVPpatOWCbvyzzge/0Kgkw3Ok+MkoZtmgemCQ7sAfjE1KUwon3tforYzfjNDiThhJMwRbrG8pyUWLYM5Znjar9Hw1lY8GzfEKzb/ZD9HXCya16fvqvRCC6ZwIxyXWuJZwDyDswATupmdnRt+WNBsanL+HH3IgaCOvPFmJwJ23yr7/ChGkQqP+VW/RxEyzpePerfFvrE1NvadGOw9jrDYqzrVhAz2L/Tlw64tsBXr2LdxY/SCuLz79mJ4EOPbjtYeq7lcHEnVd0lLimPP3ngST/1ZONbTSRTd/qOEeQeTkG97adHTkxa4+3syx65LYl0hi4spZ8koDquiBqk8QsSYgXSxF+1l3ZxuQ2fy85+ijeZ60P3tJtg0tqdTXx+W5d9RzvPM7BkZOo8RLq4M6N+DDvZv896kbaSLxFMeWY7fgI4009j/rc58MCGSk9nH+fHTwbz7lpjX2IEuA3xZedTA3S5CR/X5uThbNWLIuiuFyJrXTMWxYPE2Zf2P2GlkbchdoA7MoFcXD+auXcM8z+68HxqnvfchFa1Mmsxbtd5k7C/aVVBaXKr0w9M7WTbNTTxgFK97N/cgLDKBa/+fyWbPN3mlQQNe7/kdRR4jlUqqfqMKJ7++uJK+PSZtwxi6dvVn21Ujy3dJuyuor7xIdFAQmypmyy+QUm1+83Z+e7yj76F++AdnUo5yMv1ehV5ZzTkahndwQt55ggmkFQmfYmPlzLzzpldC4cEVjiQc5Ph1iStj0F/Wenf+WV+8LGT0QNigcnm83l2Lp+f6wl8pyqNvSR9Vmvyq8+sJmRbJ0dumjScZSzFJzW1DD9x8phP00ScsSzVt7GI6kosNENCSP6py/vOr8mI0QUGbig/XlL8R+HZd8VC3LHopOOBvi7XP3qI9SQNMSv0qXkJLCBvHgqSKn59VmvylBtBow4fEh/Sgy8DJRJ+VuMlG68qZ5iIgKO5zZUcA3Zra4Bq4j/T75rvu5srIrSf+R5ylHm74TA/io0+WYd7aLZAe0Yemg9fnfW4skcD8yorDBLTuTNipcvQ8Tekh3OPY5h/YfrpyXIxqRH5TiMv5ZUEg69D3fBEQwJTcZzLBayUn/mXp2LDtw3hCenRh4ORoSrR2K44zt2cfFp0rDXkFMrZ4031SvN59AEPVntZ3mfxPq+Vkvc1GQJUWyehRSzhp9ODPdDfCze1M9p5PsvZzoOm6T2OJTP6n0WqyziVGIPtsFGERv5l/n0N1ig1hESSW/T9JlFjXymogk7+ykJblyAhUMQRk8lcxg8jqyAhUFgIy+SsLaVmOjEAVQ0AmfxUziKyOjEBlISCTv7KQluXICFQxBGTyVzGDyOrICFQWAjL5KwtpWY6MQBVDQCZ/FTOIrI6MQGUhIJO/spCW5cgIVDEEZPJXMYPI6sgIVBYCMvkrC2lZjoxAFUPgf118cevTWIALAAAAAElFTkSuQmCC)"
      ]
    },
    {
      "cell_type": "markdown",
      "metadata": {
        "id": "Kp1mlPaho2Aa"
      },
      "source": [
        "## Аналитическое решение\n"
      ]
    },
    {
      "cell_type": "code",
      "metadata": {
        "id": "rwMQOT0gevkq"
      },
      "source": [
        "#аналитическое решение и график\n",
        "def func1(x):\n",
        "  return (2/3)*x-(1/9)*(x**3)+1\n",
        "\n",
        "x = np.linspace(0, 1, 10)\n",
        "func1(x)"
      ],
      "execution_count": null,
      "outputs": []
    },
    {
      "cell_type": "code",
      "metadata": {
        "id": "DG4oz0rssXtd"
      },
      "source": [
        "# настройки осей\n",
        "plt.xlabel('x')\n",
        "plt.ylabel('y')\n",
        "# рисование графиков\n",
        "plt.plot(xi, func1(x), color='red')\n",
        "plt.show()"
      ],
      "execution_count": null,
      "outputs": []
    },
    {
      "cell_type": "markdown",
      "metadata": {
        "id": "BFoN41HKo6w1"
      },
      "source": [
        "## Решение с методом odeint"
      ]
    },
    {
      "cell_type": "code",
      "metadata": {
        "id": "DkrQo2VmJCDv"
      },
      "source": [
        "def func(y,x):\n",
        "  return (2-x**2)/3\n",
        "x = np.linspace(0, 1, 10)\n",
        "y0 = 1.0\n",
        "sol = integrate.odeint(func, y0, xi)\n",
        "sol"
      ],
      "execution_count": null,
      "outputs": []
    },
    {
      "cell_type": "code",
      "metadata": {
        "id": "rIPNN_JHt-yX"
      },
      "source": [
        "plt.xlabel('x')\n",
        "plt.ylabel('y')\n",
        "# рисование графиков\n",
        "l1=plt.plot(xi, sol, '-', color='grey')\n",
        "plt.show()"
      ],
      "execution_count": null,
      "outputs": []
    },
    {
      "cell_type": "code",
      "metadata": {
        "id": "sfWwkEj9rbdo"
      },
      "source": [
        "# настройки осей\n",
        "plt.xlabel('x')\n",
        "plt.ylabel('y')\n",
        "# рисование графиков\n",
        "l1=plt.plot(xi, sol, '-', color='grey', label='точное решение')\n",
        "l2=plt.plot(xi, func1(x), color='red', label='аналитическое решение')\n",
        "plt.legend()\n",
        "# как видно численое и точное решения совпадают (см.график)"
      ],
      "execution_count": null,
      "outputs": []
    },
    {
      "cell_type": "markdown",
      "metadata": {
        "id": "npmgSYc7k2-N"
      },
      "source": [
        "# Вопросы для самоконтроля\n",
        "1. Результатом работы функции integrate.quad() является кортеж\n",
        "из двух чисел. Что это за числа?\n",
        "2. В каком модуле SciPy содержатся функции для решения обыкновенных дифференциальных уравнений?\n",
        "3. Для решения систем ОДУ какого вида предназначена функция\n",
        "odeint()?\n",
        "4. Воспользуйтесь функцией help() и выясните, какие функции\n",
        "помимо odeint() имеются в модуле integrate для решения обыкновенных дифференциальных уравнений.\n",
        "5. Допустим, что g и f — одномерные массивы одинакового размера. Поясните результат работы команды\n",
        "G = interp1d(g, f, ‘cubic’)\n",
        "Какой тип имеет величина G?"
      ]
    },
    {
      "cell_type": "markdown",
      "metadata": {
        "id": "ewu0bzsAmEOk"
      },
      "source": [
        "# Ответы на вопросы:\n",
        ">1) Функция quad() возвращает кортеж из двух элементов, первый — значение интеграла, второй — точность вычисления.\n",
        "\n",
        "> 2) модуль integrate\n",
        "\n",
        "> 3) ОДУ первого и второго порядка\n",
        "\n",
        "> 4) Вместо функции help лучше воспользоваться dir()\n",
        "\n",
        "> 5) Функция interp1d() принимает в качестве первых двух аргументов одномерные массивы координат g и соответствующих\n",
        "значений некоторой величины f. Функция возвращает класс, реализующий функцию, интерполирующую исходные данные\n",
        "кубическим методом, т.е. будет показана зависимость между двумя массивами, а величина G будет иметь тип Class.\n",
        "\n"
      ]
    },
    {
      "cell_type": "code",
      "metadata": {
        "id": "nF5saPqCk8Om"
      },
      "source": [
        "# 4 вопрос\n",
        "dir(integrate)"
      ],
      "execution_count": null,
      "outputs": []
    }
  ]
}