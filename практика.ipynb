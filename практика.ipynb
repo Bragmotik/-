{
  "nbformat": 4,
  "nbformat_minor": 0,
  "metadata": {
    "colab": {
      "name": "практика",
      "provenance": [],
      "authorship_tag": "ABX9TyOhcReCb9k6fkfQvmJg/X3N",
      "include_colab_link": true
    },
    "kernelspec": {
      "name": "python3",
      "display_name": "Python 3"
    }
  },
  "cells": [
    {
      "cell_type": "markdown",
      "metadata": {
        "id": "view-in-github",
        "colab_type": "text"
      },
      "source": [
        "<a href=\"https://colab.research.google.com/github/Bragmotik/laboratory/blob/main/%D0%BF%D1%80%D0%B0%D0%BA%D1%82%D0%B8%D0%BA%D0%B0.ipynb\" target=\"_parent\"><img src=\"https://colab.research.google.com/assets/colab-badge.svg\" alt=\"Open In Colab\"/></a>"
      ]
    },
    {
      "cell_type": "code",
      "metadata": {
        "id": "JBtF3yBgLFVW",
        "outputId": "d6289600-b1eb-4c15-ea76-1bcb4e4b3227",
        "colab": {
          "base_uri": "https://localhost:8080/",
          "height": 34
        }
      },
      "source": [
        "class human:\n",
        "  def __init__(self, name, age, iq):\n",
        "    self.name = name\n",
        "    self.age = age\n",
        "    if self.age < 0:\n",
        "        print('oops, necromancer detected =)')\n",
        "    self.iq = iq\n",
        "human1=human('masha', 14, 170)\n",
        "print(human1.name, human1.age, human1.iq)"
      ],
      "execution_count": null,
      "outputs": [
        {
          "output_type": "stream",
          "text": [
            "masha 14 170\n"
          ],
          "name": "stdout"
        }
      ]
    },
    {
      "cell_type": "code",
      "metadata": {
        "id": "eAhVkmnk_DGJ",
        "outputId": "dd37096d-6486-4276-b18f-43183306c6eb",
        "colab": {
          "base_uri": "https://localhost:8080/",
          "height": 119
        }
      },
      "source": [
        "from math import sqrt, pi\n",
        " \n",
        "class Point:\n",
        "  amount = 0\n",
        "  def __init__(self, *args):\n",
        "    if len(args)==2:\n",
        "      self.x = args[0]\n",
        "      self.y = args[1]\n",
        "    else:\n",
        "      self.x = self.y = 0\n",
        "    Point.amount += 1\n",
        "  def __del__(self):\n",
        "      Point.amount -= 1\n",
        "  def distance(self):\n",
        "    return (self.x ** 2 + self.y ** 2) ** 0.5\n",
        "  def __str__(self):\n",
        "    return '({}; {})'.format(self.x, self.y)\n",
        "p = Point(36, 42)\n",
        "print(p)\n",
        "print(round(p.distance(),2))\n",
        " \n",
        " \n",
        "class Circle(Point):\n",
        "  def __init__(self, x, y, radius):\n",
        "    self.centre=Point(x,y)\n",
        "    self.radius=radius\n",
        " \n",
        "  def LenCircle(self):\n",
        "    return 2*pi*self.radius\n",
        " \n",
        "  def Square(self):\n",
        "    return self.radius**2*pi\n",
        "  \n",
        "  def Move(self, x, y):\n",
        "    return self.centre.x\n",
        "    return self.centre.y\n",
        " \n",
        "  def distance(self):\n",
        "      return sqrt(self.centre.x**2 + self.centre.y**2)\n",
        " \n",
        "  def __str__(self):\n",
        "    return \"Circle: centre: {}, radius:{}\".format(self.centre, self.radius)\n",
        " \n",
        "circle=Circle(3,1,2)\n",
        "print(circle.LenCircle())\n",
        "print(circle.Square())\n",
        "print(circle.Move('x','y'))\n",
        "print(circle.distance())"
      ],
      "execution_count": null,
      "outputs": [
        {
          "output_type": "stream",
          "text": [
            "(36; 42)\n",
            "55.32\n",
            "12.566370614359172\n",
            "12.566370614359172\n",
            "3\n",
            "3.1622776601683795\n"
          ],
          "name": "stdout"
        }
      ]
    }
  ]
}